{
 "cells": [
  {
   "cell_type": "markdown",
   "metadata": {},
   "source": [
    "## L11 - Web scraping + machine learning in 15 minutes\n",
    "\n",
    "<img src=\"http://imgs.xkcd.com/comics/correlation.png\">\n",
    "\n",
    "This laboratory introduces two concepts:\n",
    "* How to download and process (scrape) more efficiently webpages\n",
    "* How to do simple text classification\n",
    ", which might be useful for your final project"
   ]
  },
  {
   "cell_type": "code",
   "execution_count": 1,
   "metadata": {
    "collapsed": false
   },
   "outputs": [
    {
     "name": "stdout",
     "output_type": "stream",
     "text": [
      "Monkey patch BeautifulSoup with custom rendering\n",
      "See `configure_ipython_beautifulsoup?` for configuration information\n",
      "Push 'BeautifulSoup' from 'bs4' into current context\n",
      "Push 'urlopen' from 'urllib2' into current context\n",
      "Push 'p' shortcut into current context\n",
      "Push 'requests' into current context\n"
     ]
    }
   ],
   "source": [
    "import pandas as pd\n",
    "from bs4 import BeautifulSoup\n",
    "%load_ext soup"
   ]
  },
  {
   "cell_type": "markdown",
   "metadata": {},
   "source": [
    "## BeautifulSoup\n",
    "\n",
    "Basic usage (adopted from the **excellent** original documentation at https://www.crummy.com/software/BeautifulSoup/bs4/doc/)\n"
   ]
  },
  {
   "cell_type": "code",
   "execution_count": 2,
   "metadata": {
    "collapsed": true
   },
   "outputs": [],
   "source": [
    "import urllib2"
   ]
  },
  {
   "cell_type": "code",
   "execution_count": 3,
   "metadata": {
    "collapsed": false
   },
   "outputs": [
    {
     "name": "stderr",
     "output_type": "stream",
     "text": [
      "/Users/kudkudak/anaconda/lib/python2.7/site-packages/bs4/__init__.py:166: UserWarning: No parser was explicitly specified, so I'm using the best available HTML parser for this system (\"lxml\"). This usually isn't a problem, but if you run this code on another system, or in a different virtual environment, it may use a different parser and behave differently.\n",
      "\n",
      "To get rid of this warning, change this:\n",
      "\n",
      " BeautifulSoup([your markup])\n",
      "\n",
      "to this:\n",
      "\n",
      " BeautifulSoup([your markup], \"lxml\")\n",
      "\n",
      "  markup_type=markup_type))\n"
     ]
    }
   ],
   "source": [
    "\n",
    "html_doc = \"\"\"\n",
    "<html><head><title>The Dormouse's story</title></head>\n",
    "<body>\n",
    "<p class=\"title\"><b>The Dormouse's story</b></p>\n",
    "\n",
    "<p class=\"story\">Once upon a time there were three little sisters; and their names were\n",
    "<a href=\"http://example.com/elsie\" class=\"sister\" id=\"link1\">Elsie</a>,\n",
    "<a href=\"http://example.com/lacie\" class=\"sister\" id=\"link2\">Lacie</a> and\n",
    "<a href=\"http://example.com/tillie\" class=\"sister\" id=\"link3\">Tillie</a>;\n",
    "and they lived at the bottom of a well.</p>\n",
    "\n",
    "<p class=\"story\">...</p>\n",
    "\"\"\"\n",
    "\n",
    "from bs4 import BeautifulSoup\n",
    "soup = BeautifulSoup(html_doc)"
   ]
  },
  {
   "cell_type": "code",
   "execution_count": 4,
   "metadata": {
    "collapsed": false
   },
   "outputs": [
    {
     "data": {
      "text/html": [
       "<div class=\"highlight\" style=\"background: #f8f8f8\"><pre style=\"line-height: 125%\"><span style=\"color: #008000; font-weight: bold\">&lt;body&gt;</span>\n",
       " <span style=\"color: #008000; font-weight: bold\">&lt;p</span> <span style=\"color: #7D9029\">class=</span><span style=\"color: #BA2121\">&quot;title&quot;</span><span style=\"color: #008000; font-weight: bold\">&gt;</span>\n",
       "  <span style=\"color: #008000; font-weight: bold\">&lt;b&gt;</span>\n",
       "   The Dormouse&#39;s story\n",
       "  <span style=\"color: #008000; font-weight: bold\">&lt;/b&gt;</span>\n",
       " <span style=\"color: #008000; font-weight: bold\">&lt;/p&gt;</span>\n",
       " <span style=\"color: #008000; font-weight: bold\">&lt;p</span> <span style=\"color: #7D9029\">class=</span><span style=\"color: #BA2121\">&quot;story&quot;</span><span style=\"color: #008000; font-weight: bold\">&gt;</span>\n",
       "  Once upon a time there were three little sisters; and their names were\n",
       "  <span style=\"color: #008000; font-weight: bold\">&lt;a</span> <span style=\"color: #7D9029\">class=</span><span style=\"color: #BA2121\">&quot;sister&quot;</span> <span style=\"color: #7D9029\">href=</span><span style=\"color: #BA2121\">&quot;http://example.com/elsie&quot;</span> <span style=\"color: #7D9029\">id=</span><span style=\"color: #BA2121\">&quot;link1&quot;</span><span style=\"color: #008000; font-weight: bold\">&gt;</span>\n",
       "   Elsie\n",
       "  <span style=\"color: #008000; font-weight: bold\">&lt;/a&gt;</span>\n",
       "  ,\n",
       "  <span style=\"color: #008000; font-weight: bold\">&lt;a</span> <span style=\"color: #7D9029\">class=</span><span style=\"color: #BA2121\">&quot;sister&quot;</span> <span style=\"color: #7D9029\">href=</span><span style=\"color: #BA2121\">&quot;http://example.com/lacie&quot;</span> <span style=\"color: #7D9029\">id=</span><span style=\"color: #BA2121\">&quot;link2&quot;</span><span style=\"color: #008000; font-weight: bold\">&gt;</span>\n",
       "   Lacie\n",
       "  <span style=\"color: #008000; font-weight: bold\">&lt;/a&gt;</span>\n",
       "  and\n",
       "  <span style=\"color: #008000; font-weight: bold\">&lt;a</span> <span style=\"color: #7D9029\">class=</span><span style=\"color: #BA2121\">&quot;sister&quot;</span> <span style=\"color: #7D9029\">href=</span><span style=\"color: #BA2121\">&quot;http://example.com/tillie&quot;</span> <span style=\"color: #7D9029\">id=</span><span style=\"color: #BA2121\">&quot;link3&quot;</span><span style=\"color: #008000; font-weight: bold\">&gt;</span>\n",
       "   Tillie\n",
       "  <span style=\"color: #008000; font-weight: bold\">&lt;/a&gt;</span>\n",
       "  ;\n",
       "and they lived at the bottom of a well.\n",
       " <span style=\"color: #008000; font-weight: bold\">&lt;/p&gt;</span>\n",
       " <span style=\"color: #008000; font-weight: bold\">&lt;p</span> <span style=\"color: #7D9029\">class=</span><span style=\"color: #BA2121\">&quot;story&quot;</span><span style=\"color: #008000; font-weight: bold\">&gt;</span>\n",
       "  ...\n",
       " <span style=\"color: #008000; font-weight: bold\">&lt;/p&gt;</span>\n",
       "<span style=\"color: #008000; font-weight: bold\">&lt;/body&gt;</span>\n",
       "</pre></div>\n",
       "<hr/>"
      ],
      "text/plain": [
       "<body>\\n<p class=\"title\"><b>The Dormouse's story</b></p>\\n<p class=\"story\">Once upon a time there were three little sisters; and their names were\\n<a class=\"sister\" href=\"http://example.com/elsie\" id=\"link1\">Elsie</a>,\\n<a class=\"sister\" href=\"http://example.com/lacie\" id=\"link2\">Lacie</a> and\\n<a class=\"sister\" href=\"http://example.com/tillie\" id=\"link3\">Tillie</a>;\\nand they lived at the bottom of a well.</p>\\n<p class=\"story\">...</p>\\n</body>"
      ]
     },
     "execution_count": 4,
     "metadata": {},
     "output_type": "execute_result"
    }
   ],
   "source": [
    "soup.html.body"
   ]
  },
  {
   "cell_type": "code",
   "execution_count": 5,
   "metadata": {
    "collapsed": false
   },
   "outputs": [
    {
     "data": {
      "text/plain": [
       "[u'\\n',\n",
       " <p class=\"title\"><b>The Dormouse's story</b></p>,\n",
       " u'\\n',\n",
       " <p class=\"story\">Once upon a time there were three little sisters; and their names were\\n<a class=\"sister\" href=\"http://example.com/elsie\" id=\"link1\">Elsie</a>,\\n<a class=\"sister\" href=\"http://example.com/lacie\" id=\"link2\">Lacie</a> and\\n<a class=\"sister\" href=\"http://example.com/tillie\" id=\"link3\">Tillie</a>;\\nand they lived at the bottom of a well.</p>,\n",
       " u'\\n',\n",
       " <p class=\"story\">...</p>,\n",
       " u'\\n']"
      ]
     },
     "execution_count": 5,
     "metadata": {},
     "output_type": "execute_result"
    }
   ],
   "source": [
    "list(soup.html.body.children)"
   ]
  },
  {
   "cell_type": "markdown",
   "metadata": {},
   "source": [
    "### What you get is a navigable tree!\n",
    "\n",
    "<img src=\"img/11/dom.png\">"
   ]
  },
  {
   "cell_type": "markdown",
   "metadata": {},
   "source": [
    "### Example: finding concert tickes\n",
    "\n",
    "Inspired by http://predictablynoisy.com/querying-craigslist-with-python/"
   ]
  },
  {
   "cell_type": "code",
   "execution_count": 6,
   "metadata": {
    "collapsed": false
   },
   "outputs": [],
   "source": [
    "## We will find all listings with word concert, probably ticket do buy (but not always)\n",
    "BASE_URL = ('http://chicago.craigslist.org/search/sss?query={}&sort=rel')\n",
    "search_term = \"concert\"\n",
    "results = []\n",
    "search_term = search_term.strip().replace(' ', '+')\n",
    "search_url = BASE_URL.format(search_term)\n",
    "soup = BeautifulSoup(urlopen(search_url).read())"
   ]
  },
  {
   "cell_type": "code",
   "execution_count": 7,
   "metadata": {
    "collapsed": true
   },
   "outputs": [],
   "source": [
    "content =  soup.find('div', 'content')"
   ]
  },
  {
   "cell_type": "code",
   "execution_count": 8,
   "metadata": {
    "collapsed": false
   },
   "outputs": [
    {
     "data": {
      "text/plain": [
       "7"
      ]
     },
     "execution_count": 8,
     "metadata": {},
     "output_type": "execute_result"
    }
   ],
   "source": [
    "len(list(content.children))"
   ]
  },
  {
   "cell_type": "code",
   "execution_count": 9,
   "metadata": {
    "collapsed": false
   },
   "outputs": [
    {
     "data": {
      "text/plain": [
       "u'<div class=\"content\" id=\"sortable-results\">\\n <section class=\"favlistsection\">\\n  <section class=\"favlistinfo\">\\n  </section>\\n  <section class=\"banishlistinfo\">\\n  </section>\\n </section>\\n <div class=\"rows\">\\n  <p class=\"row\" data-pid=\"5590744626\">\\n   <a class=\"i gallery\" data-ids=\"1:00C0C_cyn5m2Jbkw5,1:00G0G_a1NaV7x1K95,1:00Q0Q_3I21yQ5sRKL,1:00d0d_iZJtlcmIHHm,1:00q0q_VdIhbRe9hC,1:00u0u_kpMlSTo1WvH,1:00c0c_5w9z6j9JCHC,1:00808_jZs7eubo7nC,1:00p0p_etUVg7A1Tts,1:00T0T_3fGfXC6PIzt,1:00B0B_hdkdLEtA3UO\" href=\"/wcl/msd/5590744626.html\">\\n    <span class=\"price\">\\n     $579\\n    </span>\\n   </a>\\n   <span class=\"txt\">\\n    <span class=\"pl\">\\n     <span class=\"icon icon-star\" role=\"button\">\\n      <span class=\"screen-reader-text\">\\n       __(\"favorite this post\") ?&gt;\\n      </span>\\n     </span>\\n     <time datetime=\"2016-06-09 11:35\" title=\"Thu 09 Jun 11:35:08 AM\">\\n      Jun 9\\n     </time>\\n     <a class=\"hdrlnk\" data-id=\"5590744626\" href=\"/wcl/msd/5590744626.html\">\\n      <span id=\"titletextonly\">\\n       S6 Or'"
      ]
     },
     "execution_count": 9,
     "metadata": {},
     "output_type": "execute_result"
    }
   ],
   "source": [
    "content.prettify()[0:1000]"
   ]
  },
  {
   "cell_type": "code",
   "execution_count": 10,
   "metadata": {
    "collapsed": true
   },
   "outputs": [],
   "source": [
    "rows = content.find_all('p', 'row') # find <p class=\"row\" *>"
   ]
  },
  {
   "cell_type": "code",
   "execution_count": 11,
   "metadata": {
    "collapsed": false
   },
   "outputs": [
    {
     "data": {
      "text/html": [
       "<table><tr><th>Index</th><th>Render</th><th>source</th></tr><tr><td>0</td><td><html><body><p class=\"row\" data-pid=\"5590744626\"> <a class=\"i gallery\" data-ids=\"1:00C0C_cyn5m2Jbkw5,1:00G0G_a1NaV7x1K95,1:00Q0Q_3I21yQ5sRKL,1:00d0d_iZJtlcmIHHm,1:00q0q_VdIhbRe9hC,1:00u0u_kpMlSTo1WvH,1:00c0c_5w9z6j9JCHC,1:00808_jZs7eubo7nC,1:00p0p_etUVg7A1Tts,1:00T0T_3fGfXC6PIzt,1:00B0B_hdkdLEtA3UO\" href=\"/wcl/msd/5590744626.html\"><span class=\"price\">$579</span></a> <span class=\"txt\"> <span class=\"pl\"> <span class=\"icon icon-star\" role=\"button\"> <span class=\"screen-reader-text\"> __(\"favorite this post\") ?&gt;</span> </span> <time datetime=\"2016-06-09 11:35\" title=\"Thu 09 Jun 11:35:08 AM\">Jun 9</time> <a class=\"hdrlnk\" data-id=\"5590744626\" href=\"/wcl/msd/5590744626.html\"><span id=\"titletextonly\">S6 Original Slim Concert Hall GT Acoustic/Electric Guitar</span></a> </span> <span class=\"l2\"> <span class=\"price\">$579</span> <span class=\"pnr\"> <small> (lisle)</small> <span class=\"px\"> <span class=\"p\"> pic <span class=\"maptag\" data-pid=\"5590744626\">map</span></span></span> </span> </span> <span class=\"js-only banish-unbanish\"> <span class=\"banish\" title=\"hide\"><span class=\"icon icon-trash\" role=\"button\"></span><span class=\"screen-reader-text\">hide this posting</span></span> <span class=\"unbanish\" title=\"restore\"><span class=\"icon icon-trash red\" role=\"button\"></span><span class=\"screen-reader-text\">restore this posting</span></span></span> </span> </p></body></html></td><td><div class=\"highlight\" style=\"background: #f8f8f8\"><pre style=\"line-height: 125%\"><span style=\"color: #008000; font-weight: bold\">&lt;p</span> <span style=\"color: #7D9029\">class=</span><span style=\"color: #BA2121\">&quot;row&quot;</span> <span style=\"color: #7D9029\">data-pid=</span><span style=\"color: #BA2121\">&quot;5590744626&quot;</span><span style=\"color: #008000; font-weight: bold\">&gt;</span>\n",
       " <span style=\"color: #008000; font-weight: bold\">&lt;a</span> <span style=\"color: #7D9029\">class=</span><span style=\"color: #BA2121\">&quot;i gallery&quot;</span> <span style=\"color: #7D9029\">data-ids=</span><span style=\"color: #BA2121\">&quot;1:00C0C_cyn5m2Jbkw5,1:00G0G_a1NaV7x1K95,1:00Q0Q_3I21yQ5sRKL,1:00d0d_iZJtlcmIHHm,1:00q0q_VdIhbRe9hC,1:00u0u_kpMlSTo1WvH,1:00c0c_5w9z6j9JCHC,1:00808_jZs7eubo7nC,1:00p0p_etUVg7A1Tts,1:00T0T_3fGfXC6PIzt,1:00B0B_hdkdLEtA3UO&quot;</span> <span style=\"color: #7D9029\">href=</span><span style=\"color: #BA2121\">&quot;/wcl/msd/5590744626.html&quot;</span><span style=\"color: #008000; font-weight: bold\">&gt;</span>\n",
       "  <span style=\"color: #008000; font-weight: bold\">&lt;span</span> <span style=\"color: #7D9029\">class=</span><span style=\"color: #BA2121\">&quot;price&quot;</span><span style=\"color: #008000; font-weight: bold\">&gt;</span>\n",
       "   $579\n",
       "  <span style=\"color: #008000; font-weight: bold\">&lt;/span&gt;</span>\n",
       " <span style=\"color: #008000; font-weight: bold\">&lt;/a&gt;</span>\n",
       " <span style=\"color: #008000; font-weight: bold\">&lt;span</span> <span style=\"color: #7D9029\">class=</span><span style=\"color: #BA2121\">&quot;txt&quot;</span><span style=\"color: #008000; font-weight: bold\">&gt;</span>\n",
       "  <span style=\"color: #008000; font-weight: bold\">&lt;span</span> <span style=\"color: #7D9029\">class=</span><span style=\"color: #BA2121\">&quot;pl&quot;</span><span style=\"color: #008000; font-weight: bold\">&gt;</span>\n",
       "   <span style=\"color: #008000; font-weight: bold\">&lt;span</span> <span style=\"color: #7D9029\">class=</span><span style=\"color: #BA2121\">&quot;icon icon-star&quot;</span> <span style=\"color: #7D9029\">role=</span><span style=\"color: #BA2121\">&quot;button&quot;</span><span style=\"color: #008000; font-weight: bold\">&gt;</span>\n",
       "    <span style=\"color: #008000; font-weight: bold\">&lt;span</span> <span style=\"color: #7D9029\">class=</span><span style=\"color: #BA2121\">&quot;screen-reader-text&quot;</span><span style=\"color: #008000; font-weight: bold\">&gt;</span>\n",
       "     __(&quot;favorite this post&quot;) ?<span style=\"color: #999999; font-weight: bold\">&amp;gt;</span>\n",
       "    <span style=\"color: #008000; font-weight: bold\">&lt;/span&gt;</span>\n",
       "   <span style=\"color: #008000; font-weight: bold\">&lt;/span&gt;</span>\n",
       "   <span style=\"color: #008000; font-weight: bold\">&lt;time</span> <span style=\"color: #7D9029\">datetime=</span><span style=\"color: #BA2121\">&quot;2016-06-09 11:35&quot;</span> <span style=\"color: #7D9029\">title=</span><span style=\"color: #BA2121\">&quot;Thu 09 Jun 11:35:08 AM&quot;</span><span style=\"color: #008000; font-weight: bold\">&gt;</span>\n",
       "    Jun 9\n",
       "   <span style=\"color: #008000; font-weight: bold\">&lt;/time&gt;</span>\n",
       "   <span style=\"color: #008000; font-weight: bold\">&lt;a</span> <span style=\"color: #7D9029\">class=</span><span style=\"color: #BA2121\">&quot;hdrlnk&quot;</span> <span style=\"color: #7D9029\">data-id=</span><span style=\"color: #BA2121\">&quot;5590744626&quot;</span> <span style=\"color: #7D9029\">href=</span><span style=\"color: #BA2121\">&quot;/wcl/msd/5590744626.html&quot;</span><span style=\"color: #008000; font-weight: bold\">&gt;</span>\n",
       "    <span style=\"color: #008000; font-weight: bold\">&lt;span</span> <span style=\"color: #7D9029\">id=</span><span style=\"color: #BA2121\">&quot;titletextonly&quot;</span><span style=\"color: #008000; font-weight: bold\">&gt;</span>\n",
       "     S6 Original Slim Concert Hall GT Acoustic/Electric Guitar\n",
       "    <span style=\"color: #008000; font-weight: bold\">&lt;/span&gt;</span>\n",
       "   <span style=\"color: #008000; font-weight: bold\">&lt;/a&gt;</span>\n",
       "  <span style=\"color: #008000; font-weight: bold\">&lt;/span&gt;</span>\n",
       "  <span style=\"color: #008000; font-weight: bold\">&lt;span</span> <span style=\"color: #7D9029\">class=</span><span style=\"color: #BA2121\">&quot;l2&quot;</span><span style=\"color: #008000; font-weight: bold\">&gt;</span>\n",
       "   <span style=\"color: #008000; font-weight: bold\">&lt;span</span> <span style=\"color: #7D9029\">class=</span><span style=\"color: #BA2121\">&quot;price&quot;</span><span style=\"color: #008000; font-weight: bold\">&gt;</span>\n",
       "    $579\n",
       "   <span style=\"color: #008000; font-weight: bold\">&lt;/span&gt;</span>\n",
       "   <span style=\"color: #008000; font-weight: bold\">&lt;span</span> <span style=\"color: #7D9029\">class=</span><span style=\"color: #BA2121\">&quot;pnr&quot;</span><span style=\"color: #008000; font-weight: bold\">&gt;</span>\n",
       "    <span style=\"color: #008000; font-weight: bold\">&lt;small&gt;</span>\n",
       "     (lisle)\n",
       "    <span style=\"color: #008000; font-weight: bold\">&lt;/small&gt;</span>\n",
       "    <span style=\"color: #008000; font-weight: bold\">&lt;span</span> <span style=\"color: #7D9029\">class=</span><span style=\"color: #BA2121\">&quot;px&quot;</span><span style=\"color: #008000; font-weight: bold\">&gt;</span>\n",
       "     <span style=\"color: #008000; font-weight: bold\">&lt;span</span> <span style=\"color: #7D9029\">class=</span><span style=\"color: #BA2121\">&quot;p&quot;</span><span style=\"color: #008000; font-weight: bold\">&gt;</span>\n",
       "      pic\n",
       "      <span style=\"color: #008000; font-weight: bold\">&lt;span</span> <span style=\"color: #7D9029\">class=</span><span style=\"color: #BA2121\">&quot;maptag&quot;</span> <span style=\"color: #7D9029\">data-pid=</span><span style=\"color: #BA2121\">&quot;5590744626&quot;</span><span style=\"color: #008000; font-weight: bold\">&gt;</span>\n",
       "       map\n",
       "      <span style=\"color: #008000; font-weight: bold\">&lt;/span&gt;</span>\n",
       "     <span style=\"color: #008000; font-weight: bold\">&lt;/span&gt;</span>\n",
       "    <span style=\"color: #008000; font-weight: bold\">&lt;/span&gt;</span>\n",
       "   <span style=\"color: #008000; font-weight: bold\">&lt;/span&gt;</span>\n",
       "  <span style=\"color: #008000; font-weight: bold\">&lt;/span&gt;</span>\n",
       "  <span style=\"color: #008000; font-weight: bold\">&lt;span</span> <span style=\"color: #7D9029\">class=</span><span style=\"color: #BA2121\">&quot;js-only banish-unbanish&quot;</span><span style=\"color: #008000; font-weight: bold\">&gt;</span>\n",
       "   <span style=\"color: #008000; font-weight: bold\">&lt;span</span> <span style=\"color: #7D9029\">class=</span><span style=\"color: #BA2121\">&quot;banish&quot;</span> <span style=\"color: #7D9029\">title=</span><span style=\"color: #BA2121\">&quot;hide&quot;</span><span style=\"color: #008000; font-weight: bold\">&gt;</span>\n",
       "    <span style=\"color: #008000; font-weight: bold\">&lt;span</span> <span style=\"color: #7D9029\">class=</span><span style=\"color: #BA2121\">&quot;icon icon-trash&quot;</span> <span style=\"color: #7D9029\">role=</span><span style=\"color: #BA2121\">&quot;button&quot;</span><span style=\"color: #008000; font-weight: bold\">&gt;</span>\n",
       "    <span style=\"color: #008000; font-weight: bold\">&lt;/span&gt;</span>\n",
       "    <span style=\"color: #008000; font-weight: bold\">&lt;span</span> <span style=\"color: #7D9029\">class=</span><span style=\"color: #BA2121\">&quot;screen-reader-text&quot;</span><span style=\"color: #008000; font-weight: bold\">&gt;</span>\n",
       "     hide this posting\n",
       "    <span style=\"color: #008000; font-weight: bold\">&lt;/span&gt;</span>\n",
       "   <span style=\"color: #008000; font-weight: bold\">&lt;/span&gt;</span>\n",
       "   <span style=\"color: #008000; font-weight: bold\">&lt;span</span> <span style=\"color: #7D9029\">class=</span><span style=\"color: #BA2121\">&quot;unbanish&quot;</span> <span style=\"color: #7D9029\">title=</span><span style=\"color: #BA2121\">&quot;restore&quot;</span><span style=\"color: #008000; font-weight: bold\">&gt;</span>\n",
       "    <span style=\"color: #008000; font-weight: bold\">&lt;span</span> <span style=\"color: #7D9029\">class=</span><span style=\"color: #BA2121\">&quot;icon icon-trash red&quot;</span> <span style=\"color: #7D9029\">role=</span><span style=\"color: #BA2121\">&quot;button&quot;</span><span style=\"color: #008000; font-weight: bold\">&gt;</span>\n",
       "    <span style=\"color: #008000; font-weight: bold\">&lt;/span&gt;</span>\n",
       "    <span style=\"color: #008000; font-weight: bold\">&lt;span</span> <span style=\"color: #7D9029\">class=</span><span style=\"color: #BA2121\">&quot;screen-reader-text&quot;</span><span style=\"color: #008000; font-weight: bold\">&gt;</span>\n",
       "     restore this posting\n",
       "    <span style=\"color: #008000; font-weight: bold\">&lt;/span&gt;</span>\n",
       "   <span style=\"color: #008000; font-weight: bold\">&lt;/span&gt;</span>\n",
       "  <span style=\"color: #008000; font-weight: bold\">&lt;/span&gt;</span>\n",
       " <span style=\"color: #008000; font-weight: bold\">&lt;/span&gt;</span>\n",
       "<span style=\"color: #008000; font-weight: bold\">&lt;/p&gt;</span>\n",
       "</pre></div>\n",
       "</td></tr></table>"
      ],
      "text/plain": [
       "[<p class=\"row\" data-pid=\"5590744626\"> <a class=\"i gallery\" data-ids=\"1:00C0C_cyn5m2Jbkw5,1:00G0G_a1NaV7x1K95,1:00Q0Q_3I21yQ5sRKL,1:00d0d_iZJtlcmIHHm,1:00q0q_VdIhbRe9hC,1:00u0u_kpMlSTo1WvH,1:00c0c_5w9z6j9JCHC,1:00808_jZs7eubo7nC,1:00p0p_etUVg7A1Tts,1:00T0T_3fGfXC6PIzt,1:00B0B_hdkdLEtA3UO\" href=\"/wcl/msd/5590744626.html\"><span class=\"price\">$579</span></a> <span class=\"txt\"> <span class=\"pl\"> <span class=\"icon icon-star\" role=\"button\"> <span class=\"screen-reader-text\"> __(\"favorite this post\") ?&gt;</span> </span> <time datetime=\"2016-06-09 11:35\" title=\"Thu 09 Jun 11:35:08 AM\">Jun 9</time> <a class=\"hdrlnk\" data-id=\"5590744626\" href=\"/wcl/msd/5590744626.html\"><span id=\"titletextonly\">S6 Original Slim Concert Hall GT Acoustic/Electric Guitar</span></a> </span> <span class=\"l2\"> <span class=\"price\">$579</span> <span class=\"pnr\"> <small> (lisle)</small> <span class=\"px\"> <span class=\"p\"> pic <span class=\"maptag\" data-pid=\"5590744626\">map</span></span></span> </span> </span> <span class=\"js-only banish-unbanish\"> <span class=\"banish\" title=\"hide\"><span class=\"icon icon-trash\" role=\"button\"></span><span class=\"screen-reader-text\">hide this posting</span></span> <span class=\"unbanish\" title=\"restore\"><span class=\"icon icon-trash red\" role=\"button\"></span><span class=\"screen-reader-text\">restore this posting</span></span></span> </span> </p>]"
      ]
     },
     "execution_count": 11,
     "metadata": {},
     "output_type": "execute_result"
    }
   ],
   "source": [
    "rows[0:1]"
   ]
  },
  {
   "cell_type": "code",
   "execution_count": 17,
   "metadata": {
    "collapsed": false
   },
   "outputs": [
    {
     "data": {
      "text/html": [
       "<div class=\"highlight\" style=\"background: #f8f8f8\"><pre style=\"line-height: 125%\"><span style=\"color: #008000; font-weight: bold\">&lt;time</span> <span style=\"color: #7D9029\">datetime=</span><span style=\"color: #BA2121\">&quot;2016-06-09 11:35&quot;</span> <span style=\"color: #7D9029\">title=</span><span style=\"color: #BA2121\">&quot;Thu 09 Jun 11:35:08 AM&quot;</span><span style=\"color: #008000; font-weight: bold\">&gt;</span>\n",
       " Jun 9\n",
       "<span style=\"color: #008000; font-weight: bold\">&lt;/time&gt;</span>\n",
       "</pre></div>\n",
       "<hr/>"
      ],
      "text/plain": [
       "<time datetime=\"2016-06-09 11:35\" title=\"Thu 09 Jun 11:35:08 AM\">Jun 9</time>"
      ]
     },
     "execution_count": 17,
     "metadata": {},
     "output_type": "execute_result"
    }
   ],
   "source": [
    "rows[0].find(\"time\")"
   ]
  },
  {
   "cell_type": "code",
   "execution_count": 18,
   "metadata": {
    "collapsed": false,
    "scrolled": false
   },
   "outputs": [],
   "source": [
    "for row in rows:\n",
    "    url = 'http://chicago.craigslist.org' + row.a['href']\n",
    "    create_date = row.find('time')['datetime']\n",
    "    title = row.find_all('a')[1].get_text() # First is image\n",
    "    results.append({'url': url, 'create_date': create_date, 'title': title})"
   ]
  },
  {
   "cell_type": "code",
   "execution_count": 19,
   "metadata": {
    "collapsed": false
   },
   "outputs": [
    {
     "data": {
      "text/plain": [
       "[{'create_date': '2016-06-09 11:35',\n",
       "  'title': u'S6 Original Slim Concert Hall GT Acoustic/Electric Guitar',\n",
       "  'url': 'http://chicago.craigslist.org/wcl/msd/5590744626.html'},\n",
       " {'create_date': '2016-06-09 11:32',\n",
       "  'title': u'La Patrie Concert Classical Guitar',\n",
       "  'url': 'http://chicago.craigslist.org/wcl/msd/5617718254.html'},\n",
       " {'create_date': '2016-06-05 10:36',\n",
       "  'title': u'COLDPLAY TICKETS \\u2605 PRIME CONCERT SEATS - MUST SELL - JUST RELEASED!',\n",
       "  'url': 'http://chicago.craigslist.org/chc/tid/5620603386.html'},\n",
       " {'create_date': '2016-06-03 10:02',\n",
       "  'title': u'ADELE TICKETS \\u2605 PRIME CONCERT SEATS - MUST SELL - GREAT DEALS!',\n",
       "  'url': 'http://chicago.craigslist.org/chc/tid/5617507185.html'},\n",
       " {'create_date': '2016-06-10 00:25',\n",
       "  'title': u'The Cure 1 ticket to concert June 11',\n",
       "  'url': 'http://chicago.craigslist.org/chc/tix/5628331140.html'},\n",
       " {'create_date': '2016-06-10 00:03',\n",
       "  'title': u'wanted IRON MAIDEN or Rock Concert tshirts and misc.',\n",
       "  'url': 'http://chicago.craigslist.org/chc/wan/5628318417.html'},\n",
       " {'create_date': '2016-06-09 21:59',\n",
       "  'title': u'2 Tixs to see Sam Beam & Jesca Hoop Concert this Saturday',\n",
       "  'url': 'http://chicago.craigslist.org/chc/tix/5619023932.html'},\n",
       " {'create_date': '2016-06-09 20:39',\n",
       "  'title': u'Open Air Concert Passes',\n",
       "  'url': 'http://chicago.craigslist.org/chc/tix/5623812695.html'},\n",
       " {'create_date': '2016-06-09 19:25',\n",
       "  'title': u'2 Phish Lottery Tickets Phish concert Wrigley Field Chicago Saturday 6/25 Sect.',\n",
       "  'url': 'http://chicago.craigslist.org/chc/tix/5618217695.html'},\n",
       " {'create_date': '2016-06-09 17:44',\n",
       "  'title': u'AC/DC - Framed 8x10 picture of Brian and Angus live in concert',\n",
       "  'url': 'http://chicago.craigslist.org/nwc/emd/5627925341.html'}]"
      ]
     },
     "execution_count": 19,
     "metadata": {},
     "output_type": "execute_result"
    }
   ],
   "source": [
    "results[0:10]"
   ]
  },
  {
   "cell_type": "code",
   "execution_count": 22,
   "metadata": {
    "collapsed": false
   },
   "outputs": [],
   "source": [
    "soup = BeautifulSoup(urllib2.urlopen(\"http://chicago.craigslist.org/chc/clo/5564447352.html\").read())"
   ]
  },
  {
   "cell_type": "code",
   "execution_count": 23,
   "metadata": {
    "collapsed": false
   },
   "outputs": [
    {
     "name": "stdout",
     "output_type": "stream",
     "text": [
      "Help on method find in module bs4.element:\n",
      "\n",
      "find(self, name=None, attrs={}, recursive=True, text=None, **kwargs) method of bs4.BeautifulSoup instance\n",
      "    Return only the first child of this Tag matching the given\n",
      "    criteria.\n",
      "\n"
     ]
    }
   ],
   "source": [
    "help(soup.find)"
   ]
  },
  {
   "cell_type": "code",
   "execution_count": 24,
   "metadata": {
    "collapsed": false
   },
   "outputs": [
    {
     "data": {
      "text/html": [
       "<div class=\"highlight\" style=\"background: #f8f8f8\"><pre style=\"line-height: 125%\"><span style=\"color: #008000; font-weight: bold\">&lt;body</span> <span style=\"color: #7D9029\">class=</span><span style=\"color: #BA2121\">&quot;posting en&quot;</span><span style=\"color: #008000; font-weight: bold\">&gt;</span>\n",
       " <span style=\"color: #008000; font-weight: bold\">&lt;script </span><span style=\"color: #7D9029\">type=</span><span style=\"color: #BA2121\">&quot;text/javascript&quot;</span><span style=\"color: #008000; font-weight: bold\">&gt;</span>\n",
       "  <span style=\"color: #408080; font-style: italic\">&lt;!--</span>\n",
       "    <span style=\"color: #008000; font-weight: bold\">function</span> C(k){<span style=\"color: #008000; font-weight: bold\">return</span>(<span style=\"color: #008000\">document</span>.cookie.match(<span style=\"color: #BA2121\">&#39;(^|; )&#39;</span><span style=\"color: #666666\">+</span>k<span style=\"color: #666666\">+</span><span style=\"color: #BA2121\">&#39;=([^;]*)&#39;</span>)<span style=\"color: #666666\">||0</span>)[<span style=\"color: #666666\">2</span>]}\n",
       "    <span style=\"color: #008000; font-weight: bold\">var</span> pagetype, pagemode;\n",
       "    (<span style=\"color: #008000; font-weight: bold\">function</span>(){\n",
       "        <span style=\"color: #008000; font-weight: bold\">var</span> h <span style=\"color: #666666\">=</span> <span style=\"color: #008000\">document</span>.documentElement;\n",
       "        h.className <span style=\"color: #666666\">=</span> h.className.replace(<span style=\"color: #BA2121\">&#39;no-js&#39;</span>, <span style=\"color: #BA2121\">&#39;js&#39;</span>);\n",
       "        <span style=\"color: #008000; font-weight: bold\">var</span> b <span style=\"color: #666666\">=</span> <span style=\"color: #008000\">document</span>.body;\n",
       "        <span style=\"color: #008000; font-weight: bold\">var</span> bodyClassList <span style=\"color: #666666\">=</span> b.className.split(<span style=\"color: #BB6688\">/\\s+/</span>);;\n",
       "        pagetype <span style=\"color: #666666\">=</span> bodyClassList[<span style=\"color: #666666\">0</span>]; <span style=\"color: #408080; font-style: italic\">// dangerous assumption</span>\n",
       "        <span style=\"color: #008000; font-weight: bold\">var</span> fmt <span style=\"color: #666666\">=</span> C(<span style=\"color: #BA2121\">&#39;cl_fmt&#39;</span>);\n",
       "        <span style=\"color: #008000; font-weight: bold\">if</span> ( fmt <span style=\"color: #666666\">===</span> <span style=\"color: #BA2121\">&#39;regular&#39;</span> <span style=\"color: #666666\">||</span> fmt <span style=\"color: #666666\">===</span> <span style=\"color: #BA2121\">&#39;mobile&#39;</span> ) {\n",
       "            pagemode <span style=\"color: #666666\">=</span> fmt;\n",
       "        } <span style=\"color: #008000; font-weight: bold\">else</span> <span style=\"color: #008000; font-weight: bold\">if</span> (screen.width <span style=\"color: #666666\">&lt;=</span> <span style=\"color: #666666\">480</span>) {\n",
       "            pagemode <span style=\"color: #666666\">=</span> <span style=\"color: #BA2121\">&#39;mobile&#39;</span>;\n",
       "        } <span style=\"color: #008000; font-weight: bold\">else</span> {\n",
       "            pagemode <span style=\"color: #666666\">=</span> <span style=\"color: #BA2121\">&#39;regular&#39;</span>;\n",
       "        }\n",
       "        pagemode <span style=\"color: #666666\">=</span> pagemode <span style=\"color: #666666\">===</span> <span style=\"color: #BA2121\">&#39;mobile&#39;</span> <span style=\"color: #666666\">?</span> <span style=\"color: #BA2121\">&#39;mobile&#39;</span> <span style=\"color: #666666\">:</span> <span style=\"color: #BA2121\">&#39;desktop&#39;</span>;\n",
       "        bodyClassList.push(pagemode);\n",
       "        <span style=\"color: #008000; font-weight: bold\">if</span> (C(<span style=\"color: #BA2121\">&#39;hidesearch&#39;</span>) <span style=\"color: #666666\">===</span> <span style=\"color: #BA2121\">&#39;1&#39;</span> <span style=\"color: #666666\">&amp;&amp;</span> pagemode <span style=\"color: #666666\">!==</span> <span style=\"color: #BA2121\">&#39;mobile&#39;</span>) {\n",
       "            bodyClassList.push(<span style=\"color: #BA2121\">&#39;hide-search&#39;</span>);\n",
       "        }\n",
       "        <span style=\"color: #008000; font-weight: bold\">var</span> width <span style=\"color: #666666\">=</span> <span style=\"color: #008000\">window</span>.innerWidth <span style=\"color: #666666\">||</span> <span style=\"color: #008000\">document</span>.documentElement.clientWidth;\n",
       "        <span style=\"color: #008000; font-weight: bold\">if</span> (width <span style=\"color: #666666\">&gt;</span> <span style=\"color: #666666\">1000</span>) { bodyClassList.push(<span style=\"color: #BA2121\">&#39;w1024&#39;</span>); }\n",
       "        <span style=\"color: #008000; font-weight: bold\">if</span> (<span style=\"color: #008000; font-weight: bold\">typeof</span> <span style=\"color: #008000\">window</span>.sectionBase <span style=\"color: #666666\">!==</span> <span style=\"color: #BA2121\">&#39;undefined&#39;</span>) {\n",
       "            <span style=\"color: #008000; font-weight: bold\">var</span> mode <span style=\"color: #666666\">=</span> (<span style=\"color: #008000\">decodeURIComponent</span>(C(<span style=\"color: #BA2121\">&#39;cl_tocmode&#39;</span>) <span style=\"color: #666666\">||</span> <span style=\"color: #BA2121\">&#39;&#39;</span>).match(<span style=\"color: #008000; font-weight: bold\">new</span> <span style=\"color: #008000\">RegExp</span>(<span style=\"color: #008000\">window</span>.sectionBase <span style=\"color: #666666\">+</span> <span style=\"color: #BA2121\">&#39;:([^,]+)&#39;</span>, <span style=\"color: #BA2121\">&#39;i&#39;</span>)) <span style=\"color: #666666\">||</span> {})[<span style=\"color: #666666\">1</span>] <span style=\"color: #666666\">||</span> <span style=\"color: #008000\">window</span>.defaultView;\n",
       "            <span style=\"color: #008000; font-weight: bold\">if</span> (mode) {\n",
       "                bodyClassList.push(mode);\n",
       "            }\n",
       "        }\n",
       "        b.className <span style=\"color: #666666\">=</span> bodyClassList.join(<span style=\"color: #BA2121\">&#39; &#39;</span>);\n",
       "    }());\n",
       "<span style=\"color: #666666\">--&gt;</span>\n",
       " <span style=\"color: #008000; font-weight: bold\">&lt;/script&gt;</span>\n",
       " <span style=\"color: #008000; font-weight: bold\">&lt;section</span> <span style=\"color: #7D9029\">id=</span><span style=\"color: #BA2121\">&quot;pagecontainer&quot;</span><span style=\"color: #008000; font-weight: bold\">&gt;</span>\n",
       "  <span style=\"color: #008000; font-weight: bold\">&lt;div</span> <span style=\"color: #7D9029\">class=</span><span style=\"color: #BA2121\">&quot;bglogo&quot;</span><span style=\"color: #008000; font-weight: bold\">&gt;</span>\n",
       "  <span style=\"color: #008000; font-weight: bold\">&lt;/div&gt;</span>\n",
       "  <span style=\"color: #008000; font-weight: bold\">&lt;header</span> <span style=\"color: #7D9029\">class=</span><span style=\"color: #BA2121\">&quot;global-header&quot;</span><span style=\"color: #008000; font-weight: bold\">&gt;</span>\n",
       "   <span style=\"color: #008000; font-weight: bold\">&lt;a</span> <span style=\"color: #7D9029\">class=</span><span style=\"color: #BA2121\">&quot;header-logo&quot;</span> <span style=\"color: #7D9029\">href=</span><span style=\"color: #BA2121\">&quot;/&quot;</span><span style=\"color: #008000; font-weight: bold\">&gt;</span>\n",
       "    CL\n",
       "   <span style=\"color: #008000; font-weight: bold\">&lt;/a&gt;</span>\n",
       "   <span style=\"color: #008000; font-weight: bold\">&lt;nav</span> <span style=\"color: #7D9029\">class=</span><span style=\"color: #BA2121\">&quot;breadcrumbs-container&quot;</span><span style=\"color: #008000; font-weight: bold\">&gt;</span>\n",
       "    <span style=\"color: #008000; font-weight: bold\">&lt;ul</span> <span style=\"color: #7D9029\">class=</span><span style=\"color: #BA2121\">&quot;breadcrumbs&quot;</span><span style=\"color: #008000; font-weight: bold\">&gt;</span>\n",
       "     <span style=\"color: #008000; font-weight: bold\">&lt;li</span> <span style=\"color: #7D9029\">class=</span><span style=\"color: #BA2121\">&quot;crumb area&quot;</span><span style=\"color: #008000; font-weight: bold\">&gt;</span>\n",
       "      <span style=\"color: #008000; font-weight: bold\">&lt;p&gt;</span>\n",
       "       <span style=\"color: #008000; font-weight: bold\">&lt;a</span> <span style=\"color: #7D9029\">href=</span><span style=\"color: #BA2121\">&quot;/&quot;</span><span style=\"color: #008000; font-weight: bold\">&gt;</span>\n",
       "        chicago\n",
       "       <span style=\"color: #008000; font-weight: bold\">&lt;/a&gt;</span>\n",
       "       <span style=\"color: #008000; font-weight: bold\">&lt;span</span> <span style=\"color: #7D9029\">class=</span><span style=\"color: #BA2121\">&quot;breadcrumb-arrow&quot;</span><span style=\"color: #008000; font-weight: bold\">&gt;</span>\n",
       "        <span style=\"color: #999999; font-weight: bold\">&amp;gt;</span>\n",
       "       <span style=\"color: #008000; font-weight: bold\">&lt;/span&gt;</span>\n",
       "      <span style=\"color: #008000; font-weight: bold\">&lt;/p&gt;</span>\n",
       "     <span style=\"color: #008000; font-weight: bold\">&lt;/li&gt;</span>\n",
       "     <span style=\"color: #008000; font-weight: bold\">&lt;li</span> <span style=\"color: #7D9029\">class=</span><span style=\"color: #BA2121\">&quot;crumb subarea&quot;</span><span style=\"color: #008000; font-weight: bold\">&gt;</span>\n",
       "      <span style=\"color: #008000; font-weight: bold\">&lt;p&gt;</span>\n",
       "       <span style=\"color: #008000; font-weight: bold\">&lt;a</span> <span style=\"color: #7D9029\">href=</span><span style=\"color: #BA2121\">&quot;/chc/&quot;</span><span style=\"color: #008000; font-weight: bold\">&gt;</span>\n",
       "        city of chicago\n",
       "       <span style=\"color: #008000; font-weight: bold\">&lt;/a&gt;</span>\n",
       "       <span style=\"color: #008000; font-weight: bold\">&lt;span</span> <span style=\"color: #7D9029\">class=</span><span style=\"color: #BA2121\">&quot;breadcrumb-arrow&quot;</span><span style=\"color: #008000; font-weight: bold\">&gt;</span>\n",
       "        <span style=\"color: #999999; font-weight: bold\">&amp;gt;</span>\n",
       "       <span style=\"color: #008000; font-weight: bold\">&lt;/span&gt;</span>\n",
       "      <span style=\"color: #008000; font-weight: bold\">&lt;/p&gt;</span>\n",
       "     <span style=\"color: #008000; font-weight: bold\">&lt;/li&gt;</span>\n",
       "     <span style=\"color: #008000; font-weight: bold\">&lt;li</span> <span style=\"color: #7D9029\">class=</span><span style=\"color: #BA2121\">&quot;crumb section&quot;</span><span style=\"color: #008000; font-weight: bold\">&gt;</span>\n",
       "      <span style=\"color: #008000; font-weight: bold\">&lt;p&gt;</span>\n",
       "       <span style=\"color: #008000; font-weight: bold\">&lt;a</span> <span style=\"color: #7D9029\">href=</span><span style=\"color: #BA2121\">&quot;/sss&quot;</span><span style=\"color: #008000; font-weight: bold\">&gt;</span>\n",
       "        for sale\n",
       "       <span style=\"color: #008000; font-weight: bold\">&lt;/a&gt;</span>\n",
       "       <span style=\"color: #008000; font-weight: bold\">&lt;span</span> <span style=\"color: #7D9029\">class=</span><span style=\"color: #BA2121\">&quot;breadcrumb-arrow&quot;</span><span style=\"color: #008000; font-weight: bold\">&gt;</span>\n",
       "        <span style=\"color: #999999; font-weight: bold\">&amp;gt;</span>\n",
       "       <span style=\"color: #008000; font-weight: bold\">&lt;/span&gt;</span>\n",
       "      <span style=\"color: #008000; font-weight: bold\">&lt;/p&gt;</span>\n",
       "     <span style=\"color: #008000; font-weight: bold\">&lt;/li&gt;</span>\n",
       "     <span style=\"color: #008000; font-weight: bold\">&lt;li</span> <span style=\"color: #7D9029\">class=</span><span style=\"color: #BA2121\">&quot;crumb category&quot;</span><span style=\"color: #008000; font-weight: bold\">&gt;</span>\n",
       "      <span style=\"color: #008000; font-weight: bold\">&lt;p&gt;</span>\n",
       "       <span style=\"color: #008000; font-weight: bold\">&lt;a</span> <span style=\"color: #7D9029\">href=</span><span style=\"color: #BA2121\">&quot;/clo&quot;</span><span style=\"color: #008000; font-weight: bold\">&gt;</span>\n",
       "        clothing <span style=\"color: #999999; font-weight: bold\">&amp;amp;</span> accessories - by owner\n",
       "       <span style=\"color: #008000; font-weight: bold\">&lt;/a&gt;</span>\n",
       "      <span style=\"color: #008000; font-weight: bold\">&lt;/p&gt;</span>\n",
       "     <span style=\"color: #008000; font-weight: bold\">&lt;/li&gt;</span>\n",
       "     <span style=\"color: #008000; font-weight: bold\">&lt;li</span> <span style=\"color: #7D9029\">class=</span><span style=\"color: #BA2121\">&quot;crumb no-js&quot;</span><span style=\"color: #008000; font-weight: bold\">&gt;</span>\n",
       "      <span style=\"color: #008000; font-weight: bold\">&lt;input</span> <span style=\"color: #7D9029\">type=</span><span style=\"color: #BA2121\">&quot;submit&quot;</span> <span style=\"color: #7D9029\">value=</span><span style=\"color: #BA2121\">&quot;go&quot;</span><span style=\"color: #008000; font-weight: bold\">/&gt;</span>\n",
       "     <span style=\"color: #008000; font-weight: bold\">&lt;/li&gt;</span>\n",
       "    <span style=\"color: #008000; font-weight: bold\">&lt;/ul&gt;</span>\n",
       "   <span style=\"color: #008000; font-weight: bold\">&lt;/nav&gt;</span>\n",
       "   <span style=\"color: #008000; font-weight: bold\">&lt;div</span> <span style=\"color: #7D9029\">class=</span><span style=\"color: #BA2121\">&quot;userlinks&quot;</span><span style=\"color: #008000; font-weight: bold\">&gt;</span>\n",
       "    <span style=\"color: #008000; font-weight: bold\">&lt;ul</span> <span style=\"color: #7D9029\">class=</span><span style=\"color: #BA2121\">&quot;user-actions&quot;</span><span style=\"color: #008000; font-weight: bold\">&gt;</span>\n",
       "     <span style=\"color: #008000; font-weight: bold\">&lt;li</span> <span style=\"color: #7D9029\">class=</span><span style=\"color: #BA2121\">&quot;user post&quot;</span><span style=\"color: #008000; font-weight: bold\">&gt;</span>\n",
       "      <span style=\"color: #008000; font-weight: bold\">&lt;a</span> <span style=\"color: #7D9029\">href=</span><span style=\"color: #BA2121\">&quot;https://post.craigslist.org/c/chi&quot;</span><span style=\"color: #008000; font-weight: bold\">&gt;</span>\n",
       "       post\n",
       "      <span style=\"color: #008000; font-weight: bold\">&lt;/a&gt;</span>\n",
       "     <span style=\"color: #008000; font-weight: bold\">&lt;/li&gt;</span>\n",
       "     <span style=\"color: #008000; font-weight: bold\">&lt;li</span> <span style=\"color: #7D9029\">class=</span><span style=\"color: #BA2121\">&quot;user account&quot;</span><span style=\"color: #008000; font-weight: bold\">&gt;</span>\n",
       "      <span style=\"color: #008000; font-weight: bold\">&lt;a</span> <span style=\"color: #7D9029\">href=</span><span style=\"color: #BA2121\">&quot;https://accounts.craigslist.org/login/home&quot;</span><span style=\"color: #008000; font-weight: bold\">&gt;</span>\n",
       "       account\n",
       "      <span style=\"color: #008000; font-weight: bold\">&lt;/a&gt;</span>\n",
       "     <span style=\"color: #008000; font-weight: bold\">&lt;/li&gt;</span>\n",
       "    <span style=\"color: #008000; font-weight: bold\">&lt;/ul&gt;</span>\n",
       "    <span style=\"color: #008000; font-weight: bold\">&lt;ul</span> <span style=\"color: #7D9029\">class=</span><span style=\"color: #BA2121\">&quot;user-favs-discards&quot;</span><span style=\"color: #008000; font-weight: bold\">&gt;</span>\n",
       "     <span style=\"color: #008000; font-weight: bold\">&lt;li</span> <span style=\"color: #7D9029\">class=</span><span style=\"color: #BA2121\">&quot;user&quot;</span><span style=\"color: #008000; font-weight: bold\">&gt;</span>\n",
       "      <span style=\"color: #008000; font-weight: bold\">&lt;div</span> <span style=\"color: #7D9029\">class=</span><span style=\"color: #BA2121\">&quot;favorites&quot;</span><span style=\"color: #008000; font-weight: bold\">&gt;</span>\n",
       "       <span style=\"color: #008000; font-weight: bold\">&lt;a</span> <span style=\"color: #7D9029\">class=</span><span style=\"color: #BA2121\">&quot;favlink&quot;</span> <span style=\"color: #7D9029\">href=</span><span style=\"color: #BA2121\">&quot;#&quot;</span><span style=\"color: #008000; font-weight: bold\">&gt;</span>\n",
       "        <span style=\"color: #008000; font-weight: bold\">&lt;span</span> <span style=\"color: #7D9029\">aria-hidden=</span><span style=\"color: #BA2121\">&quot;true&quot;</span> <span style=\"color: #7D9029\">class=</span><span style=\"color: #BA2121\">&quot;icon icon-star fav&quot;</span><span style=\"color: #008000; font-weight: bold\">&gt;</span>\n",
       "        <span style=\"color: #008000; font-weight: bold\">&lt;/span&gt;</span>\n",
       "        <span style=\"color: #008000; font-weight: bold\">&lt;span</span> <span style=\"color: #7D9029\">class=</span><span style=\"color: #BA2121\">&quot;fav-number&quot;</span><span style=\"color: #008000; font-weight: bold\">&gt;</span>\n",
       "         0\n",
       "        <span style=\"color: #008000; font-weight: bold\">&lt;/span&gt;</span>\n",
       "        <span style=\"color: #008000; font-weight: bold\">&lt;span</span> <span style=\"color: #7D9029\">class=</span><span style=\"color: #BA2121\">&quot;fav-label&quot;</span><span style=\"color: #008000; font-weight: bold\">&gt;</span>\n",
       "         favorites\n",
       "        <span style=\"color: #008000; font-weight: bold\">&lt;/span&gt;</span>\n",
       "       <span style=\"color: #008000; font-weight: bold\">&lt;/a&gt;</span>\n",
       "      <span style=\"color: #008000; font-weight: bold\">&lt;/div&gt;</span>\n",
       "     <span style=\"color: #008000; font-weight: bold\">&lt;/li&gt;</span>\n",
       "     <span style=\"color: #008000; font-weight: bold\">&lt;li</span> <span style=\"color: #7D9029\">class=</span><span style=\"color: #BA2121\">&quot;user discards&quot;</span><span style=\"color: #008000; font-weight: bold\">&gt;</span>\n",
       "      <span style=\"color: #008000; font-weight: bold\">&lt;div&gt;</span>\n",
       "       <span style=\"color: #008000; font-weight: bold\">&lt;span</span> <span style=\"color: #7D9029\">aria-hidden=</span><span style=\"color: #BA2121\">&quot;true&quot;</span> <span style=\"color: #7D9029\">class=</span><span style=\"color: #BA2121\">&quot;icon icon-trash red&quot;</span><span style=\"color: #008000; font-weight: bold\">&gt;</span>\n",
       "       <span style=\"color: #008000; font-weight: bold\">&lt;/span&gt;</span>\n",
       "       <span style=\"color: #008000; font-weight: bold\">&lt;span</span> <span style=\"color: #7D9029\">class=</span><span style=\"color: #BA2121\">&quot;hidden_count linklike withmap&quot;</span><span style=\"color: #008000; font-weight: bold\">&gt;</span>\n",
       "       <span style=\"color: #008000; font-weight: bold\">&lt;/span&gt;</span>\n",
       "       <span style=\"color: #008000; font-weight: bold\">&lt;span</span> <span style=\"color: #7D9029\">class=</span><span style=\"color: #BA2121\">&quot;hidden_count linklike nomap&quot;</span><span style=\"color: #008000; font-weight: bold\">&gt;</span>\n",
       "       <span style=\"color: #008000; font-weight: bold\">&lt;/span&gt;</span>\n",
       "       <span style=\"color: #008000; font-weight: bold\">&lt;span</span> <span style=\"color: #7D9029\">class=</span><span style=\"color: #BA2121\">&quot;discards-label linklike&quot;</span><span style=\"color: #008000; font-weight: bold\">&gt;</span>\n",
       "        hidden\n",
       "       <span style=\"color: #008000; font-weight: bold\">&lt;/span&gt;</span>\n",
       "      <span style=\"color: #008000; font-weight: bold\">&lt;/div&gt;</span>\n",
       "     <span style=\"color: #008000; font-weight: bold\">&lt;/li&gt;</span>\n",
       "    <span style=\"color: #008000; font-weight: bold\">&lt;/ul&gt;</span>\n",
       "   <span style=\"color: #008000; font-weight: bold\">&lt;/div&gt;</span>\n",
       "  <span style=\"color: #008000; font-weight: bold\">&lt;/header&gt;</span>\n",
       "  <span style=\"color: #008000; font-weight: bold\">&lt;section</span> <span style=\"color: #7D9029\">class=</span><span style=\"color: #BA2121\">&quot;body&quot;</span><span style=\"color: #008000; font-weight: bold\">&gt;</span>\n",
       "   <span style=\"color: #008000; font-weight: bold\">&lt;br/&gt;</span>\n",
       "   <span style=\"color: #008000; font-weight: bold\">&lt;br/&gt;</span>\n",
       "   <span style=\"color: #008000; font-weight: bold\">&lt;div</span> <span style=\"color: #7D9029\">id=</span><span style=\"color: #BA2121\">&quot;userbody&quot;</span><span style=\"color: #008000; font-weight: bold\">&gt;</span>\n",
       "    <span style=\"color: #008000; font-weight: bold\">&lt;div</span> <span style=\"color: #7D9029\">class=</span><span style=\"color: #BA2121\">&quot;prevnext js-only&quot;</span><span style=\"color: #008000; font-weight: bold\">&gt;</span>\n",
       "     <span style=\"color: #008000; font-weight: bold\">&lt;a</span> <span style=\"color: #7D9029\">class=</span><span style=\"color: #BA2121\">&quot;prev&quot;</span><span style=\"color: #008000; font-weight: bold\">&gt;</span>\n",
       "      ◀  prev\n",
       "     <span style=\"color: #008000; font-weight: bold\">&lt;/a&gt;</span>\n",
       "     <span style=\"color: #008000; font-weight: bold\">&lt;a</span> <span style=\"color: #7D9029\">class=</span><span style=\"color: #BA2121\">&quot;backup&quot;</span> <span style=\"color: #7D9029\">title=</span><span style=\"color: #BA2121\">&quot;back to search&quot;</span><span style=\"color: #008000; font-weight: bold\">&gt;</span>\n",
       "      ▲\n",
       "     <span style=\"color: #008000; font-weight: bold\">&lt;/a&gt;</span>\n",
       "     <span style=\"color: #008000; font-weight: bold\">&lt;a</span> <span style=\"color: #7D9029\">class=</span><span style=\"color: #BA2121\">&quot;next&quot;</span><span style=\"color: #008000; font-weight: bold\">&gt;</span>\n",
       "      next ▶\n",
       "     <span style=\"color: #008000; font-weight: bold\">&lt;/a&gt;</span>\n",
       "    <span style=\"color: #008000; font-weight: bold\">&lt;/div&gt;</span>\n",
       "    <span style=\"color: #008000; font-weight: bold\">&lt;span</span> <span style=\"color: #7D9029\">id=</span><span style=\"color: #BA2121\">&quot;has_been_removed&quot;</span><span style=\"color: #008000; font-weight: bold\">&gt;</span>\n",
       "    <span style=\"color: #008000; font-weight: bold\">&lt;/span&gt;</span>\n",
       "    <span style=\"color: #008000; font-weight: bold\">&lt;div</span> <span style=\"color: #7D9029\">class=</span><span style=\"color: #BA2121\">&quot;removed&quot;</span><span style=\"color: #008000; font-weight: bold\">&gt;</span>\n",
       "     <span style=\"color: #008000; font-weight: bold\">&lt;h2&gt;</span>\n",
       "      This posting has expired.\n",
       "     <span style=\"color: #008000; font-weight: bold\">&lt;/h2&gt;</span>\n",
       "     <span style=\"color: #008000; font-weight: bold\">&lt;h5&gt;</span>\n",
       "      (The title on the listings page will be removed in just a few minutes.)\n",
       "     <span style=\"color: #008000; font-weight: bold\">&lt;/h5&gt;</span>\n",
       "    <span style=\"color: #008000; font-weight: bold\">&lt;/div&gt;</span>\n",
       "   <span style=\"color: #008000; font-weight: bold\">&lt;/div&gt;</span>\n",
       "   <span style=\"color: #008000; font-weight: bold\">&lt;br/&gt;</span>\n",
       "  <span style=\"color: #008000; font-weight: bold\">&lt;/section&gt;</span>\n",
       "  <span style=\"color: #008000; font-weight: bold\">&lt;footer&gt;</span>\n",
       "   <span style=\"color: #008000; font-weight: bold\">&lt;ul</span> <span style=\"color: #7D9029\">class=</span><span style=\"color: #BA2121\">&quot;clfooter&quot;</span><span style=\"color: #008000; font-weight: bold\">&gt;</span>\n",
       "    <span style=\"color: #008000; font-weight: bold\">&lt;li&gt;</span>\n",
       "     © 2016\n",
       "     <span style=\"color: #008000; font-weight: bold\">&lt;span</span> <span style=\"color: #7D9029\">class=</span><span style=\"color: #BA2121\">&quot;desktop&quot;</span><span style=\"color: #008000; font-weight: bold\">&gt;</span>\n",
       "      craigslist\n",
       "     <span style=\"color: #008000; font-weight: bold\">&lt;/span&gt;</span>\n",
       "     <span style=\"color: #008000; font-weight: bold\">&lt;span</span> <span style=\"color: #7D9029\">class=</span><span style=\"color: #BA2121\">&quot;mobile&quot;</span><span style=\"color: #008000; font-weight: bold\">&gt;</span>\n",
       "      CL\n",
       "     <span style=\"color: #008000; font-weight: bold\">&lt;/span&gt;</span>\n",
       "    <span style=\"color: #008000; font-weight: bold\">&lt;/li&gt;</span>\n",
       "    <span style=\"color: #008000; font-weight: bold\">&lt;li&gt;</span>\n",
       "     <span style=\"color: #008000; font-weight: bold\">&lt;a</span> <span style=\"color: #7D9029\">href=</span><span style=\"color: #BA2121\">&quot;//www.craigslist.org/about/help/&quot;</span><span style=\"color: #008000; font-weight: bold\">&gt;</span>\n",
       "      help\n",
       "     <span style=\"color: #008000; font-weight: bold\">&lt;/a&gt;</span>\n",
       "    <span style=\"color: #008000; font-weight: bold\">&lt;/li&gt;</span>\n",
       "    <span style=\"color: #008000; font-weight: bold\">&lt;li&gt;</span>\n",
       "     <span style=\"color: #008000; font-weight: bold\">&lt;a</span> <span style=\"color: #7D9029\">href=</span><span style=\"color: #BA2121\">&quot;//www.craigslist.org/about/scams&quot;</span><span style=\"color: #008000; font-weight: bold\">&gt;</span>\n",
       "      safety\n",
       "     <span style=\"color: #008000; font-weight: bold\">&lt;/a&gt;</span>\n",
       "    <span style=\"color: #008000; font-weight: bold\">&lt;/li&gt;</span>\n",
       "    <span style=\"color: #008000; font-weight: bold\">&lt;li</span> <span style=\"color: #7D9029\">class=</span><span style=\"color: #BA2121\">&quot;desktop&quot;</span><span style=\"color: #008000; font-weight: bold\">&gt;</span>\n",
       "     <span style=\"color: #008000; font-weight: bold\">&lt;a</span> <span style=\"color: #7D9029\">href=</span><span style=\"color: #BA2121\">&quot;//www.craigslist.org/about/privacy.policy&quot;</span><span style=\"color: #008000; font-weight: bold\">&gt;</span>\n",
       "      privacy\n",
       "     <span style=\"color: #008000; font-weight: bold\">&lt;/a&gt;</span>\n",
       "    <span style=\"color: #008000; font-weight: bold\">&lt;/li&gt;</span>\n",
       "    <span style=\"color: #008000; font-weight: bold\">&lt;li</span> <span style=\"color: #7D9029\">class=</span><span style=\"color: #BA2121\">&quot;desktop&quot;</span><span style=\"color: #008000; font-weight: bold\">&gt;</span>\n",
       "     <span style=\"color: #008000; font-weight: bold\">&lt;a</span> <span style=\"color: #7D9029\">href=</span><span style=\"color: #BA2121\">&quot;https://forums.craigslist.org/?forumID=8&quot;</span><span style=\"color: #008000; font-weight: bold\">&gt;</span>\n",
       "      feedback\n",
       "     <span style=\"color: #008000; font-weight: bold\">&lt;/a&gt;</span>\n",
       "    <span style=\"color: #008000; font-weight: bold\">&lt;/li&gt;</span>\n",
       "    <span style=\"color: #008000; font-weight: bold\">&lt;li</span> <span style=\"color: #7D9029\">class=</span><span style=\"color: #BA2121\">&quot;desktop&quot;</span><span style=\"color: #008000; font-weight: bold\">&gt;</span>\n",
       "     <span style=\"color: #008000; font-weight: bold\">&lt;a</span> <span style=\"color: #7D9029\">href=</span><span style=\"color: #BA2121\">&quot;//www.craigslist.org/about/craigslist_is_hiring&quot;</span><span style=\"color: #008000; font-weight: bold\">&gt;</span>\n",
       "      cl jobs\n",
       "     <span style=\"color: #008000; font-weight: bold\">&lt;/a&gt;</span>\n",
       "    <span style=\"color: #008000; font-weight: bold\">&lt;/li&gt;</span>\n",
       "    <span style=\"color: #008000; font-weight: bold\">&lt;li&gt;</span>\n",
       "     <span style=\"color: #008000; font-weight: bold\">&lt;a</span> <span style=\"color: #7D9029\">href=</span><span style=\"color: #BA2121\">&quot;//www.craigslist.org/about/terms.of.use.en&quot;</span><span style=\"color: #008000; font-weight: bold\">&gt;</span>\n",
       "      terms\n",
       "     <span style=\"color: #008000; font-weight: bold\">&lt;/a&gt;</span>\n",
       "    <span style=\"color: #008000; font-weight: bold\">&lt;/li&gt;</span>\n",
       "    <span style=\"color: #008000; font-weight: bold\">&lt;li&gt;</span>\n",
       "     <span style=\"color: #008000; font-weight: bold\">&lt;a</span> <span style=\"color: #7D9029\">href=</span><span style=\"color: #BA2121\">&quot;//www.craigslist.org/about/&quot;</span><span style=\"color: #008000; font-weight: bold\">&gt;</span>\n",
       "      about\n",
       "     <span style=\"color: #008000; font-weight: bold\">&lt;/a&gt;</span>\n",
       "    <span style=\"color: #008000; font-weight: bold\">&lt;/li&gt;</span>\n",
       "    <span style=\"color: #008000; font-weight: bold\">&lt;li</span> <span style=\"color: #7D9029\">class=</span><span style=\"color: #BA2121\">&quot;fsel desktop linklike&quot;</span> <span style=\"color: #7D9029\">data-mode=</span><span style=\"color: #BA2121\">&quot;mobile&quot;</span><span style=\"color: #008000; font-weight: bold\">&gt;</span>\n",
       "     mobile\n",
       "    <span style=\"color: #008000; font-weight: bold\">&lt;/li&gt;</span>\n",
       "    <span style=\"color: #008000; font-weight: bold\">&lt;li</span> <span style=\"color: #7D9029\">class=</span><span style=\"color: #BA2121\">&quot;fsel mobile linklike&quot;</span> <span style=\"color: #7D9029\">data-mode=</span><span style=\"color: #BA2121\">&quot;regular&quot;</span><span style=\"color: #008000; font-weight: bold\">&gt;</span>\n",
       "     desktop\n",
       "    <span style=\"color: #008000; font-weight: bold\">&lt;/li&gt;</span>\n",
       "   <span style=\"color: #008000; font-weight: bold\">&lt;/ul&gt;</span>\n",
       "  <span style=\"color: #008000; font-weight: bold\">&lt;/footer&gt;</span>\n",
       " <span style=\"color: #008000; font-weight: bold\">&lt;/section&gt;</span>\n",
       " <span style=\"color: #008000; font-weight: bold\">&lt;script </span><span style=\"color: #7D9029\">type=</span><span style=\"color: #BA2121\">&quot;text/javascript&quot;</span><span style=\"color: #008000; font-weight: bold\">&gt;</span>\n",
       "  <span style=\"color: #408080; font-style: italic\">&lt;!--</span>\n",
       "<span style=\"color: #008000; font-weight: bold\">var</span> countOfTotalText <span style=\"color: #666666\">=</span> <span style=\"color: #BA2121\">&quot;image {count} of {total}&quot;</span>;\n",
       "<span style=\"color: #008000; font-weight: bold\">var</span> imageHost <span style=\"color: #666666\">=</span> <span style=\"color: #BA2121\">&quot;//images.craigslist.org&quot;</span>;\n",
       "<span style=\"color: #008000; font-weight: bold\">var</span> maptileBaseUrl <span style=\"color: #666666\">=</span> <span style=\"color: #BA2121\">&quot;//map{s}.craigslist.org/t08/{z}/{x}/{y}.png&quot;</span>;\n",
       "<span style=\"color: #008000; font-weight: bold\">var</span> pID <span style=\"color: #666666\">=</span> <span style=\"color: #BA2121\">&quot;5564447352&quot;</span>;\n",
       "<span style=\"color: #008000; font-weight: bold\">var</span> repost_of <span style=\"color: #666666\">=</span> <span style=\"color: #666666\">4900026947</span>;\n",
       "<span style=\"color: #666666\">--&gt;</span>\n",
       " <span style=\"color: #008000; font-weight: bold\">&lt;/script&gt;</span>\n",
       " <span style=\"color: #008000; font-weight: bold\">&lt;script </span><span style=\"color: #7D9029\">src=</span><span style=\"color: #BA2121\">&quot;//www.craigslist.org/js/general-concat.min.js?v=5048a1c462be4f4946627a3fb8ae20b0&quot;</span> <span style=\"color: #7D9029\">type=</span><span style=\"color: #BA2121\">&quot;text/javascript&quot;</span><span style=\"color: #008000; font-weight: bold\">&gt;</span>\n",
       " <span style=\"color: #008000; font-weight: bold\">&lt;/script&gt;</span>\n",
       " <span style=\"color: #008000; font-weight: bold\">&lt;script </span><span style=\"color: #7D9029\">type=</span><span style=\"color: #BA2121\">&quot;text/javascript&quot;</span><span style=\"color: #008000; font-weight: bold\">&gt;</span>\n",
       "  <span style=\"color: #408080; font-style: italic\">&lt;!--</span>\n",
       "        <span style=\"color: #008000; font-weight: bold\">var</span> iframe <span style=\"color: #666666\">=</span> <span style=\"color: #008000\">document</span>.createElement(<span style=\"color: #BA2121\">&#39;iframe&#39;</span>);\n",
       "        iframe.style.display <span style=\"color: #666666\">=</span> <span style=\"color: #BA2121\">&#39;none&#39;</span>;\n",
       "        iframe.src <span style=\"color: #666666\">=</span> <span style=\"color: #BA2121\">&#39;//www.&#39;</span> <span style=\"color: #666666\">+</span> CL.url.baseDomain <span style=\"color: #666666\">+</span> <span style=\"color: #BA2121\">&#39;/static/localstorage.html?v=51a29e41f8e978141e4085ed4a77d170&#39;</span>;\n",
       "        <span style=\"color: #008000\">document</span>.body.insertBefore(iframe, <span style=\"color: #008000; font-weight: bold\">null</span>);\n",
       "    <span style=\"color: #666666\">--&gt;</span>\n",
       " <span style=\"color: #008000; font-weight: bold\">&lt;/script&gt;</span>\n",
       " <span style=\"color: #008000; font-weight: bold\">&lt;script </span><span style=\"color: #7D9029\">src=</span><span style=\"color: #BA2121\">&quot;//www.craigslist.org/js/leaflet-concat.min.js?v=99342ca2e724a94a467ce3d92f15def4&quot;</span> <span style=\"color: #7D9029\">type=</span><span style=\"color: #BA2121\">&quot;text/javascript&quot;</span><span style=\"color: #008000; font-weight: bold\">&gt;</span>\n",
       " <span style=\"color: #008000; font-weight: bold\">&lt;/script&gt;</span>\n",
       " <span style=\"color: #008000; font-weight: bold\">&lt;script </span><span style=\"color: #7D9029\">src=</span><span style=\"color: #BA2121\">&quot;//www.craigslist.org/js/postings-concat.min.js?v=7097fc71c5c8a0ea56af2aa10396501c&quot;</span> <span style=\"color: #7D9029\">type=</span><span style=\"color: #BA2121\">&quot;text/javascript&quot;</span><span style=\"color: #008000; font-weight: bold\">&gt;</span>\n",
       " <span style=\"color: #008000; font-weight: bold\">&lt;/script&gt;</span>\n",
       "<span style=\"color: #008000; font-weight: bold\">&lt;/body&gt;</span>\n",
       "</pre></div>\n",
       "<hr/>"
      ],
      "text/plain": [
       "<body class=\"posting en\">\\n<script type=\"text/javascript\"><!--\\n    function C(k){return(document.cookie.match('(^|; )'+k+'=([^;]*)')||0)[2]}\\n    var pagetype, pagemode;\\n    (function(){\\n        var h = document.documentElement;\\n        h.className = h.className.replace('no-js', 'js');\\n        var b = document.body;\\n        var bodyClassList = b.className.split(/\\\\s+/);;\\n        pagetype = bodyClassList[0]; // dangerous assumption\\n        var fmt = C('cl_fmt');\\n        if ( fmt === 'regular' || fmt === 'mobile' ) {\\n            pagemode = fmt;\\n        } else if (screen.width <= 480) {\\n            pagemode = 'mobile';\\n        } else {\\n            pagemode = 'regular';\\n        }\\n        pagemode = pagemode === 'mobile' ? 'mobile' : 'desktop';\\n        bodyClassList.push(pagemode);\\n        if (C('hidesearch') === '1' && pagemode !== 'mobile') {\\n            bodyClassList.push('hide-search');\\n        }\\n        var width = window.innerWidth || document.documentElement.clientWidth;\\n        if (width > 1000) { bodyClassList.push('w1024'); }\\n        if (typeof window.sectionBase !== 'undefined') {\\n            var mode = (decodeURIComponent(C('cl_tocmode') || '').match(new RegExp(window.sectionBase + ':([^,]+)', 'i')) || {})[1] || window.defaultView;\\n            if (mode) {\\n                bodyClassList.push(mode);\\n            }\\n        }\\n        b.className = bodyClassList.join(' ');\\n    }());\\n--></script>\\n<section id=\"pagecontainer\">\\n<div class=\"bglogo\"></div>\\n<header class=\"global-header\">\\n<a class=\"header-logo\" href=\"/\">CL</a>\\n<nav class=\"breadcrumbs-container\">\\n<ul class=\"breadcrumbs\">\\n<li class=\"crumb area\">\\n<p>\\n<a href=\"/\">chicago</a>\\n<span class=\"breadcrumb-arrow\">&gt;</span>\\n</p>\\n</li>\\n<li class=\"crumb subarea\">\\n<p>\\n<a href=\"/chc/\">city of chicago</a>\\n<span class=\"breadcrumb-arrow\">&gt;</span>\\n</p>\\n</li>\\n<li class=\"crumb section\">\\n<p>\\n<a href=\"/sss\">for sale</a>\\n<span class=\"breadcrumb-arrow\">&gt;</span>\\n</p>\\n</li>\\n<li class=\"crumb category\">\\n<p>\\n<a href=\"/clo\">clothing &amp; accessories - by owner</a>\\n</p>\\n</li>\\n<li class=\"crumb no-js\">\\n<input type=\"submit\" value=\"go\"/>\\n</li>\\n</ul>\\n</nav>\\n<div class=\"userlinks\">\\n<ul class=\"user-actions\">\\n<li class=\"user post\">\\n<a href=\"https://post.craigslist.org/c/chi\">post</a>\\n</li>\\n<li class=\"user account\">\\n<a href=\"https://accounts.craigslist.org/login/home\">account</a>\\n</li>\\n</ul>\\n<ul class=\"user-favs-discards\">\\n<li class=\"user\">\\n<div class=\"favorites\">\\n<a class=\"favlink\" href=\"#\"><span aria-hidden=\"true\" class=\"icon icon-star fav\"></span><span class=\"fav-number\">0</span><span class=\"fav-label\"> favorites</span></a>\\n</div>\\n</li>\\n<li class=\"user discards\">\\n<div>\\n<span aria-hidden=\"true\" class=\"icon icon-trash red\"></span><span class=\"hidden_count linklike withmap\"></span><span class=\"hidden_count linklike nomap\"></span><span class=\"discards-label linklike\"> hidden</span>\\n</div>\\n</li>\\n</ul>\\n</div>\\n</header>\\n<section class=\"body\">\\n<br/>\\n<br/>\\n<div id=\"userbody\">\\n<div class=\"prevnext js-only\">\\n<a class=\"prev\">\\u25c0  prev </a>\\n<a class=\"backup\" title=\"back to search\">\\u25b2</a>\\n<a class=\"next\"> next \\u25b6 </a>\\n</div>\\n<span id=\"has_been_removed\"></span>\\n<div class=\"removed\">\\n<h2>This posting has expired.</h2>\\n<h5>(The title on the listings page will be removed in just a few minutes.)</h5>\\n</div>\\n</div>\\n<br/>\\n</section>\\n<footer>\\n<ul class=\"clfooter\">\\n<li>\\xa9 2016 <span class=\"desktop\">craigslist</span><span class=\"mobile\">CL</span></li>\\n<li><a href=\"//www.craigslist.org/about/help/\">help</a></li>\\n<li><a href=\"//www.craigslist.org/about/scams\">safety</a></li>\\n<li class=\"desktop\"><a href=\"//www.craigslist.org/about/privacy.policy\">privacy</a></li>\\n<li class=\"desktop\"><a href=\"https://forums.craigslist.org/?forumID=8\">feedback</a></li>\\n<li class=\"desktop\"><a href=\"//www.craigslist.org/about/craigslist_is_hiring\">cl jobs</a></li>\\n<li><a href=\"//www.craigslist.org/about/terms.of.use.en\">terms</a></li>\\n<li><a href=\"//www.craigslist.org/about/\">about</a></li>\\n<li class=\"fsel desktop linklike\" data-mode=\"mobile\">mobile</li>\\n<li class=\"fsel mobile linklike\" data-mode=\"regular\">desktop</li>\\n</ul>\\n</footer>\\n</section>\\n<script type=\"text/javascript\"><!--\\nvar countOfTotalText = \"image {count} of {total}\";\\nvar imageHost = \"//images.craigslist.org\";\\nvar maptileBaseUrl = \"//map{s}.craigslist.org/t08/{z}/{x}/{y}.png\";\\nvar pID = \"5564447352\";\\nvar repost_of = 4900026947;\\n--></script>\\n<script src=\"//www.craigslist.org/js/general-concat.min.js?v=5048a1c462be4f4946627a3fb8ae20b0\" type=\"text/javascript\"></script>\\n<script type=\"text/javascript\"><!--\\n        var iframe = document.createElement('iframe');\\n        iframe.style.display = 'none';\\n        iframe.src = '//www.' + CL.url.baseDomain + '/static/localstorage.html?v=51a29e41f8e978141e4085ed4a77d170';\\n        document.body.insertBefore(iframe, null);\\n    --></script>\\n<script src=\"//www.craigslist.org/js/leaflet-concat.min.js?v=99342ca2e724a94a467ce3d92f15def4\" type=\"text/javascript\"></script>\\n<script src=\"//www.craigslist.org/js/postings-concat.min.js?v=7097fc71c5c8a0ea56af2aa10396501c\" type=\"text/javascript\"></script>\\n</body>"
      ]
     },
     "execution_count": 24,
     "metadata": {},
     "output_type": "execute_result"
    }
   ],
   "source": [
    "list(soup.html.children)[3]"
   ]
  },
  {
   "cell_type": "code",
   "execution_count": 25,
   "metadata": {
    "collapsed": false
   },
   "outputs": [
    {
     "data": {
      "text/html": [
       "<table><tr><th>Index</th><th>Render</th><th>source</th></tr></table>"
      ],
      "text/plain": [
       "[]"
      ]
     },
     "execution_count": 25,
     "metadata": {},
     "output_type": "execute_result"
    }
   ],
   "source": [
    "soup.find_all(name=\"span\", attrs={\"id\": \"titletextonly\"})"
   ]
  },
  {
   "cell_type": "markdown",
   "metadata": {},
   "source": [
    "## Exercise 1, Band detector, 3 points\n",
    "\n",
    "Write a function that takes as input listing and returns band name (for instance Megadeth, if this is actually a ticket for a specific band concert). Test it on 10 listings\n",
    "of your choice.\n",
    "\n",
    "Tips:\n",
    "    * Make sure you standardize listing text and band name\n",
    "    * You can explicitely search for tickets on craiglists\n",
    "    * You will need a list of artits, this should do: http://labrosa.ee.columbia.edu/millionsong/sites/default/files/AdditionalFiles/unique_artists.txt\n",
    "   "
   ]
  },
  {
   "cell_type": "markdown",
   "metadata": {},
   "source": [
    "## Exercise 2, What is the average ticket price for given artist, 2 points\n",
    " * Collect >1000 listings for 3 cities of your choice\n",
    " * Convert results to a pandas DataFrame with columns title, band_name, ticket_price, city\n",
    " * Plot a histogram of prices and list top most expensive 10 artists\n",
    " * Plot of boxplot of ticket_price per city, are there any differences?\n",
    " \n",
    " ### Bonus for +2 points:\n",
    "    * Plot average concert ticket price for each state capital and plot this using http://wrobstory.github.io/2013/04/python-maps-choropleth.html"
   ]
  },
  {
   "cell_type": "markdown",
   "metadata": {},
   "source": [
    "# Machine Learning in 15 minutes :)\n",
    "\n",
    "This follows closely https://github.com/hangtwenty/dive-into-machine-learning\n",
    "\n",
    "In general, a learning problem considers a set of n samples of data and then tries to predict properties of unknown data. If each sample is more than a single number and, for instance, a multi-dimensional entry (aka multivariate data), is it said to have several attributes or features.\n",
    "\n",
    "Examples:\n",
    "* Classify digit pictures\n",
    "* Classify iris flowers\n",
    "\n",
    "If we want to say how good our model is we shouldn't use training dataset, but to simplify example this is what we do here"
   ]
  },
  {
   "cell_type": "code",
   "execution_count": 128,
   "metadata": {
    "collapsed": true
   },
   "outputs": [],
   "source": [
    "from sklearn import datasets\n",
    "iris = datasets.load_iris()\n",
    "digits = datasets.load_digits()"
   ]
  },
  {
   "cell_type": "code",
   "execution_count": 134,
   "metadata": {
    "collapsed": false
   },
   "outputs": [
    {
     "data": {
      "text/plain": [
       "(1797, 64)"
      ]
     },
     "execution_count": 134,
     "metadata": {},
     "output_type": "execute_result"
    }
   ],
   "source": [
    "digits.data.shape"
   ]
  },
  {
   "cell_type": "code",
   "execution_count": 129,
   "metadata": {
    "collapsed": false
   },
   "outputs": [
    {
     "name": "stdout",
     "output_type": "stream",
     "text": [
      "[[  0.   0.   5. ...,   0.   0.   0.]\n",
      " [  0.   0.   0. ...,  10.   0.   0.]\n",
      " [  0.   0.   0. ...,  16.   9.   0.]\n",
      " ..., \n",
      " [  0.   0.   1. ...,   6.   0.   0.]\n",
      " [  0.   0.   2. ...,  12.   0.   0.]\n",
      " [  0.   0.  10. ...,  12.   1.   0.]]\n"
     ]
    }
   ],
   "source": [
    "print(digits.data) "
   ]
  },
  {
   "cell_type": "code",
   "execution_count": 130,
   "metadata": {
    "collapsed": false
   },
   "outputs": [
    {
     "name": "stdout",
     "output_type": "stream",
     "text": [
      "[0 1 2 ..., 8 9 8]\n"
     ]
    }
   ],
   "source": [
    "print digits.target"
   ]
  },
  {
   "cell_type": "code",
   "execution_count": 136,
   "metadata": {
    "collapsed": false
   },
   "outputs": [
    {
     "data": {
      "text/plain": [
       "<matplotlib.image.AxesImage at 0x11d5f3490>"
      ]
     },
     "execution_count": 136,
     "metadata": {},
     "output_type": "execute_result"
    },
    {
     "data": {
      "image/png": "[encoded data removed]",
      "text/plain": [
       "<matplotlib.figure.Figure at 0x11d59ac50>"
      ]
     },
     "metadata": {},
     "output_type": "display_data"
    }
   ],
   "source": [
    "%matplotlib inline\n",
    "import matplotlib.pylab as plt\n",
    "plt.imshow(digits.data[0].reshape(8,8), cmap=\"gray\")"
   ]
  },
  {
   "cell_type": "code",
   "execution_count": 137,
   "metadata": {
    "collapsed": true
   },
   "outputs": [],
   "source": [
    "from sklearn import svm\n",
    "clf = svm.SVC(gamma=0.001, C=100.)"
   ]
  },
  {
   "cell_type": "code",
   "execution_count": 138,
   "metadata": {
    "collapsed": false
   },
   "outputs": [
    {
     "data": {
      "text/plain": [
       "SVC(C=100.0, cache_size=200, class_weight=None, coef0=0.0,\n",
       "  decision_function_shape=None, degree=3, gamma=0.001, kernel='rbf',\n",
       "  max_iter=-1, probability=False, random_state=None, shrinking=True,\n",
       "  tol=0.001, verbose=False)"
      ]
     },
     "execution_count": 138,
     "metadata": {},
     "output_type": "execute_result"
    }
   ],
   "source": [
    "clf.fit(digits.data[:-1], digits.target[:-1])  "
   ]
  },
  {
   "cell_type": "code",
   "execution_count": 147,
   "metadata": {
    "collapsed": false
   },
   "outputs": [
    {
     "data": {
      "text/plain": [
       "array([9])"
      ]
     },
     "execution_count": 147,
     "metadata": {},
     "output_type": "execute_result"
    }
   ],
   "source": [
    "clf.predict(digits.data[-2:-1])"
   ]
  },
  {
   "cell_type": "code",
   "execution_count": 146,
   "metadata": {
    "collapsed": false
   },
   "outputs": [
    {
     "data": {
      "text/plain": [
       "<matplotlib.image.AxesImage at 0x118712650>"
      ]
     },
     "execution_count": 146,
     "metadata": {},
     "output_type": "execute_result"
    },
    {
     "data": {
      "image/png": "[encoded data removed]",
      "text/plain": [
       "<matplotlib.figure.Figure at 0x11d76b090>"
      ]
     },
     "metadata": {},
     "output_type": "display_data"
    }
   ],
   "source": [
    "plt.imshow(digits.data[-2].reshape(8,8), cmap=\"gray\")"
   ]
  },
  {
   "cell_type": "markdown",
   "metadata": {},
   "source": [
    "## Exercise 3, 1 point\n",
    "\n",
    "Read and understand http://www.r2d3.us/visual-intro-to-machine-learning-part-1/"
   ]
  },
  {
   "cell_type": "markdown",
   "metadata": {},
   "source": [
    "### Exercise 4, MPAA Rating predictor, 3 points\n",
    "\n",
    "\"The \"body counts\" for this site are mostly \"on screen kills/deaths\" or fatal/critical/mortal shots/hits of human, humanoid, or creatures (ie monsters, aliens, zombies.) The rule of thumb is \"do they bleed\" which will leave the concept of cyborgs somewhat open and decided per film. The human and creature counts should be separate. These will be added together for a final tally.\"\n",
    "\n",
    "* Load Body Count dataset from https://figshare.com/articles/On_screen_movie_kill_counts_for_hundreds_of_films/889719\n",
    "* See how it looks (data.head())\n",
    "* Use Body_Count and Genre to predict if MPAA_Rathing == 'R' using LogisticRegression classifier (so this is **binary** classification)\n",
    "* Achieve > 65% accuracy\n",
    "\n",
    "Hint:\n",
    "* Convert Genre to one hot encoded vector (so your final DataFrame will have columns Body_Count, IsRomance, IsAction, etc)\n",
    "* This is how my table (X.describe()) looks after processing\n",
    "\n",
    "    <img src=\"img/11/movie_count_processed.png\">"
   ]
  },
  {
   "cell_type": "code",
   "execution_count": 1,
   "metadata": {
    "collapsed": true
   },
   "outputs": [],
   "source": [
    "import pandas as pd"
   ]
  },
  {
   "cell_type": "code",
   "execution_count": 11,
   "metadata": {
    "collapsed": true
   },
   "outputs": [],
   "source": [
    "X = pd.read_csv(\"/Users/kudkudak/Downloads/filmdeathcounts.csv\")"
   ]
  },
  {
   "cell_type": "code",
   "execution_count": 14,
   "metadata": {
    "collapsed": false
   },
   "outputs": [
    {
     "data": {
      "text/plain": [
       "2002"
      ]
     },
     "execution_count": 14,
     "metadata": {},
     "output_type": "execute_result"
    }
   ],
   "source": [
    "X['Year']"
   ]
  },
  {
   "cell_type": "markdown",
   "metadata": {},
   "source": [
    "## Exercise 5 [OBLIGATORY VERY MUCH], Pick project, 0 points\n",
    "\n",
    "Send me a project idea + team (<=3, suggested 2) before next laboratories. See project_ideas.ipynb"
   ]
  }
 ],
 "metadata": {
  "kernelspec": {
   "display_name": "Python 2",
   "language": "python",
   "name": "python2"
  },
  "language_info": {
   "codemirror_mode": {
    "name": "ipython",
    "version": 2
   },
   "file_extension": ".py",
   "mimetype": "text/x-python",
   "name": "python",
   "nbconvert_exporter": "python",
   "pygments_lexer": "ipython2",
   "version": "2.7.11"
  }
 },
 "nbformat": 4,
 "nbformat_minor": 0
}
