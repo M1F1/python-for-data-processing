{
 "cells": [
  {
   "cell_type": "markdown",
   "metadata": {},
   "source": [
    "# Lab 5, 31.03"
   ]
  },
  {
   "cell_type": "markdown",
   "metadata": {},
   "source": [
    "Can we replace Excel workflow by Python code? Probably!\n",
    "\n",
    "We will first learn harder way of working with text data, and then introduce Pandas for speeding things up. This can be very useful for course project."
   ]
  },
  {
   "cell_type": "markdown",
   "metadata": {},
   "source": [
    "<img src=\"https://imgs.xkcd.com/comics/data.png\">"
   ]
  },
  {
   "cell_type": "markdown",
   "metadata": {},
   "source": [
    "## List and dict comprehension\n",
    "\n",
    "Trick (but also speeds up code a lot) for fast constructing lists"
   ]
  },
  {
   "cell_type": "code",
   "execution_count": 9,
   "metadata": {
    "collapsed": false
   },
   "outputs": [
    {
     "name": "stdout",
     "output_type": "stream",
     "text": [
      "[1, 4, 9, 16, 25, 36, 49, 64, 81]\n"
     ]
    }
   ],
   "source": [
    "[x**2 for x in range(1, 10)] # List comprehension"
   ]
  },
  {
   "cell_type": "code",
   "execution_count": 10,
   "metadata": {
    "collapsed": false
   },
   "outputs": [
    {
     "data": {
      "text/plain": [
       "{1: 1, 2: 4, 3: 9, 4: 16, 5: 25, 6: 36, 7: 49, 8: 64, 9: 81}"
      ]
     },
     "execution_count": 10,
     "metadata": {},
     "output_type": "execute_result"
    }
   ],
   "source": [
    "{x: x**2 for x in range(1, 10)} # Dict comprehension"
   ]
  },
  {
   "cell_type": "code",
   "execution_count": null,
   "metadata": {
    "collapsed": true
   },
   "outputs": [],
   "source": [
    "assert primes(5) == [2, 3, 5]"
   ]
  },
  {
   "cell_type": "markdown",
   "metadata": {},
   "source": [
    "## I/O\n",
    "\n",
    "Content is based on http://opentechschool.github.io/python-data-intro"
   ]
  },
  {
   "cell_type": "code",
   "execution_count": 2,
   "metadata": {
    "collapsed": false
   },
   "outputs": [
    {
     "name": "stdout",
     "output_type": "stream",
     "text": [
      "January\n",
      "February\n",
      "March\n",
      "April\n",
      "May\n",
      "June\n",
      "July\n",
      "August\n",
      "September\n",
      "October\n",
      "November\n",
      "December\n"
     ]
    }
   ],
   "source": [
    "f = open(\"data/4/months.txt\")\n",
    "print(f.read()) # Single blob of text"
   ]
  },
  {
   "cell_type": "code",
   "execution_count": 7,
   "metadata": {
    "collapsed": true
   },
   "outputs": [],
   "source": [
    "lines = open(\"data/4/months.txt\").read().splitlines() # Splitted conveniently by line"
   ]
  },
  {
   "cell_type": "code",
   "execution_count": 12,
   "metadata": {
    "collapsed": false
   },
   "outputs": [
    {
     "data": {
      "text/plain": [
       "['January',\n",
       " 'February',\n",
       " 'March',\n",
       " 'April',\n",
       " 'May',\n",
       " 'June',\n",
       " 'July',\n",
       " 'August',\n",
       " 'September',\n",
       " 'October',\n",
       " 'November',\n",
       " 'December']"
      ]
     },
     "execution_count": 12,
     "metadata": {},
     "output_type": "execute_result"
    }
   ],
   "source": [
    "lines"
   ]
  },
  {
   "cell_type": "code",
   "execution_count": 13,
   "metadata": {
    "collapsed": true
   },
   "outputs": [],
   "source": [
    "f = open(\"data/4/months_lower_case.txt\", \"w\")\n",
    "f.write(\"\\n\".join([x.lower() for x in lines])) # \"\\n\".join(list) is a \"trick\" function to quickly join lines with \\n"
   ]
  },
  {
   "cell_type": "markdown",
   "metadata": {},
   "source": [
    "# CSV files\n",
    "\n",
    "Most of data in human readable format will be CSV. Worth learning!"
   ]
  },
  {
   "cell_type": "code",
   "execution_count": 26,
   "metadata": {
    "collapsed": false
   },
   "outputs": [
    {
     "name": "stdout",
     "output_type": "stream",
     "text": [
      "\"Coffee\",\"Water\",\"Milk\",\"Icecream\"\n",
      "\"Espresso\",\"No\",\"No\",\"No\"\n"
     ]
    }
   ],
   "source": [
    "# Print first 2 lines of raw file\n",
    "from itertools import islice\n",
    "for line in islice(open(\"data/4/coffee.csv\"), 2): # Take 2 first elements\n",
    "    print line.strip() # Remove \\n"
   ]
  },
  {
   "cell_type": "code",
   "execution_count": 27,
   "metadata": {
    "collapsed": false
   },
   "outputs": [
    {
     "name": "stdout",
     "output_type": "stream",
     "text": [
      "['Coffee', 'Water', 'Milk', 'Icecream']\n",
      "['Espresso', 'No', 'No', 'No']\n",
      "['Long Black', 'Yes', 'No', 'No']\n",
      "['Flat White', 'No', 'Yes', 'No']\n",
      "['Cappuccino', 'No', 'Yes - Frothy', 'No']\n",
      "['Affogato', 'No', 'No', 'Yes']\n"
     ]
    }
   ],
   "source": [
    "# Reading CSV file\n",
    "import csv\n",
    "f=open(\"data/4/coffee.csv\")\n",
    "for row in csv.reader(f):\n",
    "    print(row)"
   ]
  },
  {
   "cell_type": "markdown",
   "metadata": {},
   "source": [
    "## Ex. 3 (Airports), 1 point\n",
    "\n",
    "Visit the [OpenFlights data page](http://openflights.org/data.html) and download their airports data file - \"airports.dat\". This is a file in CSV format, open it in a text editor if you want to have a look at it.\n",
    "\n",
    "Sample entry (line): ```507,\"Heathrow\",\"London\",\"United Kingdom\",\"LHR\",\"EGLL\",51.4775,-0.461389,83,0,\"E\",\"Europe/London\"```\n",
    "\n",
    "Print all airpots of given country"
   ]
  },
  {
   "cell_type": "code",
   "execution_count": 43,
   "metadata": {
    "collapsed": false
   },
   "outputs": [
    {
     "name": "stdout",
     "output_type": "stream",
     "text": [
      "Goroka\n"
     ]
    }
   ],
   "source": [
    "## Snippet to read first column (airport name) of airports.dat\n",
    "import csv\n",
    "f = open(\"data/4/airports.dat\")\n",
    "for row in csv.reader(f):\n",
    "    print(row[1])\n",
    "    break"
   ]
  },
  {
   "cell_type": "markdown",
   "metadata": {},
   "source": [
    "## Ex.4 (Histogram of route distances), 2 points\n",
    "\n",
    "Visit the [OpenFlights data page](http://openflights.org/data.html) and download their routes data file - \"routes.dat\". \n",
    "\n",
    "Sample entry (line): ```TOM,5013,ACE,1055,BFS,465,,0,320```\n",
    "\n",
    "This a multiple stage problem:\n",
    "\n",
    "* Read the airports file (airports.dat) and build a dictionary mapping the unique airport ID to the geographical coordinates (latitude & longitude.) This allows you to look up the location of each airport by its ID.\n",
    "\n",
    "* Read the routes file (routes.dat) and get the IDs of the source and destination airports. Look up the latitude and longitude based on the ID. Using those coordinates, calculate the length of the route and append it to a list of all route lengths.\n",
    "\n",
    "* Plot a histogram based on the route lengths, to show the distribution of different flight distances."
   ]
  },
  {
   "cell_type": "code",
   "execution_count": 38,
   "metadata": {
    "collapsed": false
   },
   "outputs": [
    {
     "data": {
      "text/plain": [
       "15973.237754707652"
      ]
     },
     "execution_count": 38,
     "metadata": {},
     "output_type": "execute_result"
    }
   ],
   "source": [
    "from math import cos,radians,sin,pow,asin,sqrt\n",
    "\n",
    "def geo_distance(lat1, long1, lat2, long2):\n",
    "    radius = 6371 # radius of the earth in km, roughly https://en.wikipedia.org/wiki/Earth_radius\n",
    "\n",
    "    # Lat,long are in degrees but we need radians\n",
    "    lat1 = radians(lat1)\n",
    "    lat2 = radians(lat2)\n",
    "    long1 = radians(long1)\n",
    "    long2 = radians(long2)\n",
    "\n",
    "    dlat = lat2-lat1\n",
    "    dlon = long2-long1\n",
    "\n",
    "    a = pow(sin(dlat/2),2) + cos(lat1)*cos(lat2)*pow(sin(dlon/2),2)\n",
    "    distance = 2 * radius * asin(sqrt(a))\n",
    "\n",
    "    return distance\n",
    "\n",
    "geo_distance(-37.814,144.963,52.519,13.406) # Melbourne to Berlin in km!"
   ]
  },
  {
   "cell_type": "markdown",
   "metadata": {},
   "source": [
    "## Pandas\n",
    "\n",
    "Content more or less copied from last year course https://github.com/gmum/python-lecture/blob/master/Pandas-1.ipynb"
   ]
  },
  {
   "cell_type": "markdown",
   "metadata": {},
   "source": [
    "**pandas** is an open source, BSD-licensed library providing \n",
    "\n",
    "+ high-performance, easy-to-use data structures and \n",
    "\n",
    "+ data analysis tools for the Python programming language."
   ]
  },
  {
   "cell_type": "markdown",
   "metadata": {},
   "source": [
    "## Intro to data structures"
   ]
  },
  {
   "cell_type": "markdown",
   "metadata": {},
   "source": [
    "### Series\n",
    "\n",
    "+ [Series](http://pandas.pydata.org/pandas-docs/stable/generated/pandas.Series.html#pandas.Series) is a one-dimensional labeled array capable of holding any data type (integers, strings, floating point numbers, Python objects, etc.). \n",
    "\n",
    "\n",
    "+ The axis labels are collectively referred to as the index. \n",
    "\n",
    "\n",
    "+ The basic method to create a Series is to call:"
   ]
  },
  {
   "cell_type": "code",
   "execution_count": null,
   "metadata": {
    "collapsed": true
   },
   "outputs": [],
   "source": [
    "s = Series(data, index=index)"
   ]
  },
  {
   "cell_type": "markdown",
   "metadata": {},
   "source": [
    "Here, `data` can be many different things:\n",
    "\n",
    "+ a Python `dict`\n",
    "+ an `ndarray`\n",
    "+ a scalar value (like 5)\n",
    "\n",
    "The passed `index` is a list of axis labels."
   ]
  },
  {
   "cell_type": "code",
   "execution_count": 9,
   "metadata": {
    "collapsed": false
   },
   "outputs": [
    {
     "data": {
      "text/plain": [
       "a    0.633218\n",
       "b    0.161945\n",
       "c    0.144935\n",
       "i    1.935944\n",
       "e    0.257336\n",
       "dtype: float64"
      ]
     },
     "execution_count": 9,
     "metadata": {},
     "output_type": "execute_result"
    }
   ],
   "source": [
    "import numpy as np\n",
    "from pandas import Series, DataFrame\n",
    "\n",
    "s = Series(np.random.randn(5), index=['a', 'b', 'c', 'i', 'e'])\n",
    "s"
   ]
  },
  {
   "cell_type": "markdown",
   "metadata": {},
   "source": [
    "#### Series is `dict`-like"
   ]
  },
  {
   "cell_type": "code",
   "execution_count": 3,
   "metadata": {
    "collapsed": false
   },
   "outputs": [
    {
     "data": {
      "text/plain": [
       "-0.55957557955183213"
      ]
     },
     "execution_count": 3,
     "metadata": {},
     "output_type": "execute_result"
    }
   ],
   "source": [
    "s['a']"
   ]
  },
  {
   "cell_type": "code",
   "execution_count": 4,
   "metadata": {
    "collapsed": false
   },
   "outputs": [
    {
     "data": {
      "text/plain": [
       "a   -1.119151\n",
       "b    1.384954\n",
       "c    1.341911\n",
       "i    0.674767\n",
       "e   -1.668974\n",
       "dtype: float64"
      ]
     },
     "execution_count": 4,
     "metadata": {},
     "output_type": "execute_result"
    }
   ],
   "source": [
    "s + s # Works!"
   ]
  },
  {
   "cell_type": "code",
   "execution_count": 6,
   "metadata": {
    "collapsed": false
   },
   "outputs": [
    {
     "data": {
      "text/plain": [
       "a         NaN\n",
       "b    1.384954\n",
       "c    1.341911\n",
       "e   -1.668974\n",
       "i    0.674767\n",
       "dtype: float64"
      ]
     },
     "execution_count": 6,
     "metadata": {},
     "output_type": "execute_result"
    }
   ],
   "source": [
    "s[1:] + s # Wow! Take home message: series is like adding np.arrays but with index book-keeping"
   ]
  },
  {
   "cell_type": "markdown",
   "metadata": {},
   "source": [
    "## Dataframe"
   ]
  },
  {
   "cell_type": "markdown",
   "metadata": {},
   "source": [
    "DataFrame is a 2-dimensional labeled data structure with columns of potentially different types.\n",
    "\n",
    "+ `Dict` of 1D `ndarrays`, `lists`, `dicts`, or Series\n",
    "+ 2-D `numpy.ndarray`\n",
    "+ Structured or record `ndarray`\n",
    "+ A Series\n",
    "+ Another DataFrame\n",
    "\n",
    "Along with the data, you can optionally pass **index** (row labels) and **columns** (column labels) arguments. "
   ]
  },
  {
   "cell_type": "markdown",
   "metadata": {},
   "source": [
    "If you pass an index and / or columns, you are guaranteeing the index and / or columns of the resulting DataFrame.\n",
    "\n",
    "Thus, a dict of Series plus a specific index will discard all data not matching up to the passed index.\n",
    "\n",
    "If axis labels are not passed, they will be constructed from the input data based on common sense rules."
   ]
  },
  {
   "cell_type": "code",
   "execution_count": 11,
   "metadata": {
    "collapsed": false
   },
   "outputs": [
    {
     "data": {
      "text/html": [
       "<div>\n",
       "<table border=\"1\" class=\"dataframe\">\n",
       "  <thead>\n",
       "    <tr style=\"text-align: right;\">\n",
       "      <th></th>\n",
       "      <th>one</th>\n",
       "      <th>two</th>\n",
       "    </tr>\n",
       "  </thead>\n",
       "  <tbody>\n",
       "    <tr>\n",
       "      <th>0</th>\n",
       "      <td>1.0</td>\n",
       "      <td>4.0</td>\n",
       "    </tr>\n",
       "    <tr>\n",
       "      <th>1</th>\n",
       "      <td>2.0</td>\n",
       "      <td>3.0</td>\n",
       "    </tr>\n",
       "    <tr>\n",
       "      <th>2</th>\n",
       "      <td>3.0</td>\n",
       "      <td>2.0</td>\n",
       "    </tr>\n",
       "    <tr>\n",
       "      <th>3</th>\n",
       "      <td>4.0</td>\n",
       "      <td>1.0</td>\n",
       "    </tr>\n",
       "  </tbody>\n",
       "</table>\n",
       "</div>"
      ],
      "text/plain": [
       "   one  two\n",
       "0  1.0  4.0\n",
       "1  2.0  3.0\n",
       "2  3.0  2.0\n",
       "3  4.0  1.0"
      ]
     },
     "execution_count": 11,
     "metadata": {},
     "output_type": "execute_result"
    }
   ],
   "source": [
    "d = {'one' : [1., 2., 3., 4.],\n",
    "     'two' : [4., 3., 2., 1.]}\n",
    "DataFrame(d)"
   ]
  },
  {
   "cell_type": "code",
   "execution_count": 12,
   "metadata": {
    "collapsed": false
   },
   "outputs": [
    {
     "data": {
      "text/html": [
       "<div>\n",
       "<table border=\"1\" class=\"dataframe\">\n",
       "  <thead>\n",
       "    <tr style=\"text-align: right;\">\n",
       "      <th></th>\n",
       "      <th>one</th>\n",
       "      <th>two</th>\n",
       "    </tr>\n",
       "  </thead>\n",
       "  <tbody>\n",
       "    <tr>\n",
       "      <th>a</th>\n",
       "      <td>1.0</td>\n",
       "      <td>1.0</td>\n",
       "    </tr>\n",
       "    <tr>\n",
       "      <th>b</th>\n",
       "      <td>2.0</td>\n",
       "      <td>2.0</td>\n",
       "    </tr>\n",
       "    <tr>\n",
       "      <th>c</th>\n",
       "      <td>3.0</td>\n",
       "      <td>3.0</td>\n",
       "    </tr>\n",
       "    <tr>\n",
       "      <th>d</th>\n",
       "      <td>NaN</td>\n",
       "      <td>4.0</td>\n",
       "    </tr>\n",
       "  </tbody>\n",
       "</table>\n",
       "</div>"
      ],
      "text/plain": [
       "   one  two\n",
       "a  1.0  1.0\n",
       "b  2.0  2.0\n",
       "c  3.0  3.0\n",
       "d  NaN  4.0"
      ]
     },
     "execution_count": 12,
     "metadata": {},
     "output_type": "execute_result"
    }
   ],
   "source": [
    "d = {'one' : Series([1., 2., 3.], index=['a', 'b', 'c']),\n",
    "     'two' : Series([1., 2., 3., 4.], index=['a', 'b', 'c', 'd'])}\n",
    "\n",
    "df = DataFrame(d)\n",
    "df"
   ]
  },
  {
   "cell_type": "code",
   "execution_count": 66,
   "metadata": {
    "collapsed": false
   },
   "outputs": [
    {
     "data": {
      "text/html": [
       "<div>\n",
       "<table border=\"1\" class=\"dataframe\">\n",
       "  <thead>\n",
       "    <tr style=\"text-align: right;\">\n",
       "      <th></th>\n",
       "      <th>a</th>\n",
       "      <th>b</th>\n",
       "      <th>c</th>\n",
       "    </tr>\n",
       "  </thead>\n",
       "  <tbody>\n",
       "    <tr>\n",
       "      <th>0</th>\n",
       "      <td>5</td>\n",
       "      <td>NaN</td>\n",
       "      <td>NaN</td>\n",
       "    </tr>\n",
       "    <tr>\n",
       "      <th>1</th>\n",
       "      <td>1</td>\n",
       "      <td>2.0</td>\n",
       "      <td>NaN</td>\n",
       "    </tr>\n",
       "    <tr>\n",
       "      <th>2</th>\n",
       "      <td>5</td>\n",
       "      <td>10.0</td>\n",
       "      <td>20.0</td>\n",
       "    </tr>\n",
       "  </tbody>\n",
       "</table>\n",
       "</div>"
      ],
      "text/plain": [
       "   a     b     c\n",
       "0  5   NaN   NaN\n",
       "1  1   2.0   NaN\n",
       "2  5  10.0  20.0"
      ]
     },
     "execution_count": 66,
     "metadata": {},
     "output_type": "execute_result"
    }
   ],
   "source": [
    "data2 = [{\"a\": 5}, {'a': 1, 'b': 2}, \n",
    "         {'a': 5, 'b': 10, 'c': 20}]\n",
    "x = DataFrame(data2)\n",
    "x"
   ]
  },
  {
   "cell_type": "markdown",
   "metadata": {},
   "source": [
    "## There are some cool functions"
   ]
  },
  {
   "cell_type": "code",
   "execution_count": 67,
   "metadata": {
    "collapsed": false
   },
   "outputs": [
    {
     "data": {
      "text/plain": [
       "array([[<matplotlib.axes._subplots.AxesSubplot object at 0x1162e5dd0>]], dtype=object)"
      ]
     },
     "execution_count": 67,
     "metadata": {},
     "output_type": "execute_result"
    },
    {
     "data": {
      "image/png": "[encoded data removed]",
      "text/plain": [
       "<matplotlib.figure.Figure at 0x118565f10>"
      ]
     },
     "metadata": {},
     "output_type": "display_data"
    }
   ],
   "source": [
    "x.hist(\"a\")"
   ]
  },
  {
   "cell_type": "code",
   "execution_count": 52,
   "metadata": {
    "collapsed": false
   },
   "outputs": [
    {
     "data": {
      "text/plain": [
       "<matplotlib.axes._subplots.AxesSubplot at 0x111e59850>"
      ]
     },
     "execution_count": 52,
     "metadata": {},
     "output_type": "execute_result"
    },
    {
     "data": {
      "image/png": "[encoded data removed]",
      "text/plain": [
       "<matplotlib.figure.Figure at 0x11199b2d0>"
      ]
     },
     "metadata": {},
     "output_type": "display_data"
    }
   ],
   "source": [
    "x.plot(kind=\"scatter\", x=\"a\", y=\"b\")"
   ]
  },
  {
   "cell_type": "markdown",
   "metadata": {
    "collapsed": true
   },
   "source": [
    "# Example: Movie analysis"
   ]
  },
  {
   "cell_type": "code",
   "execution_count": 77,
   "metadata": {
    "collapsed": false
   },
   "outputs": [
    {
     "name": "stderr",
     "output_type": "stream",
     "text": [
      "/Users/kudkudak/anaconda/lib/python2.7/site-packages/ipykernel/__main__.py:6: ParserWarning: Falling back to the 'python' engine because the 'c' engine does not support regex separators; you can avoid this warning by specifying engine='python'.\n",
      "/Users/kudkudak/anaconda/lib/python2.7/site-packages/ipykernel/__main__.py:10: ParserWarning: Falling back to the 'python' engine because the 'c' engine does not support regex separators; you can avoid this warning by specifying engine='python'.\n",
      "/Users/kudkudak/anaconda/lib/python2.7/site-packages/ipykernel/__main__.py:14: ParserWarning: Falling back to the 'python' engine because the 'c' engine does not support regex separators; you can avoid this warning by specifying engine='python'.\n"
     ]
    },
    {
     "data": {
      "text/plain": [
       "array([[<matplotlib.axes._subplots.AxesSubplot object at 0x1185c7490>]], dtype=object)"
      ]
     },
     "execution_count": 77,
     "metadata": {},
     "output_type": "execute_result"
    },
    {
     "data": {
      "image/png": "[encoded data removed]",
      "text/plain": [
       "<matplotlib.figure.Figure at 0x131390110>"
      ]
     },
     "metadata": {},
     "output_type": "display_data"
    }
   ],
   "source": [
    "# Don't run, example how to process data in \"real world\"\n",
    "import os\n",
    "def get_movie_data():\n",
    "    unames = ['user_id','gender','age','occupation','zip']\n",
    "    users = pd.read_table(os.path.join('data','5','users.dat'), \n",
    "                          sep='::', header=None, names=unames)\n",
    "    \n",
    "    rnames = ['user_id', 'movie_id', 'rating', 'timestamp']\n",
    "    ratings = pd.read_table(os.path.join('data','5','ratings.dat'), \n",
    "                            sep='::', header=None, names=rnames)\n",
    "    \n",
    "    mnames = ['movie_id', 'title','genres']\n",
    "    movies = pd.read_table(os.path.join('data','5','movies.dat'), \n",
    "                           sep='::', header=None, names=mnames)\n",
    "\n",
    "    data = pd.merge(pd.merge(ratings, users), movies)\n",
    "    \n",
    "    return data\n",
    "movie_data = get_movie_data()\n",
    "movie_data.to_csv(\"data/5/movies.csv\")\n",
    "movie_data.hist(\"age\")"
   ]
  },
  {
   "cell_type": "code",
   "execution_count": 79,
   "metadata": {
    "collapsed": false
   },
   "outputs": [
    {
     "data": {
      "text/html": [
       "<div>\n",
       "<table border=\"1\" class=\"dataframe\">\n",
       "  <thead>\n",
       "    <tr style=\"text-align: right;\">\n",
       "      <th></th>\n",
       "      <th>user_id</th>\n",
       "      <th>movie_id</th>\n",
       "      <th>rating</th>\n",
       "      <th>timestamp</th>\n",
       "      <th>gender</th>\n",
       "      <th>age</th>\n",
       "      <th>occupation</th>\n",
       "      <th>zip</th>\n",
       "      <th>title</th>\n",
       "      <th>genres</th>\n",
       "    </tr>\n",
       "  </thead>\n",
       "  <tbody>\n",
       "    <tr>\n",
       "      <th>0</th>\n",
       "      <td>1</td>\n",
       "      <td>1193</td>\n",
       "      <td>5</td>\n",
       "      <td>978300760</td>\n",
       "      <td>F</td>\n",
       "      <td>1</td>\n",
       "      <td>10</td>\n",
       "      <td>48067</td>\n",
       "      <td>One Flew Over the Cuckoo's Nest (1975)</td>\n",
       "      <td>Drama</td>\n",
       "    </tr>\n",
       "    <tr>\n",
       "      <th>1</th>\n",
       "      <td>2</td>\n",
       "      <td>1193</td>\n",
       "      <td>5</td>\n",
       "      <td>978298413</td>\n",
       "      <td>M</td>\n",
       "      <td>56</td>\n",
       "      <td>16</td>\n",
       "      <td>70072</td>\n",
       "      <td>One Flew Over the Cuckoo's Nest (1975)</td>\n",
       "      <td>Drama</td>\n",
       "    </tr>\n",
       "    <tr>\n",
       "      <th>2</th>\n",
       "      <td>12</td>\n",
       "      <td>1193</td>\n",
       "      <td>4</td>\n",
       "      <td>978220179</td>\n",
       "      <td>M</td>\n",
       "      <td>25</td>\n",
       "      <td>12</td>\n",
       "      <td>32793</td>\n",
       "      <td>One Flew Over the Cuckoo's Nest (1975)</td>\n",
       "      <td>Drama</td>\n",
       "    </tr>\n",
       "    <tr>\n",
       "      <th>3</th>\n",
       "      <td>15</td>\n",
       "      <td>1193</td>\n",
       "      <td>4</td>\n",
       "      <td>978199279</td>\n",
       "      <td>M</td>\n",
       "      <td>25</td>\n",
       "      <td>7</td>\n",
       "      <td>22903</td>\n",
       "      <td>One Flew Over the Cuckoo's Nest (1975)</td>\n",
       "      <td>Drama</td>\n",
       "    </tr>\n",
       "    <tr>\n",
       "      <th>4</th>\n",
       "      <td>17</td>\n",
       "      <td>1193</td>\n",
       "      <td>5</td>\n",
       "      <td>978158471</td>\n",
       "      <td>M</td>\n",
       "      <td>50</td>\n",
       "      <td>1</td>\n",
       "      <td>95350</td>\n",
       "      <td>One Flew Over the Cuckoo's Nest (1975)</td>\n",
       "      <td>Drama</td>\n",
       "    </tr>\n",
       "  </tbody>\n",
       "</table>\n",
       "</div>"
      ],
      "text/plain": [
       "   user_id  movie_id  rating  timestamp gender  age  occupation    zip  \\\n",
       "0        1      1193       5  978300760      F    1          10  48067   \n",
       "1        2      1193       5  978298413      M   56          16  70072   \n",
       "2       12      1193       4  978220179      M   25          12  32793   \n",
       "3       15      1193       4  978199279      M   25           7  22903   \n",
       "4       17      1193       5  978158471      M   50           1  95350   \n",
       "\n",
       "                                    title genres  \n",
       "0  One Flew Over the Cuckoo's Nest (1975)  Drama  \n",
       "1  One Flew Over the Cuckoo's Nest (1975)  Drama  \n",
       "2  One Flew Over the Cuckoo's Nest (1975)  Drama  \n",
       "3  One Flew Over the Cuckoo's Nest (1975)  Drama  \n",
       "4  One Flew Over the Cuckoo's Nest (1975)  Drama  "
      ]
     },
     "execution_count": 79,
     "metadata": {},
     "output_type": "execute_result"
    }
   ],
   "source": [
    "movie_data.head()"
   ]
  },
  {
   "cell_type": "markdown",
   "metadata": {},
   "source": [
    "## Example. 1 - what is the highest rated movie?"
   ]
  },
  {
   "cell_type": "code",
   "execution_count": 81,
   "metadata": {
    "collapsed": false
   },
   "outputs": [
    {
     "name": "stdout",
     "output_type": "stream",
     "text": [
      "                                    title  rating\n",
      "0  One Flew Over the Cuckoo's Nest (1975)       5\n",
      "1  One Flew Over the Cuckoo's Nest (1975)       5\n",
      "2  One Flew Over the Cuckoo's Nest (1975)       4\n",
      "3  One Flew Over the Cuckoo's Nest (1975)       4\n",
      "4  One Flew Over the Cuckoo's Nest (1975)       5\n"
     ]
    }
   ],
   "source": [
    "tmp = movie_data[['title','rating']]\n",
    "print tmp.head()"
   ]
  },
  {
   "cell_type": "code",
   "execution_count": 82,
   "metadata": {
    "collapsed": false
   },
   "outputs": [
    {
     "name": "stdout",
     "output_type": "stream",
     "text": [
      "            rating\n",
      "count  3706.000000\n",
      "mean      3.238892\n",
      "std       0.672925\n",
      "min       1.000000\n",
      "25%       2.822705\n",
      "50%       3.331546\n",
      "75%       3.740741\n",
      "max       5.000000\n"
     ]
    }
   ],
   "source": [
    "mean_rating = tmp.groupby('title').mean()\n",
    "print mean_rating.describe()"
   ]
  },
  {
   "cell_type": "code",
   "execution_count": 83,
   "metadata": {
    "collapsed": false
   },
   "outputs": [
    {
     "name": "stdout",
     "output_type": "stream",
     "text": [
      "                                           rating\n",
      "title                                            \n",
      "Ulysses (Ulisse) (1954)                       5.0\n",
      "Lured (1947)                                  5.0\n",
      "Follow the Bitch (1998)                       5.0\n",
      "Bittersweet Motel (2000)                      5.0\n",
      "Song of Freedom (1936)                        5.0\n",
      "One Little Indian (1973)                      5.0\n",
      "Smashing Time (1967)                          5.0\n",
      "Schlafes Bruder (Brother of Sleep) (1995)     5.0\n",
      "Gate of Heavenly Peace, The (1995)            5.0\n",
      "Baby, The (1973)                              5.0\n"
     ]
    },
    {
     "name": "stderr",
     "output_type": "stream",
     "text": [
      "/Users/kudkudak/anaconda/lib/python2.7/site-packages/ipykernel/__main__.py:1: FutureWarning: sort(columns=....) is deprecated, use sort_values(by=.....)\n",
      "  if __name__ == '__main__':\n"
     ]
    }
   ],
   "source": [
    "print mean_rating.sort('rating', ascending=False).head(10)"
   ]
  },
  {
   "cell_type": "code",
   "execution_count": 84,
   "metadata": {
    "collapsed": false
   },
   "outputs": [
    {
     "name": "stdout",
     "output_type": "stream",
     "text": [
      "                                           mean  count\n",
      "title                                                 \n",
      "Gate of Heavenly Peace, The (1995)          5.0      3\n",
      "Smashing Time (1967)                        5.0      2\n",
      "Baby, The (1973)                            5.0      1\n",
      "Bittersweet Motel (2000)                    5.0      1\n",
      "Follow the Bitch (1998)                     5.0      1\n",
      "Lured (1947)                                5.0      1\n",
      "One Little Indian (1973)                    5.0      1\n",
      "Schlafes Bruder (Brother of Sleep) (1995)   5.0      1\n",
      "Song of Freedom (1936)                      5.0      1\n",
      "Ulysses (Ulisse) (1954)                     5.0      1\n"
     ]
    },
    {
     "name": "stderr",
     "output_type": "stream",
     "text": [
      "/Users/kudkudak/anaconda/lib/python2.7/site-packages/ipykernel/__main__.py:2: FutureWarning: sort(columns=....) is deprecated, use sort_values(by=.....)\n",
      "  from ipykernel import kernelapp as app\n"
     ]
    }
   ],
   "source": [
    "mean_rating = tmp.groupby('title')['rating'].agg(['mean','count']) #using the syntactic sugar\n",
    "print mean_rating.sort(['mean','count'], ascending=[False, False]).head(10)"
   ]
  },
  {
   "cell_type": "code",
   "execution_count": 85,
   "metadata": {
    "collapsed": false
   },
   "outputs": [
    {
     "name": "stdout",
     "output_type": "stream",
     "text": [
      "                                  mean  count\n",
      "title                                        \n",
      "2001: A Space Odyssey (1968)  4.068765   1716\n",
      "Abyss, The (1989)             3.683965   1715\n",
      "African Queen, The (1951)     4.251656   1057\n",
      "Air Force One (1997)          3.588290   1076\n",
      "Airplane! (1980)              3.971115   1731\n"
     ]
    }
   ],
   "source": [
    "mask = mean_rating['count'] > 1000\n",
    "print mean_rating[mask].head()"
   ]
  },
  {
   "cell_type": "code",
   "execution_count": 86,
   "metadata": {
    "collapsed": false
   },
   "outputs": [
    {
     "name": "stdout",
     "output_type": "stream",
     "text": [
      "                                      mean  count\n",
      "title                                            \n",
      "Shawshank Redemption, The (1994)  4.554558   2227\n",
      "Godfather, The (1972)             4.524966   2223\n",
      "Usual Suspects, The (1995)        4.517106   1783\n",
      "Schindler's List (1993)           4.510417   2304\n",
      "Raiders of the Lost Ark (1981)    4.477725   2514\n"
     ]
    },
    {
     "name": "stderr",
     "output_type": "stream",
     "text": [
      "/Users/kudkudak/anaconda/lib/python2.7/site-packages/ipykernel/__main__.py:1: FutureWarning: sort(columns=....) is deprecated, use sort_values(by=.....)\n",
      "  if __name__ == '__main__':\n"
     ]
    }
   ],
   "source": [
    "print mean_rating[mask].sort('mean', ascending=False).head(5)"
   ]
  },
  {
   "cell_type": "markdown",
   "metadata": {},
   "source": [
    "## Example 2. Worst movie for date?"
   ]
  },
  {
   "cell_type": "code",
   "execution_count": 93,
   "metadata": {
    "collapsed": false
   },
   "outputs": [
    {
     "name": "stdout",
     "output_type": "stream",
     "text": [
      "gender                                    F         M\n",
      "title                                                \n",
      "$1,000,000 Duck (1971)             3.375000  2.761905\n",
      "'Night Mother (1986)               3.388889  3.352941\n",
      "'Til There Was You (1997)          2.675676  2.733333\n",
      "'burbs, The (1989)                 2.793478  2.962085\n",
      "...And Justice for All (1979)      3.828571  3.689024\n",
      "1-900 (1994)                       2.000000  3.000000\n",
      "10 Things I Hate About You (1999)  3.646552  3.311966\n",
      "101 Dalmatians (1961)              3.791444  3.500000\n",
      "101 Dalmatians (1996)              3.240000  2.911215\n",
      "12 Angry Men (1957)                4.184397  4.328421\n"
     ]
    }
   ],
   "source": [
    "mean_ratings = pd.pivot_table(movie_data, 'rating', index='title', \n",
    "                              columns='gender', aggfunc='mean')\n",
    "print mean_ratings.head(10)"
   ]
  },
  {
   "cell_type": "code",
   "execution_count": 94,
   "metadata": {
    "collapsed": false
   },
   "outputs": [
    {
     "name": "stdout",
     "output_type": "stream",
     "text": [
      "gender                               F         M\n",
      "title                                           \n",
      "2001: A Space Odyssey (1968)  3.825581  4.129738\n",
      "Abyss, The (1989)             3.659236  3.689507\n",
      "African Queen, The (1951)     4.324232  4.223822\n",
      "Air Force One (1997)          3.699588  3.555822\n",
      "Airplane! (1980)              3.656566  4.064419\n"
     ]
    }
   ],
   "source": [
    "\n",
    "top_mean_ratings = mean_ratings.ix[mask]\n",
    "print top_mean_ratings.head()"
   ]
  },
  {
   "cell_type": "code",
   "execution_count": 95,
   "metadata": {
    "collapsed": false
   },
   "outputs": [
    {
     "name": "stdout",
     "output_type": "stream",
     "text": [
      "gender                                   F         M\n",
      "title                                               \n",
      "Schindler's List (1993)           4.562602  4.491415\n",
      "Shawshank Redemption, The (1994)  4.539075  4.560625\n",
      "Usual Suspects, The (1995)        4.513317  4.518248\n",
      "Rear Window (1954)                4.484536  4.472991\n",
      "Sixth Sense, The (1999)           4.477410  4.379944\n"
     ]
    },
    {
     "name": "stderr",
     "output_type": "stream",
     "text": [
      "/Users/kudkudak/anaconda/lib/python2.7/site-packages/ipykernel/__main__.py:1: FutureWarning: sort(columns=....) is deprecated, use sort_values(by=.....)\n",
      "  if __name__ == '__main__':\n"
     ]
    }
   ],
   "source": [
    "top_female = top_mean_ratings.sort('F', ascending=False)\n",
    "print top_female.head()"
   ]
  },
  {
   "cell_type": "code",
   "execution_count": 96,
   "metadata": {
    "collapsed": false
   },
   "outputs": [
    {
     "name": "stdout",
     "output_type": "stream",
     "text": [
      "gender                                            F         M\n",
      "title                                                        \n",
      "Godfather, The (1972)                      4.314700  4.583333\n",
      "Shawshank Redemption, The (1994)           4.539075  4.560625\n",
      "Raiders of the Lost Ark (1981)             4.332168  4.520597\n",
      "Usual Suspects, The (1995)                 4.513317  4.518248\n",
      "Star Wars: Episode IV - A New Hope (1977)  4.302937  4.495307\n"
     ]
    },
    {
     "name": "stderr",
     "output_type": "stream",
     "text": [
      "/Users/kudkudak/anaconda/lib/python2.7/site-packages/ipykernel/__main__.py:2: FutureWarning: sort(columns=....) is deprecated, use sort_values(by=.....)\n",
      "  from ipykernel import kernelapp as app\n"
     ]
    }
   ],
   "source": [
    "\n",
    "top_male = top_mean_ratings.sort('M', ascending=False)\n",
    "print top_male.head(5)"
   ]
  },
  {
   "cell_type": "code",
   "execution_count": 97,
   "metadata": {
    "collapsed": false
   },
   "outputs": [
    {
     "name": "stdout",
     "output_type": "stream",
     "text": [
      "gender                                              F         M      diff\n",
      "title                                                                    \n",
      "Jerry Maguire (1996)                         3.758315  3.759424  0.001109\n",
      "Indiana Jones and the Temple of Doom (1984)  3.674312  3.676568  0.002256\n",
      "Good Will Hunting (1997)                     4.174672  4.177064  0.002392\n",
      "Fugitive, The (1993)                         4.100457  4.104046  0.003590\n",
      "Batman Returns (1992)                        2.980100  2.975904  0.004196\n",
      "Usual Suspects, The (1995)                   4.513317  4.518248  0.004931\n",
      "Green Mile, The (1999)                       4.159722  4.153105  0.006617\n",
      "Boogie Nights (1997)                         3.763838  3.771295  0.007458\n",
      "Chicken Run (2000)                           3.885559  3.877339  0.008220\n",
      "Blair Witch Project, The (1999)              3.038732  3.029381  0.009351\n"
     ]
    },
    {
     "name": "stderr",
     "output_type": "stream",
     "text": [
      "/Users/kudkudak/anaconda/lib/python2.7/site-packages/ipykernel/__main__.py:2: SettingWithCopyWarning: \n",
      "A value is trying to be set on a copy of a slice from a DataFrame.\n",
      "Try using .loc[row_indexer,col_indexer] = value instead\n",
      "\n",
      "See the caveats in the documentation: http://pandas.pydata.org/pandas-docs/stable/indexing.html#indexing-view-versus-copy\n",
      "  from ipykernel import kernelapp as app\n",
      "/Users/kudkudak/anaconda/lib/python2.7/site-packages/ipykernel/__main__.py:3: FutureWarning: sort(columns=....) is deprecated, use sort_values(by=.....)\n",
      "  app.launch_new_instance()\n"
     ]
    }
   ],
   "source": [
    "\n",
    "top_mean_ratings['diff'] = abs(top_mean_ratings['F'] - top_mean_ratings['M'])\n",
    "print top_mean_ratings.sort('diff', ascending=True).head(10)"
   ]
  },
  {
   "cell_type": "code",
   "execution_count": 98,
   "metadata": {
    "collapsed": false
   },
   "outputs": [
    {
     "name": "stdout",
     "output_type": "stream",
     "text": [
      "gender                                              F         M      diff\n",
      "title                                                                    \n",
      "Animal House (1978)                          3.628906  4.167192  0.538286\n",
      "Rocky Horror Picture Show, The (1975)        3.673016  3.160131  0.512885\n",
      "Mary Poppins (1964)                          4.197740  3.730594  0.467147\n",
      "Reservoir Dogs (1992)                        3.769231  4.213873  0.444642\n",
      "Gone with the Wind (1939)                    4.269841  3.829371  0.440471\n",
      "South Park: Bigger, Longer and Uncut (1999)  3.422481  3.846686  0.424206\n",
      "Airplane! (1980)                             3.656566  4.064419  0.407854\n",
      "Predator (1987)                              3.299401  3.706195  0.406793\n",
      "Godfather: Part II, The (1974)               4.040936  4.437778  0.396842\n",
      "Clockwork Orange, A (1971)                   3.757009  4.145813  0.388803\n"
     ]
    },
    {
     "name": "stderr",
     "output_type": "stream",
     "text": [
      "/Users/kudkudak/anaconda/lib/python2.7/site-packages/ipykernel/__main__.py:1: FutureWarning: sort(columns=....) is deprecated, use sort_values(by=.....)\n",
      "  if __name__ == '__main__':\n"
     ]
    }
   ],
   "source": [
    "print top_mean_ratings.sort('diff', ascending=False).head(10)"
   ]
  },
  {
   "cell_type": "markdown",
   "metadata": {},
   "source": [
    "# Exercise 3 (Titanic), 2 points\n",
    " * Load as csv data/5/titanic_train.csv\n",
    " * How many data points are there?\n",
    " * What percentage of people survived? Plot histogram (x[x['Sex'] == 'female'] selects only female rows into separate dataframe)\n",
    " * What percentage of male survived?\n",
    " * Plot age histogram of 3 classes (hint: x.hist(what?, by=?))"
   ]
  },
  {
   "cell_type": "code",
   "execution_count": null,
   "metadata": {
    "collapsed": true
   },
   "outputs": [],
   "source": []
  }
 ],
 "metadata": {
  "kernelspec": {
   "display_name": "Python 2",
   "language": "python",
   "name": "python2"
  },
  "language_info": {
   "codemirror_mode": {
    "name": "ipython",
    "version": 2
   },
   "file_extension": ".py",
   "mimetype": "text/x-python",
   "name": "python",
   "nbconvert_exporter": "python",
   "pygments_lexer": "ipython2",
   "version": "2.7.11"
  }
 },
 "nbformat": 4,
 "nbformat_minor": 0
}
