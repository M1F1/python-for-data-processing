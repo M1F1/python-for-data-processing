{
 "cells": [
  {
   "cell_type": "markdown",
   "metadata": {},
   "source": [
    "# Lab 4, 19.03"
   ]
  },
  {
   "cell_type": "markdown",
   "metadata": {},
   "source": [
    "Can we replace Excel workflow by Python code? Probably!\n",
    "\n",
    "We will first learn harder way of working with text data, and then introduce Pandas for speeding things up. This can be very useful for course project."
   ]
  },
  {
   "cell_type": "markdown",
   "metadata": {},
   "source": [
    "<img src=\"https://imgs.xkcd.com/comics/data.png\">"
   ]
  },
  {
   "cell_type": "markdown",
   "metadata": {},
   "source": [
    "## List and dict comprehension\n",
    "\n",
    "Trick (but also speeds up code a lot) for fast constructing lists"
   ]
  },
  {
   "cell_type": "code",
   "execution_count": 9,
   "metadata": {
    "collapsed": false
   },
   "outputs": [
    {
     "name": "stdout",
     "output_type": "stream",
     "text": [
      "[1, 4, 9, 16, 25, 36, 49, 64, 81]\n"
     ]
    }
   ],
   "source": [
    "[x**2 for x in range(1, 10)] # List comprehension"
   ]
  },
  {
   "cell_type": "code",
   "execution_count": 10,
   "metadata": {
    "collapsed": false
   },
   "outputs": [
    {
     "data": {
      "text/plain": [
       "{1: 1, 2: 4, 3: 9, 4: 16, 5: 25, 6: 36, 7: 49, 8: 64, 9: 81}"
      ]
     },
     "execution_count": 10,
     "metadata": {},
     "output_type": "execute_result"
    }
   ],
   "source": [
    "{x: x**2 for x in range(1, 10)} # Dict comprehension"
   ]
  },
  {
   "cell_type": "markdown",
   "metadata": {},
   "source": [
    "## Ex. 1 (warmup)\n",
    "\n",
    "Write function primes(n) returning primes that are less or equal than n"
   ]
  },
  {
   "cell_type": "code",
   "execution_count": null,
   "metadata": {
    "collapsed": true
   },
   "outputs": [],
   "source": [
    "assert primes(5) == [2, 3, 5]"
   ]
  },
  {
   "cell_type": "markdown",
   "metadata": {},
   "source": [
    "## I/O\n",
    "\n",
    "Content is based on http://opentechschool.github.io/python-data-intro"
   ]
  },
  {
   "cell_type": "code",
   "execution_count": 2,
   "metadata": {
    "collapsed": false
   },
   "outputs": [
    {
     "name": "stdout",
     "output_type": "stream",
     "text": [
      "January\n",
      "February\n",
      "March\n",
      "April\n",
      "May\n",
      "June\n",
      "July\n",
      "August\n",
      "September\n",
      "October\n",
      "November\n",
      "December\n"
     ]
    }
   ],
   "source": [
    "f = open(\"data/4/months.txt\")\n",
    "print(f.read()) # Single blob of text"
   ]
  },
  {
   "cell_type": "code",
   "execution_count": 7,
   "metadata": {
    "collapsed": true
   },
   "outputs": [],
   "source": [
    "lines = open(\"data/4/months.txt\").read().splitlines() # Splitted conveniently by line"
   ]
  },
  {
   "cell_type": "code",
   "execution_count": 12,
   "metadata": {
    "collapsed": false
   },
   "outputs": [
    {
     "data": {
      "text/plain": [
       "['January',\n",
       " 'February',\n",
       " 'March',\n",
       " 'April',\n",
       " 'May',\n",
       " 'June',\n",
       " 'July',\n",
       " 'August',\n",
       " 'September',\n",
       " 'October',\n",
       " 'November',\n",
       " 'December']"
      ]
     },
     "execution_count": 12,
     "metadata": {},
     "output_type": "execute_result"
    }
   ],
   "source": [
    "lines"
   ]
  },
  {
   "cell_type": "code",
   "execution_count": 13,
   "metadata": {
    "collapsed": true
   },
   "outputs": [],
   "source": [
    "f = open(\"data/4/months_lower_case.txt\", \"w\")\n",
    "f.write(\"\\n\".join([x.lower() for x in lines])) # \"\\n\".join(list) is a \"trick\" function to quickly join lines with \\n"
   ]
  },
  {
   "cell_type": "markdown",
   "metadata": {},
   "source": [
    "# CSV files\n",
    "\n",
    "Most of data in human readable format will be CSV. Worth learning!"
   ]
  },
  {
   "cell_type": "code",
   "execution_count": 26,
   "metadata": {
    "collapsed": false
   },
   "outputs": [
    {
     "name": "stdout",
     "output_type": "stream",
     "text": [
      "\"Coffee\",\"Water\",\"Milk\",\"Icecream\"\n",
      "\"Espresso\",\"No\",\"No\",\"No\"\n"
     ]
    }
   ],
   "source": [
    "# Print first 2 lines of raw file\n",
    "from itertools import islice\n",
    "for line in islice(open(\"data/4/coffee.csv\"), 2): # Take 2 first elements\n",
    "    print line.strip() # Remove \\n"
   ]
  },
  {
   "cell_type": "code",
   "execution_count": 27,
   "metadata": {
    "collapsed": false
   },
   "outputs": [
    {
     "name": "stdout",
     "output_type": "stream",
     "text": [
      "['Coffee', 'Water', 'Milk', 'Icecream']\n",
      "['Espresso', 'No', 'No', 'No']\n",
      "['Long Black', 'Yes', 'No', 'No']\n",
      "['Flat White', 'No', 'Yes', 'No']\n",
      "['Cappuccino', 'No', 'Yes - Frothy', 'No']\n",
      "['Affogato', 'No', 'No', 'Yes']\n"
     ]
    }
   ],
   "source": [
    "# Reading CSV file\n",
    "import csv\n",
    "f=open(\"data/4/coffee.csv\")\n",
    "for row in csv.reader(f):\n",
    "    print(row)"
   ]
  },
  {
   "cell_type": "markdown",
   "metadata": {},
   "source": [
    "## Ex. 3 (Airports), 1 point\n",
    "\n",
    "Visit the [OpenFlights data page](http://openflights.org/data.html) and download their airports data file - \"airports.dat\". This is a file in CSV format, open it in a text editor if you want to have a look at it.\n",
    "\n",
    "Sample entry (line): ```507,\"Heathrow\",\"London\",\"United Kingdom\",\"LHR\",\"EGLL\",51.4775,-0.461389,83,0,\"E\",\"Europe/London\"```\n",
    "\n",
    "Print all airpots of given country"
   ]
  },
  {
   "cell_type": "code",
   "execution_count": 43,
   "metadata": {
    "collapsed": false
   },
   "outputs": [
    {
     "name": "stdout",
     "output_type": "stream",
     "text": [
      "Goroka\n"
     ]
    }
   ],
   "source": [
    "## Snippet to read first column (airport name) of airports.dat\n",
    "import csv\n",
    "f = open(\"data/4/airports.dat\")\n",
    "for row in csv.reader(f):\n",
    "    print(row[1])\n",
    "    break"
   ]
  },
  {
   "cell_type": "markdown",
   "metadata": {},
   "source": [
    "## Ex.4 (Histogram of route distances), 2 points\n",
    "\n",
    "Visit the [OpenFlights data page](http://openflights.org/data.html) and download their routes data file - \"routes.dat\". \n",
    "\n",
    "Sample entry (line): ```TOM,5013,ACE,1055,BFS,465,,0,320```\n",
    "\n",
    "This a multiple stage problem:\n",
    "\n",
    "* Read the airports file (airports.dat) and build a dictionary mapping the unique airport ID to the geographical coordinates (latitude & longitude.) This allows you to look up the location of each airport by its ID.\n",
    "\n",
    "* Read the routes file (routes.dat) and get the IDs of the source and destination airports. Look up the latitude and longitude based on the ID. Using those coordinates, calculate the length of the route and append it to a list of all route lengths.\n",
    "\n",
    "* Plot a histogram based on the route lengths, to show the distribution of different flight distances."
   ]
  },
  {
   "cell_type": "code",
   "execution_count": 38,
   "metadata": {
    "collapsed": false
   },
   "outputs": [
    {
     "data": {
      "text/plain": [
       "15973.237754707652"
      ]
     },
     "execution_count": 38,
     "metadata": {},
     "output_type": "execute_result"
    }
   ],
   "source": [
    "from math import cos,radians,sin,pow,asin,sqrt\n",
    "\n",
    "def geo_distance(lat1, long1, lat2, long2):\n",
    "    radius = 6371 # radius of the earth in km, roughly https://en.wikipedia.org/wiki/Earth_radius\n",
    "\n",
    "    # Lat,long are in degrees but we need radians\n",
    "    lat1 = radians(lat1)\n",
    "    lat2 = radians(lat2)\n",
    "    long1 = radians(long1)\n",
    "    long2 = radians(long2)\n",
    "\n",
    "    dlat = lat2-lat1\n",
    "    dlon = long2-long1\n",
    "\n",
    "    a = pow(sin(dlat/2),2) + cos(lat1)*cos(lat2)*pow(sin(dlon/2),2)\n",
    "    distance = 2 * radius * asin(sqrt(a))\n",
    "\n",
    "    return distance\n",
    "\n",
    "geo_distance(-37.814,144.963,52.519,13.406) # Melbourne to Berlin in km!"
   ]
  },
  {
   "cell_type": "markdown",
   "metadata": {},
   "source": [
    "## Pandas\n",
    "\n",
    "Content more or less copied from last year course https://github.com/gmum/python-lecture/blob/master/Pandas-1.ipynb"
   ]
  },
  {
   "cell_type": "markdown",
   "metadata": {},
   "source": [
    "**pandas** is an open source, BSD-licensed library providing \n",
    "\n",
    "+ high-performance, easy-to-use data structures and \n",
    "\n",
    "+ data analysis tools for the Python programming language."
   ]
  },
  {
   "cell_type": "markdown",
   "metadata": {},
   "source": [
    "## Intro to data structures"
   ]
  },
  {
   "cell_type": "markdown",
   "metadata": {},
   "source": [
    "### Series\n",
    "\n",
    "+ [Series](http://pandas.pydata.org/pandas-docs/stable/generated/pandas.Series.html#pandas.Series) is a one-dimensional labeled array capable of holding any data type (integers, strings, floating point numbers, Python objects, etc.). \n",
    "\n",
    "\n",
    "+ The axis labels are collectively referred to as the index. \n",
    "\n",
    "\n",
    "+ The basic method to create a Series is to call:"
   ]
  },
  {
   "cell_type": "code",
   "execution_count": null,
   "metadata": {
    "collapsed": true
   },
   "outputs": [],
   "source": [
    "s = Series(data, index=index)"
   ]
  },
  {
   "cell_type": "markdown",
   "metadata": {},
   "source": [
    "Here, `data` can be many different things:\n",
    "\n",
    "+ a Python `dict`\n",
    "+ an `ndarray`\n",
    "+ a scalar value (like 5)\n",
    "\n",
    "The passed `index` is a list of axis labels."
   ]
  },
  {
   "cell_type": "code",
   "execution_count": 42,
   "metadata": {
    "collapsed": false
   },
   "outputs": [
    {
     "data": {
      "text/plain": [
       "a   -0.434031\n",
       "b   -0.279439\n",
       "c   -1.324568\n",
       "i    0.312976\n",
       "e   -0.850267\n",
       "dtype: float64"
      ]
     },
     "execution_count": 42,
     "metadata": {},
     "output_type": "execute_result"
    }
   ],
   "source": [
    "import numpy as np\n",
    "from pandas import Series\n",
    "\n",
    "s = Series(np.random.randn(5), index=['a', 'b', 'c', 'i', 'e'])\n",
    "s"
   ]
  },
  {
   "cell_type": "code",
   "execution_count": null,
   "metadata": {
    "collapsed": true
   },
   "outputs": [],
   "source": []
  }
 ],
 "metadata": {
  "kernelspec": {
   "display_name": "Python 2",
   "language": "python",
   "name": "python2"
  },
  "language_info": {
   "codemirror_mode": {
    "name": "ipython",
    "version": 2
   },
   "file_extension": ".py",
   "mimetype": "text/x-python",
   "name": "python",
   "nbconvert_exporter": "python",
   "pygments_lexer": "ipython2",
   "version": "2.7.11"
  }
 },
 "nbformat": 4,
 "nbformat_minor": 0
}
