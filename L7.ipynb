{
 "cells": [
  {
   "cell_type": "markdown",
   "metadata": {},
   "source": [
    "# Lab 7, 15.04. Bayes spell checker\n",
    "\n",
    "Goals: \n",
    "* get a little bit more comfortable with writing in Python \n",
    "* understand model training and evaluation\n",
    "    * will be very useful for projects (for instance simple model for fitting missing data or making predictions about user)\n",
    "\n",
    "Content inspired by Peter Norvig post about spell checker"
   ]
  },
  {
   "cell_type": "markdown",
   "metadata": {},
   "source": [
    "<img src=\"https://imgs.xkcd.com/comics/frequentists_vs_bayesians.png\">"
   ]
  },
  {
   "cell_type": "markdown",
   "metadata": {},
   "source": [
    "# Bayes spell checker - theory\n",
    "\n",
    "Let:\n",
    "* w - misspelled word\n",
    "* c - candidate word\n",
    "\n",
    "We want to find $ argmax_c P(c | w) $\n",
    "\n",
    "This is the same from Bayes rule as $ argmax_c p(w | c) p(c) $. \n",
    "\n",
    "We will simplify and say $p(w | c)$ (our **error model**) is just \"pick edit distance 1 if found, if not resort to edit distance 2\""
   ]
  },
  {
   "cell_type": "markdown",
   "metadata": {},
   "source": [
    "## More about text files\n",
    "\n",
    "* We already know csv format. There are also json and yaml formats that are common\n",
    "* Fetching all files using glob"
   ]
  },
  {
   "cell_type": "markdown",
   "metadata": {},
   "source": [
    "## Excercise 1. \n",
    "\n",
    "* Write function that will read all words from data/7/big.txt (using regex, remember to lower text)\n",
    "* Plot plot of counts, horizontal axis is ordered index and vertical axis is log of word count. This should look like this https://en.wikipedia.org/wiki/Zipf%27s_law"
   ]
  },
  {
   "cell_type": "code",
   "execution_count": 29,
   "metadata": {
    "collapsed": false
   },
   "outputs": [
    {
     "ename": "NameError",
     "evalue": "name 'WORDS' is not defined",
     "output_type": "error",
     "traceback": [
      "\u001b[0;31m---------------------------------------------------------------------------\u001b[0m",
      "\u001b[0;31mNameError\u001b[0m                                 Traceback (most recent call last)",
      "\u001b[0;32m<ipython-input-29-7f54e1adba65>\u001b[0m in \u001b[0;36m<module>\u001b[0;34m()\u001b[0m\n\u001b[0;32m----> 1\u001b[0;31m \u001b[0mWORDS\u001b[0m \u001b[0;31m# = ?? - your code\u001b[0m\u001b[0;34m\u001b[0m\u001b[0m\n\u001b[0m\u001b[1;32m      2\u001b[0m \u001b[0;34m\u001b[0m\u001b[0m\n\u001b[1;32m      3\u001b[0m \u001b[0;32massert\u001b[0m \u001b[0mlen\u001b[0m\u001b[0;34m(\u001b[0m\u001b[0mWORDS\u001b[0m\u001b[0;34m)\u001b[0m \u001b[0;34m==\u001b[0m \u001b[0;36m131810\u001b[0m\u001b[0;34m\u001b[0m\u001b[0m\n",
      "\u001b[0;31mNameError\u001b[0m: name 'WORDS' is not defined"
     ]
    }
   ],
   "source": [
    "WORDS # = ?? - your code\n",
    "\n",
    "assert len(WORDS) == 131810 "
   ]
  },
  {
   "cell_type": "code",
   "execution_count": null,
   "metadata": {
    "collapsed": false
   },
   "outputs": [],
   "source": [
    "from collections import Counter\n",
    "COUNTS = Counter(WORDS)"
   ]
  },
  {
   "cell_type": "markdown",
   "metadata": {},
   "source": [
    "# Exercise 2 [1 - 2 points]\n",
    "\n",
    "* Write function edits0(word) that returns only {word} and edits1(word) that returns **set** of all words being 1 edit away from our word\n",
    "* 2 points if the function is implemented in 6 lines (see Useful code)"
   ]
  },
  {
   "cell_type": "code",
   "execution_count": null,
   "metadata": {
    "collapsed": false
   },
   "outputs": [],
   "source": [
    "assert edits0('cat') == {'cat'}\n",
    "ed1_Cat = set(['caqt', 'ucat', 'cdt', 'ctat', 'ciat', 'vcat', 'cvat', 'ycat', 'caht', 'cut', 'jat', \n",
    "               'caty', 'clt', 'hat', 'cyat', 'capt', 'icat', 'zcat', 'fat', 'dat', 'cet', \n",
    "               'caot', 'catz', 'hcat', 'bat', 'crt', 'cayt', 'cakt', 'clat', 'cmt', 'cvt', \n",
    "               'ceat', 'cwat', 'cjat', 'cnat', 'acat', 'cft', 'cabt', 'cnt', 'cajt', 'aat', \n",
    "               'cwt', 'cast', 'czat', 'csat', 'cqat', 'cit', 'cart', 'jcat', 'cfat', 'cazt', \n",
    "               'pcat', 'catd', 'caat', 'cgt', 'ctt', 'cati', 'cait', 'cot', 'cawt', 'xcat', \n",
    "               'cta', 'act', 'ncat', 'cxt', 'ckat', 'calt', 'ca', 'dcat', 'cadt', 'zat', \n",
    "               'cato', 'ct', 'crat', 'cata', 'catb', 'catc', 'tcat', 'cate', 'catf', 'catg', \n",
    "               'cath', 'yat', 'catj', 'catk', 'xat', 'catm', 'catn', 'catl', 'catp', 'ocat', \n",
    "               'catr', 'cats', 'cht', 'catu', 'catv', 'catw', 'catx', 'iat', 'bcat', 'wat', \n",
    "               'catq', 'vat', 'cqt', 'cact', 'cyt', 'rcat', 'gat', 'cant', 'cgat', 'mcat', \n",
    "               'eat', 'kcat', 'caz', 'cay', 'cax', 'cas', 'car', 'caq', 'cap', 'caw', 'cav', \n",
    "               'cau', 'cat', 'cak', 'caj', 'cai', 'cah', 'cao', 'can', 'cam', 'cal', 'cac', \n",
    "               'cab', 'caa', 'cag', 'caf', 'cae', 'cad', 'tat', 'chat', 'fcat', 'caft', 'lcat', \n",
    "               'uat', 'czt', 'rat', 'at', 'cbt', 'catt', 'scat', 'sat', 'qat', 'qcat', 'pat', \n",
    "               'wcat', 'cuat', 'oat', 'nat', 'cst', 'cavt', 'cjt', 'mat', 'cxat', 'caet', 'cmat', \n",
    "               'ccat', 'cagt', 'cpat', 'kat', 'lat', 'gcat', 'caxt', 'cdat', 'coat', 'cct', 'camt', \n",
    "               'ckt', 'caut', 'cpt', 'cbat', 'ecat']) \n",
    "edits1('cat') == ed1_Cat"
   ]
  },
  {
   "cell_type": "code",
   "execution_count": null,
   "metadata": {
    "collapsed": true
   },
   "outputs": [],
   "source": [
    "# Useful code\n",
    "\n",
    "def splits(word):\n",
    "    \"Return a list of all possible (first, rest) pairs that comprise word.\"\n",
    "    return [(word[:i], word[i:]) \n",
    "            for i in range(len(word)+1)]\n",
    "\n",
    "def edits1(word):\n",
    "    pairs      = splits(word)\n",
    "    # 1. Calculate all transpose cat -> cta\n",
    "    # 2. Calculate all deletes cat -> at\n",
    "    # 3. Calculate all replaces cat -> cst\n",
    "    # 4. Calculate all inserts cat -> caxt\n",
    "    # Return sum\n",
    "\n",
    "alphabet = 'abcdefghijklmnopqrstuvwxyz'"
   ]
  },
  {
   "cell_type": "markdown",
   "metadata": {},
   "source": [
    "# Exercise 3, Spell checker!\n",
    "\n",
    "Write spellchecker, as:\n",
    "    * Check if word is in COUNTS and if yes return {word}\n",
    "    * Check if edits1(word) is in COUNTS and if yes return all predictions\n",
    "    * Check if edits2(word) is in COUNTS and if yes return all predictions"
   ]
  },
  {
   "cell_type": "code",
   "execution_count": 13,
   "metadata": {
    "collapsed": false
   },
   "outputs": [
    {
     "ename": "NameError",
     "evalue": "global name 'candidates' is not defined",
     "output_type": "error",
     "traceback": [
      "\u001b[0;31m---------------------------------------------------------------------------\u001b[0m",
      "\u001b[0;31mNameError\u001b[0m                                 Traceback (most recent call last)",
      "\u001b[0;32m<ipython-input-13-636f1552a8f3>\u001b[0m in \u001b[0;36m<module>\u001b[0;34m()\u001b[0m\n\u001b[0;32m----> 1\u001b[0;31m \u001b[0;32massert\u001b[0m \u001b[0mcorrect\u001b[0m\u001b[0;34m(\u001b[0m\u001b[0;34m'economtric'\u001b[0m\u001b[0;34m)\u001b[0m \u001b[0;34m==\u001b[0m \u001b[0;34m'economic'\u001b[0m\u001b[0;34m\u001b[0m\u001b[0m\n\u001b[0m\u001b[1;32m      2\u001b[0m \u001b[0;32massert\u001b[0m \u001b[0mcorrect\u001b[0m\u001b[0;34m(\u001b[0m\u001b[0;34m'zcat'\u001b[0m\u001b[0;34m)\u001b[0m \u001b[0;34m==\u001b[0m \u001b[0;34m'cat'\u001b[0m\u001b[0;34m\u001b[0m\u001b[0m\n\u001b[1;32m      3\u001b[0m \u001b[0;32massert\u001b[0m \u001b[0mcorrect\u001b[0m\u001b[0;34m(\u001b[0m\u001b[0;34m'cmoing'\u001b[0m\u001b[0;34m)\u001b[0m \u001b[0;34m==\u001b[0m \u001b[0;34m'coming'\u001b[0m\u001b[0;34m\u001b[0m\u001b[0m\n\u001b[1;32m      4\u001b[0m \u001b[0;32massert\u001b[0m \u001b[0mcorrect\u001b[0m\u001b[0;34m(\u001b[0m\u001b[0;34m\"thay\"\u001b[0m\u001b[0;34m)\u001b[0m \u001b[0;34m==\u001b[0m \u001b[0;34m\"that\"\u001b[0m\u001b[0;34m,\u001b[0m \u001b[0;34m\"That is more probable than they\"\u001b[0m\u001b[0;34m\u001b[0m\u001b[0m\n",
      "\u001b[0;32m<ipython-input-6-336bb977f418>\u001b[0m in \u001b[0;36mcorrect\u001b[0;34m(word)\u001b[0m\n\u001b[1;32m     10\u001b[0m     \u001b[0;31m# Fill in #\u001b[0m\u001b[0;34m\u001b[0m\u001b[0;34m\u001b[0m\u001b[0m\n\u001b[1;32m     11\u001b[0m     \u001b[0;31m# Return most probable candidate (P(c))\u001b[0m\u001b[0;34m\u001b[0m\u001b[0;34m\u001b[0m\u001b[0m\n\u001b[0;32m---> 12\u001b[0;31m     \u001b[0;32mreturn\u001b[0m \u001b[0mmax\u001b[0m\u001b[0;34m(\u001b[0m\u001b[0mcandidates\u001b[0m\u001b[0;34m,\u001b[0m \u001b[0mkey\u001b[0m\u001b[0;34m=\u001b[0m\u001b[0mCOUNTS\u001b[0m\u001b[0;34m.\u001b[0m\u001b[0mget\u001b[0m\u001b[0;34m)\u001b[0m\u001b[0;34m\u001b[0m\u001b[0m\n\u001b[0m",
      "\u001b[0;31mNameError\u001b[0m: global name 'candidates' is not defined"
     ]
    }
   ],
   "source": [
    "assert correct('economtric') == 'economic'\n",
    "assert correct('zcat') == 'cat'\n",
    "assert correct('cmoing') == 'coming'\n",
    "assert correct(\"thay\") == \"that\", \"That is more probable than they\""
   ]
  },
  {
   "cell_type": "code",
   "execution_count": null,
   "metadata": {
    "collapsed": true
   },
   "outputs": [],
   "source": [
    "## Useful code\n",
    "\n",
    "def edits2(word):\n",
    "    \"Return all strings that are two edits away from this word.\"\n",
    "    return {e2 for e1 in edits1(word) for e2 in edits1(e1)}\n",
    "\n",
    "def known(words):\n",
    "    \"Return the subset of words that are actually in the dictionary.\"\n",
    "    return {w for w in words if w in COUNTS}\n",
    "\n",
    "def correct(word):\n",
    "    \"Find the best spelling correction for this word. That is argmax_c p(c), where c are candidates\"\n",
    "    # Prefer edit distance 0, then 1, then 2; otherwise default to word itself.\n",
    "    # [Fill in] #\n",
    "    # Return most probable candidate (P(c))\n",
    "    return # ? Use COUNTS to select most probable word"
   ]
  },
  {
   "cell_type": "markdown",
   "metadata": {},
   "source": [
    "# Actual spell-checker"
   ]
  },
  {
   "cell_type": "code",
   "execution_count": null,
   "metadata": {
    "collapsed": false
   },
   "outputs": [],
   "source": [
    "import re\n",
    "\n",
    "def correct_text(text):\n",
    "    \"Correct all the words within a text, returning the corrected text.\"\n",
    "    return re.sub('[a-zA-Z]+', correct_match, text)\n",
    "\n",
    "def correct_match(match):\n",
    "    \"Spell-correct word in match, and preserve proper upper/lower/title case.\"\n",
    "    word = match.group()\n",
    "    return case_of(word)(correct(word.lower()))\n",
    "\n",
    "def case_of(text):\n",
    "    \"Return the case-function appropriate for text: upper, lower, title, or just str.\"\n",
    "    return (str.upper if text.isupper() else\n",
    "            str.lower if text.islower() else\n",
    "            str.title if text.istitle() else\n",
    "            str)\n",
    "\n",
    "assert correct_text('Speling Errurs IN somethink. Whutever; unusuel misteakes?') == \\\n",
    "    'Seeing Errors IN something. Whatever; unusual mistaken?'"
   ]
  },
  {
   "cell_type": "markdown",
   "metadata": {},
   "source": [
    "# Evaluation\n",
    "\n",
    "What does it mean to evaluate model?"
   ]
  },
  {
   "cell_type": "code",
   "execution_count": null,
   "metadata": {
    "collapsed": true
   },
   "outputs": [],
   "source": [
    "tests1 = json.load(open(\"data/7/test1.json\"))\n",
    "tests2 = json.load(open(\"data/7/test2.json\"))\n",
    "\n",
    "def spelltest(tests, verbose=False):\n",
    "    import time\n",
    "    n, bad, unknown, start = 0, 0, 0, time.clock()\n",
    "    for target,wrongs in tests.items():\n",
    "        for wrong in wrongs.split():\n",
    "            n += 1\n",
    "            w = correct(wrong)\n",
    "            if w!=target:\n",
    "                bad += 1\n",
    "                unknown += (target not in COUNTS)\n",
    "                if verbose:\n",
    "                    print '%r => %r (%d); expected %r (%d)' % (\n",
    "                        wrong, w, NWORDS[w], target, NWORDS[target])\n",
    "    return dict(bad=bad, n=n, bias=bias, pct=int(100. - 100.*bad/n), \n",
    "                unknown=unknown, secs=int(time.clock()-start) )\n",
    "\n",
    "print spelltest(tests1)\n",
    "print spelltest(tests2) ## only do this after everything is debugged"
   ]
  },
  {
   "cell_type": "markdown",
   "metadata": {},
   "source": [
    "# Miniproject 2, Try to improve spellchecker\n",
    "\n",
    "For ideas see http://norvig.com/spell-correct.html , Future work. Try to implement one of the ideas"
   ]
  }
 ],
 "metadata": {
  "kernelspec": {
   "display_name": "Python 2",
   "language": "python",
   "name": "python2"
  },
  "language_info": {
   "codemirror_mode": {
    "name": "ipython",
    "version": 2
   },
   "file_extension": ".py",
   "mimetype": "text/x-python",
   "name": "python",
   "nbconvert_exporter": "python",
   "pygments_lexer": "ipython2",
   "version": "2.7.11"
  }
 },
 "nbformat": 4,
 "nbformat_minor": 0
}
