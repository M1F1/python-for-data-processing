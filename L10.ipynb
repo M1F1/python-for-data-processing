{
 "cells": [
  {
   "cell_type": "markdown",
   "metadata": {},
   "source": [
    "# L10 (6.05)  data exploration of StarCraft dataset \n",
    "\n",
    "* StarCraft is an RTS game where players are assigned (based on their skill) to different Leagues. \n",
    "* APM is an acronym for Actions Per Minute, i.e. how many actions (sending unit, clicking attack, etc.) given player\n",
    "performed in one minute\n",
    "\n",
    "In this notebook we will look at factors affecting league assigned to given player"
   ]
  },
  {
   "cell_type": "markdown",
   "metadata": {},
   "source": [
    "## New pandas skills\n",
    "* groupby\n",
    "* query syntax (no really new capabilities, just easier to use)\n",
    "\n",
    "## New \"general\" skills\n",
    "* calculating correlations\n",
    "* transforming (usually using log) axis \n",
    "* performing quick and dirty (frequential) statistical tests in Python"
   ]
  },
  {
   "cell_type": "code",
   "execution_count": 2,
   "metadata": {
    "collapsed": false
   },
   "outputs": [
    {
     "name": "stderr",
     "output_type": "stream",
     "text": [
      "/Users/kudkudak/anaconda/lib/python2.7/site-packages/matplotlib/font_manager.py:273: UserWarning: Matplotlib is building the font cache using fc-list. This may take a moment.\n",
      "  warnings.warn('Matplotlib is building the font cache using fc-list. This may take a moment.')\n"
     ]
    }
   ],
   "source": [
    "%matplotlib inline\n",
    "import pandas as pd\n",
    "import matplotlib.pylab as plt\n",
    "import seaborn as sns\n",
    "import numpy as np\n",
    "import scipy\n",
    "from scipy import stats"
   ]
  },
  {
   "cell_type": "code",
   "execution_count": 3,
   "metadata": {
    "collapsed": false
   },
   "outputs": [],
   "source": [
    "# Read data, replace missing data by '?'\n",
    "df = pd.read_csv(\"data/SkillCraft1_Dataset.csv\", na_values=[\"?\"])"
   ]
  },
  {
   "cell_type": "code",
   "execution_count": 4,
   "metadata": {
    "collapsed": false
   },
   "outputs": [
    {
     "data": {
      "text/html": [
       "<div>\n",
       "<table border=\"1\" class=\"dataframe\">\n",
       "  <thead>\n",
       "    <tr style=\"text-align: right;\">\n",
       "      <th></th>\n",
       "      <th>GameID</th>\n",
       "      <th>LeagueIndex</th>\n",
       "      <th>Age</th>\n",
       "      <th>HoursPerWeek</th>\n",
       "      <th>TotalHours</th>\n",
       "      <th>APM</th>\n",
       "      <th>SelectByHotkeys</th>\n",
       "      <th>AssignToHotkeys</th>\n",
       "      <th>UniqueHotkeys</th>\n",
       "      <th>MinimapAttacks</th>\n",
       "      <th>MinimapRightClicks</th>\n",
       "      <th>NumberOfPACs</th>\n",
       "      <th>GapBetweenPACs</th>\n",
       "      <th>ActionLatency</th>\n",
       "      <th>ActionsInPAC</th>\n",
       "      <th>TotalMapExplored</th>\n",
       "      <th>WorkersMade</th>\n",
       "      <th>UniqueUnitsMade</th>\n",
       "      <th>ComplexUnitsMade</th>\n",
       "      <th>ComplexAbilitiesUsed</th>\n",
       "    </tr>\n",
       "  </thead>\n",
       "  <tbody>\n",
       "    <tr>\n",
       "      <th>0</th>\n",
       "      <td>52</td>\n",
       "      <td>5</td>\n",
       "      <td>27</td>\n",
       "      <td>10</td>\n",
       "      <td>3000</td>\n",
       "      <td>143.7180</td>\n",
       "      <td>0.003515</td>\n",
       "      <td>0.000220</td>\n",
       "      <td>7</td>\n",
       "      <td>0.000110</td>\n",
       "      <td>0.000392</td>\n",
       "      <td>0.004849</td>\n",
       "      <td>32.6677</td>\n",
       "      <td>40.8673</td>\n",
       "      <td>4.7508</td>\n",
       "      <td>28</td>\n",
       "      <td>0.001397</td>\n",
       "      <td>6</td>\n",
       "      <td>0</td>\n",
       "      <td>0.000000</td>\n",
       "    </tr>\n",
       "    <tr>\n",
       "      <th>1</th>\n",
       "      <td>55</td>\n",
       "      <td>5</td>\n",
       "      <td>23</td>\n",
       "      <td>10</td>\n",
       "      <td>5000</td>\n",
       "      <td>129.2322</td>\n",
       "      <td>0.003304</td>\n",
       "      <td>0.000259</td>\n",
       "      <td>4</td>\n",
       "      <td>0.000294</td>\n",
       "      <td>0.000432</td>\n",
       "      <td>0.004307</td>\n",
       "      <td>32.9194</td>\n",
       "      <td>42.3454</td>\n",
       "      <td>4.8434</td>\n",
       "      <td>22</td>\n",
       "      <td>0.001194</td>\n",
       "      <td>5</td>\n",
       "      <td>0</td>\n",
       "      <td>0.000208</td>\n",
       "    </tr>\n",
       "    <tr>\n",
       "      <th>2</th>\n",
       "      <td>56</td>\n",
       "      <td>4</td>\n",
       "      <td>30</td>\n",
       "      <td>10</td>\n",
       "      <td>200</td>\n",
       "      <td>69.9612</td>\n",
       "      <td>0.001101</td>\n",
       "      <td>0.000336</td>\n",
       "      <td>4</td>\n",
       "      <td>0.000294</td>\n",
       "      <td>0.000461</td>\n",
       "      <td>0.002926</td>\n",
       "      <td>44.6475</td>\n",
       "      <td>75.3548</td>\n",
       "      <td>4.0430</td>\n",
       "      <td>22</td>\n",
       "      <td>0.000745</td>\n",
       "      <td>6</td>\n",
       "      <td>0</td>\n",
       "      <td>0.000189</td>\n",
       "    </tr>\n",
       "    <tr>\n",
       "      <th>3</th>\n",
       "      <td>57</td>\n",
       "      <td>3</td>\n",
       "      <td>19</td>\n",
       "      <td>20</td>\n",
       "      <td>400</td>\n",
       "      <td>107.6016</td>\n",
       "      <td>0.001034</td>\n",
       "      <td>0.000213</td>\n",
       "      <td>1</td>\n",
       "      <td>0.000053</td>\n",
       "      <td>0.000543</td>\n",
       "      <td>0.003783</td>\n",
       "      <td>29.2203</td>\n",
       "      <td>53.7352</td>\n",
       "      <td>4.9155</td>\n",
       "      <td>19</td>\n",
       "      <td>0.000426</td>\n",
       "      <td>7</td>\n",
       "      <td>0</td>\n",
       "      <td>0.000384</td>\n",
       "    </tr>\n",
       "    <tr>\n",
       "      <th>4</th>\n",
       "      <td>58</td>\n",
       "      <td>3</td>\n",
       "      <td>32</td>\n",
       "      <td>10</td>\n",
       "      <td>500</td>\n",
       "      <td>122.8908</td>\n",
       "      <td>0.001136</td>\n",
       "      <td>0.000327</td>\n",
       "      <td>2</td>\n",
       "      <td>0.000000</td>\n",
       "      <td>0.001329</td>\n",
       "      <td>0.002368</td>\n",
       "      <td>22.6885</td>\n",
       "      <td>62.0813</td>\n",
       "      <td>9.3740</td>\n",
       "      <td>15</td>\n",
       "      <td>0.001174</td>\n",
       "      <td>4</td>\n",
       "      <td>0</td>\n",
       "      <td>0.000019</td>\n",
       "    </tr>\n",
       "  </tbody>\n",
       "</table>\n",
       "</div>"
      ],
      "text/plain": [
       "   GameID  LeagueIndex  Age  HoursPerWeek  TotalHours       APM  \\\n",
       "0      52            5   27            10        3000  143.7180   \n",
       "1      55            5   23            10        5000  129.2322   \n",
       "2      56            4   30            10         200   69.9612   \n",
       "3      57            3   19            20         400  107.6016   \n",
       "4      58            3   32            10         500  122.8908   \n",
       "\n",
       "   SelectByHotkeys  AssignToHotkeys  UniqueHotkeys  MinimapAttacks  \\\n",
       "0         0.003515         0.000220              7        0.000110   \n",
       "1         0.003304         0.000259              4        0.000294   \n",
       "2         0.001101         0.000336              4        0.000294   \n",
       "3         0.001034         0.000213              1        0.000053   \n",
       "4         0.001136         0.000327              2        0.000000   \n",
       "\n",
       "   MinimapRightClicks  NumberOfPACs  GapBetweenPACs  ActionLatency  \\\n",
       "0            0.000392      0.004849         32.6677        40.8673   \n",
       "1            0.000432      0.004307         32.9194        42.3454   \n",
       "2            0.000461      0.002926         44.6475        75.3548   \n",
       "3            0.000543      0.003783         29.2203        53.7352   \n",
       "4            0.001329      0.002368         22.6885        62.0813   \n",
       "\n",
       "   ActionsInPAC  TotalMapExplored  WorkersMade  UniqueUnitsMade  \\\n",
       "0        4.7508                28     0.001397                6   \n",
       "1        4.8434                22     0.001194                5   \n",
       "2        4.0430                22     0.000745                6   \n",
       "3        4.9155                19     0.000426                7   \n",
       "4        9.3740                15     0.001174                4   \n",
       "\n",
       "   ComplexUnitsMade  ComplexAbilitiesUsed  \n",
       "0                 0              0.000000  \n",
       "1                 0              0.000208  \n",
       "2                 0              0.000189  \n",
       "3                 0              0.000384  \n",
       "4                 0              0.000019  "
      ]
     },
     "execution_count": 4,
     "metadata": {},
     "output_type": "execute_result"
    }
   ],
   "source": [
    "df.head()"
   ]
  },
  {
   "cell_type": "markdown",
   "metadata": {},
   "source": [
    "### Groupby"
   ]
  },
  {
   "cell_type": "code",
   "execution_count": 5,
   "metadata": {
    "collapsed": true
   },
   "outputs": [],
   "source": [
    "# Groupby returns strange object which exposes few things. \n",
    "# If you know SQL this is something that enables you to finish the query (for instance calculate mean in groups)\n",
    "strange_obj = df.groupby(\"LeagueIndex\")"
   ]
  },
  {
   "cell_type": "code",
   "execution_count": 6,
   "metadata": {
    "collapsed": true
   },
   "outputs": [],
   "source": [
    "m = strange_obj['APM']"
   ]
  },
  {
   "cell_type": "code",
   "execution_count": 7,
   "metadata": {
    "collapsed": false
   },
   "outputs": [
    {
     "data": {
      "text/plain": [
       "LeagueIndex\n",
       "1     54.0450\n",
       "2     71.6754\n",
       "3     85.9590\n",
       "4    103.8072\n",
       "5    126.0075\n",
       "6    152.1852\n",
       "7    185.3424\n",
       "8    274.3404\n",
       "Name: APM, dtype: float64"
      ]
     },
     "execution_count": 7,
     "metadata": {},
     "output_type": "execute_result"
    }
   ],
   "source": [
    "strange_obj['APM'].median()"
   ]
  },
  {
   "cell_type": "code",
   "execution_count": 8,
   "metadata": {
    "collapsed": false
   },
   "outputs": [
    {
     "name": "stdout",
     "output_type": "stream",
     "text": [
      "Different LeagueIndexes8\n",
      "LeagueIndex=1\n"
     ]
    },
    {
     "data": {
      "text/html": [
       "<div>\n",
       "<table border=\"1\" class=\"dataframe\">\n",
       "  <thead>\n",
       "    <tr style=\"text-align: right;\">\n",
       "      <th></th>\n",
       "      <th>GameID</th>\n",
       "      <th>LeagueIndex</th>\n",
       "      <th>Age</th>\n",
       "      <th>HoursPerWeek</th>\n",
       "      <th>TotalHours</th>\n",
       "      <th>APM</th>\n",
       "      <th>SelectByHotkeys</th>\n",
       "      <th>AssignToHotkeys</th>\n",
       "      <th>UniqueHotkeys</th>\n",
       "      <th>MinimapAttacks</th>\n",
       "      <th>MinimapRightClicks</th>\n",
       "      <th>NumberOfPACs</th>\n",
       "      <th>GapBetweenPACs</th>\n",
       "      <th>ActionLatency</th>\n",
       "      <th>ActionsInPAC</th>\n",
       "      <th>TotalMapExplored</th>\n",
       "      <th>WorkersMade</th>\n",
       "      <th>UniqueUnitsMade</th>\n",
       "      <th>ComplexUnitsMade</th>\n",
       "      <th>ComplexAbilitiesUsed</th>\n",
       "    </tr>\n",
       "  </thead>\n",
       "  <tbody>\n",
       "    <tr>\n",
       "      <th>6</th>\n",
       "      <td>61</td>\n",
       "      <td>1</td>\n",
       "      <td>21</td>\n",
       "      <td>8</td>\n",
       "      <td>240</td>\n",
       "      <td>46.9962</td>\n",
       "      <td>0.000820</td>\n",
       "      <td>0.000169</td>\n",
       "      <td>6</td>\n",
       "      <td>0.000000</td>\n",
       "      <td>0.000045</td>\n",
       "      <td>0.001988</td>\n",
       "      <td>94.0227</td>\n",
       "      <td>90.5311</td>\n",
       "      <td>4.1017</td>\n",
       "      <td>15</td>\n",
       "      <td>0.000573</td>\n",
       "      <td>5</td>\n",
       "      <td>0.000000</td>\n",
       "      <td>0.000000</td>\n",
       "    </tr>\n",
       "    <tr>\n",
       "      <th>36</th>\n",
       "      <td>171</td>\n",
       "      <td>1</td>\n",
       "      <td>18</td>\n",
       "      <td>6</td>\n",
       "      <td>230</td>\n",
       "      <td>69.5076</td>\n",
       "      <td>0.000175</td>\n",
       "      <td>0.000204</td>\n",
       "      <td>4</td>\n",
       "      <td>0.000058</td>\n",
       "      <td>0.000204</td>\n",
       "      <td>0.001459</td>\n",
       "      <td>45.0612</td>\n",
       "      <td>112.9600</td>\n",
       "      <td>9.1400</td>\n",
       "      <td>11</td>\n",
       "      <td>0.000584</td>\n",
       "      <td>4</td>\n",
       "      <td>0.000000</td>\n",
       "      <td>0.000000</td>\n",
       "    </tr>\n",
       "    <tr>\n",
       "      <th>106</th>\n",
       "      <td>363</td>\n",
       "      <td>1</td>\n",
       "      <td>33</td>\n",
       "      <td>4</td>\n",
       "      <td>120</td>\n",
       "      <td>68.6598</td>\n",
       "      <td>0.000302</td>\n",
       "      <td>0.000323</td>\n",
       "      <td>0</td>\n",
       "      <td>0.000000</td>\n",
       "      <td>0.000062</td>\n",
       "      <td>0.002396</td>\n",
       "      <td>48.6812</td>\n",
       "      <td>87.5130</td>\n",
       "      <td>5.4130</td>\n",
       "      <td>23</td>\n",
       "      <td>0.000542</td>\n",
       "      <td>6</td>\n",
       "      <td>0.000000</td>\n",
       "      <td>0.000208</td>\n",
       "    </tr>\n",
       "    <tr>\n",
       "      <th>167</th>\n",
       "      <td>532</td>\n",
       "      <td>1</td>\n",
       "      <td>22</td>\n",
       "      <td>20</td>\n",
       "      <td>315</td>\n",
       "      <td>54.0792</td>\n",
       "      <td>0.001258</td>\n",
       "      <td>0.000296</td>\n",
       "      <td>3</td>\n",
       "      <td>0.000037</td>\n",
       "      <td>0.000481</td>\n",
       "      <td>0.002182</td>\n",
       "      <td>37.1724</td>\n",
       "      <td>111.6610</td>\n",
       "      <td>3.9492</td>\n",
       "      <td>14</td>\n",
       "      <td>0.001332</td>\n",
       "      <td>5</td>\n",
       "      <td>0.000000</td>\n",
       "      <td>0.000000</td>\n",
       "    </tr>\n",
       "    <tr>\n",
       "      <th>187</th>\n",
       "      <td>590</td>\n",
       "      <td>1</td>\n",
       "      <td>19</td>\n",
       "      <td>16</td>\n",
       "      <td>730</td>\n",
       "      <td>60.4956</td>\n",
       "      <td>0.000831</td>\n",
       "      <td>0.000082</td>\n",
       "      <td>2</td>\n",
       "      <td>0.000000</td>\n",
       "      <td>0.000615</td>\n",
       "      <td>0.002195</td>\n",
       "      <td>103.9624</td>\n",
       "      <td>93.3271</td>\n",
       "      <td>5.2103</td>\n",
       "      <td>36</td>\n",
       "      <td>0.001292</td>\n",
       "      <td>7</td>\n",
       "      <td>0.000318</td>\n",
       "      <td>0.000462</td>\n",
       "    </tr>\n",
       "  </tbody>\n",
       "</table>\n",
       "</div>"
      ],
      "text/plain": [
       "     GameID  LeagueIndex  Age  HoursPerWeek  TotalHours      APM  \\\n",
       "6        61            1   21             8         240  46.9962   \n",
       "36      171            1   18             6         230  69.5076   \n",
       "106     363            1   33             4         120  68.6598   \n",
       "167     532            1   22            20         315  54.0792   \n",
       "187     590            1   19            16         730  60.4956   \n",
       "\n",
       "     SelectByHotkeys  AssignToHotkeys  UniqueHotkeys  MinimapAttacks  \\\n",
       "6           0.000820         0.000169              6        0.000000   \n",
       "36          0.000175         0.000204              4        0.000058   \n",
       "106         0.000302         0.000323              0        0.000000   \n",
       "167         0.001258         0.000296              3        0.000037   \n",
       "187         0.000831         0.000082              2        0.000000   \n",
       "\n",
       "     MinimapRightClicks  NumberOfPACs  GapBetweenPACs  ActionLatency  \\\n",
       "6              0.000045      0.001988         94.0227        90.5311   \n",
       "36             0.000204      0.001459         45.0612       112.9600   \n",
       "106            0.000062      0.002396         48.6812        87.5130   \n",
       "167            0.000481      0.002182         37.1724       111.6610   \n",
       "187            0.000615      0.002195        103.9624        93.3271   \n",
       "\n",
       "     ActionsInPAC  TotalMapExplored  WorkersMade  UniqueUnitsMade  \\\n",
       "6          4.1017                15     0.000573                5   \n",
       "36         9.1400                11     0.000584                4   \n",
       "106        5.4130                23     0.000542                6   \n",
       "167        3.9492                14     0.001332                5   \n",
       "187        5.2103                36     0.001292                7   \n",
       "\n",
       "     ComplexUnitsMade  ComplexAbilitiesUsed  \n",
       "6            0.000000              0.000000  \n",
       "36           0.000000              0.000000  \n",
       "106          0.000000              0.000208  \n",
       "167          0.000000              0.000000  \n",
       "187          0.000318              0.000462  "
      ]
     },
     "execution_count": 8,
     "metadata": {},
     "output_type": "execute_result"
    }
   ],
   "source": [
    "# Besides being strange, it is also a list of tuples, where\n",
    "# each tuple is simply value of column grouped on (or set of columns) and resulting DataFrame\n",
    "print(\"Different LeagueIndexes\" + str(len(strange_obj)))\n",
    "dfs = list(strange_obj)\n",
    "print(\"LeagueIndex=\" + str(dfs[0][0]))\n",
    "dfs[0][1].head()"
   ]
  },
  {
   "cell_type": "code",
   "execution_count": 9,
   "metadata": {
    "collapsed": false
   },
   "outputs": [
    {
     "data": {
      "text/plain": [
       "LeagueIndex\n",
       "1    Axes(0.125,0.125;0.775x0.775)\n",
       "2    Axes(0.125,0.125;0.775x0.775)\n",
       "3    Axes(0.125,0.125;0.775x0.775)\n",
       "4    Axes(0.125,0.125;0.775x0.775)\n",
       "5    Axes(0.125,0.125;0.775x0.775)\n",
       "6    Axes(0.125,0.125;0.775x0.775)\n",
       "7    Axes(0.125,0.125;0.775x0.775)\n",
       "8    Axes(0.125,0.125;0.775x0.775)\n",
       "Name: APM, dtype: object"
      ]
     },
     "execution_count": 9,
     "metadata": {},
     "output_type": "execute_result"
    },
    {
     "data": {
      "image/png": "[encoded data removed]",
      "text/plain": [
       "<matplotlib.figure.Figure at 0x11571fad0>"
      ]
     },
     "metadata": {},
     "output_type": "display_data"
    }
   ],
   "source": [
    "strange_obj['APM'].hist()"
   ]
  },
  {
   "cell_type": "code",
   "execution_count": 10,
   "metadata": {
    "collapsed": false
   },
   "outputs": [
    {
     "data": {
      "text/plain": [
       "LeagueIndex\n",
       "1    167\n",
       "2    347\n",
       "3    553\n",
       "4    811\n",
       "5    806\n",
       "6    621\n",
       "7     35\n",
       "8     55\n",
       "dtype: int64"
      ]
     },
     "execution_count": 10,
     "metadata": {},
     "output_type": "execute_result"
    }
   ],
   "source": [
    "df.groupby(\"LeagueIndex\").size()"
   ]
  },
  {
   "cell_type": "code",
   "execution_count": 11,
   "metadata": {
    "collapsed": false
   },
   "outputs": [
    {
     "data": {
      "text/plain": [
       "LeagueIndex\n",
       "1     59.539277\n",
       "2     74.780917\n",
       "3     89.971260\n",
       "4    105.847166\n",
       "5    131.520718\n",
       "6    158.683211\n",
       "7    189.555686\n",
       "8    267.341236\n",
       "Name: APM, dtype: float64"
      ]
     },
     "execution_count": 11,
     "metadata": {},
     "output_type": "execute_result"
    }
   ],
   "source": [
    "df.groupby(\"LeagueIndex\")['APM'].mean() # Average clicks per minute"
   ]
  },
  {
   "cell_type": "code",
   "execution_count": 12,
   "metadata": {
    "collapsed": false
   },
   "outputs": [
    {
     "data": {
      "text/plain": [
       "<matplotlib.axes._subplots.AxesSubplot at 0x118259110>"
      ]
     },
     "execution_count": 12,
     "metadata": {},
     "output_type": "execute_result"
    },
    {
     "data": {
      "image/png": "[encoded data removed]",
      "text/plain": [
       "<matplotlib.figure.Figure at 0x115d94290>"
      ]
     },
     "metadata": {},
     "output_type": "display_data"
    }
   ],
   "source": [
    "sns.violinplot(x=\"LeagueIndex\", y=\"Age\", data=df, order=[1, 2, 3, 4, 5, 6, 7])"
   ]
  },
  {
   "cell_type": "markdown",
   "metadata": {},
   "source": [
    "### Minor trick: histogram with set number of bins is less deceiving"
   ]
  },
  {
   "cell_type": "code",
   "execution_count": 13,
   "metadata": {
    "collapsed": false
   },
   "outputs": [
    {
     "data": {
      "text/plain": [
       "<matplotlib.axes._subplots.AxesSubplot at 0x115d94810>"
      ]
     },
     "execution_count": 13,
     "metadata": {},
     "output_type": "execute_result"
    },
    {
     "data": {
      "image/png": "[encoded data removed]",
      "text/plain": [
       "<matplotlib.figure.Figure at 0x1182769d0>"
      ]
     },
     "metadata": {},
     "output_type": "display_data"
    }
   ],
   "source": [
    "df[\"LeagueIndex\"].hist()"
   ]
  },
  {
   "cell_type": "code",
   "execution_count": 14,
   "metadata": {
    "collapsed": false
   },
   "outputs": [
    {
     "data": {
      "text/plain": [
       "<matplotlib.axes._subplots.AxesSubplot at 0x118cdbed0>"
      ]
     },
     "execution_count": 14,
     "metadata": {},
     "output_type": "execute_result"
    },
    {
     "data": {
      "image/png": "[encoded data removed]",
      "text/plain": [
       "<matplotlib.figure.Figure at 0x118cdba50>"
      ]
     },
     "metadata": {},
     "output_type": "display_data"
    }
   ],
   "source": [
    "df[\"LeagueIndex\"].hist(bins=len(df[\"LeagueIndex\"].unique()))"
   ]
  },
  {
   "cell_type": "markdown",
   "metadata": {},
   "source": [
    "### Correlation\n",
    "\n",
    "Pearson (linear) correlation captures linear relationships between variables. This can be readily seen\n",
    "by examining linear regression solution. [TODO: insert it here]"
   ]
  },
  {
   "cell_type": "markdown",
   "metadata": {},
   "source": [
    "We can quickly visualize correlations in pandas:"
   ]
  },
  {
   "cell_type": "code",
   "execution_count": 15,
   "metadata": {
    "collapsed": false
   },
   "outputs": [
    {
     "data": {
      "text/html": [
       "<div>\n",
       "<table border=\"1\" class=\"dataframe\">\n",
       "  <thead>\n",
       "    <tr style=\"text-align: right;\">\n",
       "      <th></th>\n",
       "      <th>LeagueIndex</th>\n",
       "      <th>Age</th>\n",
       "      <th>HoursPerWeek</th>\n",
       "      <th>TotalHours</th>\n",
       "      <th>APM</th>\n",
       "    </tr>\n",
       "  </thead>\n",
       "  <tbody>\n",
       "    <tr>\n",
       "      <th>LeagueIndex</th>\n",
       "      <td>1.000000</td>\n",
       "      <td>-0.127825</td>\n",
       "      <td>0.217976</td>\n",
       "      <td>0.023884</td>\n",
       "      <td>0.662309</td>\n",
       "    </tr>\n",
       "    <tr>\n",
       "      <th>Age</th>\n",
       "      <td>-0.127825</td>\n",
       "      <td>1.000000</td>\n",
       "      <td>-0.184508</td>\n",
       "      <td>-0.016630</td>\n",
       "      <td>-0.210559</td>\n",
       "    </tr>\n",
       "    <tr>\n",
       "      <th>HoursPerWeek</th>\n",
       "      <td>0.217976</td>\n",
       "      <td>-0.184508</td>\n",
       "      <td>1.000000</td>\n",
       "      <td>0.024306</td>\n",
       "      <td>0.246844</td>\n",
       "    </tr>\n",
       "    <tr>\n",
       "      <th>TotalHours</th>\n",
       "      <td>0.023884</td>\n",
       "      <td>-0.016630</td>\n",
       "      <td>0.024306</td>\n",
       "      <td>1.000000</td>\n",
       "      <td>0.072850</td>\n",
       "    </tr>\n",
       "    <tr>\n",
       "      <th>APM</th>\n",
       "      <td>0.662309</td>\n",
       "      <td>-0.210559</td>\n",
       "      <td>0.246844</td>\n",
       "      <td>0.072850</td>\n",
       "      <td>1.000000</td>\n",
       "    </tr>\n",
       "  </tbody>\n",
       "</table>\n",
       "</div>"
      ],
      "text/plain": [
       "              LeagueIndex       Age  HoursPerWeek  TotalHours       APM\n",
       "LeagueIndex      1.000000 -0.127825      0.217976    0.023884  0.662309\n",
       "Age             -0.127825  1.000000     -0.184508   -0.016630 -0.210559\n",
       "HoursPerWeek     0.217976 -0.184508      1.000000    0.024306  0.246844\n",
       "TotalHours       0.023884 -0.016630      0.024306    1.000000  0.072850\n",
       "APM              0.662309 -0.210559      0.246844    0.072850  1.000000"
      ]
     },
     "execution_count": 15,
     "metadata": {},
     "output_type": "execute_result"
    }
   ],
   "source": [
    "df_some = df.loc[:,\"LeagueIndex\":\"APM\"]\n",
    "df_some.corr()"
   ]
  },
  {
   "cell_type": "code",
   "execution_count": 16,
   "metadata": {
    "collapsed": false
   },
   "outputs": [
    {
     "data": {
      "text/plain": [
       "<matplotlib.axes._subplots.AxesSubplot at 0x118ce5650>"
      ]
     },
     "execution_count": 16,
     "metadata": {},
     "output_type": "execute_result"
    },
    {
     "data": {
      "image/png": "[encoded data removed]",
      "text/plain": [
       "<matplotlib.figure.Figure at 0x118d01710>"
      ]
     },
     "metadata": {},
     "output_type": "display_data"
    }
   ],
   "source": [
    "sns.heatmap(df_some.corr(), annot=True)"
   ]
  },
  {
   "cell_type": "markdown",
   "metadata": {},
   "source": [
    "Spearman correlation is not requiring linear relationship and is less sensitive to outliers"
   ]
  },
  {
   "cell_type": "code",
   "execution_count": 17,
   "metadata": {
    "collapsed": false
   },
   "outputs": [
    {
     "data": {
      "text/plain": [
       "<matplotlib.axes._subplots.AxesSubplot at 0x118d01490>"
      ]
     },
     "execution_count": 17,
     "metadata": {},
     "output_type": "execute_result"
    },
    {
     "data": {
      "image/png": "[encoded data removed]",
      "text/plain": [
       "<matplotlib.figure.Figure at 0x119087850>"
      ]
     },
     "metadata": {},
     "output_type": "display_data"
    }
   ],
   "source": [
    "sns.heatmap(df_some.corr(method='spearman'), annot=True)"
   ]
  },
  {
   "cell_type": "code",
   "execution_count": 18,
   "metadata": {
    "collapsed": false
   },
   "outputs": [
    {
     "data": {
      "text/plain": [
       "<matplotlib.axes._subplots.AxesSubplot at 0x1193bdd50>"
      ]
     },
     "execution_count": 18,
     "metadata": {},
     "output_type": "execute_result"
    },
    {
     "data": {
      "image/png": "[encoded data removed]",
      "text/plain": [
       "<matplotlib.figure.Figure at 0x119345150>"
      ]
     },
     "metadata": {},
     "output_type": "display_data"
    }
   ],
   "source": [
    "# możemy też wykreślić różnicę ich kwadratów\n",
    "sns.heatmap(df_some.corr(method='spearman')**2 - df_some.corr(method='pearson')**2)"
   ]
  },
  {
   "cell_type": "markdown",
   "metadata": {},
   "source": [
    "### Statistical tests\n",
    "\n",
    "It is useful to know how to perform basic statistical tests (one reason being people often ask for such)."
   ]
  },
  {
   "cell_type": "markdown",
   "metadata": {},
   "source": [
    "* Simple pearson correlation test. It just assesses if linear relationship between 2 random variables could\n",
    "be by chance"
   ]
  },
  {
   "cell_type": "code",
   "execution_count": 20,
   "metadata": {
    "collapsed": true
   },
   "outputs": [],
   "source": [
    "df_scaled = df.query(\"HoursPerWeek > 0\").copy() # Will be needed for log10\n",
    "df_scaled['APM_log10'] = np.log10(df_scaled['APM'])\n",
    "df_scaled['HoursPerWeek_log10'] = np.log10(df_scaled['HoursPerWeek'])"
   ]
  },
  {
   "cell_type": "code",
   "execution_count": 21,
   "metadata": {
    "collapsed": false
   },
   "outputs": [
    {
     "data": {
      "text/plain": [
       "SpearmanrResult(correlation=0.25161098780778218, pvalue=2.2965326622952535e-49)"
      ]
     },
     "execution_count": 21,
     "metadata": {},
     "output_type": "execute_result"
    }
   ],
   "source": [
    "## Pearson correlation using scipy\n",
    "# Very low p-value (easily below magic 0.05), so we reject null hypothesis\n",
    "scipy.stats.spearmanr(df_scaled['APM_log10'], df_scaled['HoursPerWeek_log10']) "
   ]
  },
  {
   "cell_type": "code",
   "execution_count": 22,
   "metadata": {
    "collapsed": false
   },
   "outputs": [
    {
     "data": {
      "text/plain": [
       "<seaborn.axisgrid.JointGrid at 0x1198593d0>"
      ]
     },
     "execution_count": 22,
     "metadata": {},
     "output_type": "execute_result"
    },
    {
     "data": {
      "image/png": "[encoded data removed]",
      "text/plain": [
       "<matplotlib.figure.Figure at 0x119859d50>"
      ]
     },
     "metadata": {},
     "output_type": "display_data"
    }
   ],
   "source": [
    "## Pearson correlation visually (legend in the corner)\n",
    "sns.jointplot(x=\"APM_log10\", y=\"HoursPerWeek_log10\",\n",
    "              data=df_scaled, kind=\"kde\")"
   ]
  },
  {
   "cell_type": "markdown",
   "metadata": {},
   "source": [
    " * ANOVA (ANalysis Of VAriances) can be for instance used to assess if two groups have significant differences"
   ]
  },
  {
   "cell_type": "code",
   "execution_count": 23,
   "metadata": {
    "collapsed": false
   },
   "outputs": [],
   "source": [
    "# Create dict league_index -> APM (actions per minute)\n",
    "data = {}\n",
    "# Note: would be slightly shorter using groupby\n",
    "for league_index in range(1, 8):\n",
    "    # Note: same as\n",
    "    # df[df['LeagueIndex'] == league_index]\n",
    "    data[league_index] = df.query(\"LeagueIndex=={}\".format(league_index))['APM']\n",
    "    # Convert to numpy array\n",
    "    data[league_index] = np.array(data[league_index])"
   ]
  },
  {
   "cell_type": "code",
   "execution_count": 32,
   "metadata": {
    "collapsed": false
   },
   "outputs": [
    {
     "data": {
      "text/plain": [
       "<matplotlib.legend.Legend at 0x11bcd1510>"
      ]
     },
     "execution_count": 32,
     "metadata": {},
     "output_type": "execute_result"
    },
    {
     "data": {
      "image/png": "[encoded data removed]",
      "text/plain": [
       "<matplotlib.figure.Figure at 0x11bb4e490>"
      ]
     },
     "metadata": {},
     "output_type": "display_data"
    }
   ],
   "source": [
    "plt.hist(data.values()[0], alpha=0.5, label=data.keys()[0:1])\n",
    "plt.hist(data.values()[1], alpha=0.5, label=data.keys()[1:2])\n",
    "plt.legend()"
   ]
  },
  {
   "cell_type": "code",
   "execution_count": 41,
   "metadata": {
    "collapsed": false
   },
   "outputs": [
    {
     "name": "stdout",
     "output_type": "stream",
     "text": [
      "pvalue=2.52126514592e-11\n"
     ]
    }
   ],
   "source": [
    "test_result = scipy.stats.f_oneway(data.values()[0], data.values()[1])\n",
    "print(\"pvalue=\" + str(test_result.pvalue)) # Test passed, 2e-11 for chance result"
   ]
  },
  {
   "cell_type": "markdown",
   "metadata": {},
   "source": [
    "## Exercise 1 [are players' ages significantly different across different leagues?, 2 points]\n",
    "\n",
    "* Select all data, where LeagueIndex is in [1,3,6] (you can use df.query() syntax).\n",
    "\n",
    "* Include histograms of ages for each LeagueIndex (3 plots), make sure histograms include legend\n",
    "\n",
    "* Include boxplot of ages for each LeagueIndex\n",
    "\n",
    "* What is the mean and std of age for each LeagueIndex? (you can use groupby)\n",
    "\n",
    "* Perform oneway ANOVA test"
   ]
  },
  {
   "cell_type": "markdown",
   "metadata": {},
   "source": [
    "## Exercise 2 [10000 hours to master any subject?, 2 points]\n",
    "\n",
    "* Plot boxplot with x=\"LeagueIndex\", y=\"TotalHours\" (see previous lecture).\n",
    "\n",
    "You should get something like this: <img width=300, src=\"img/10/ex2.png\">\n",
    "\n",
    "* There is a popular saying that it takes 10k hours to master any skill. Is the single most important factor affecting LeagueIndex is spent time playing StarCraft? Include plots/statistics that confirm your conclusions."
   ]
  },
  {
   "cell_type": "markdown",
   "metadata": {},
   "source": [
    "# Exercise 3 [Produce cool plot for your company meeting, 1 point]\n",
    "\n",
    "* Add new columns 'Age_log10', 'TotalHours_log10', 'HoursPerWeek_log10', 'APM_log10', which are log transformed corrsponding columns in the original DataFrame\n",
    "* Using seaborn.pairplot produce plot similar to this <img src=\"img/10/ex3.png\">"
   ]
  }
 ],
 "metadata": {
  "kernelspec": {
   "display_name": "Python 2",
   "language": "python",
   "name": "python2"
  },
  "language_info": {
   "codemirror_mode": {
    "name": "ipython",
    "version": 2
   },
   "file_extension": ".py",
   "mimetype": "text/x-python",
   "name": "python",
   "nbconvert_exporter": "python",
   "pygments_lexer": "ipython2",
   "version": "2.7.11"
  }
 },
 "nbformat": 4,
 "nbformat_minor": 0
}
