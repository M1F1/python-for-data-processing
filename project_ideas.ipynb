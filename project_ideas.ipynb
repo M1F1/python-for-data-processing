{
 "cells": [
  {
   "cell_type": "markdown",
   "metadata": {},
   "source": [
    "# General considerations\n",
    "\n",
    "* If the project is just about analysing dataset - I assume it will be a very comprehensive analysis. It is best if you join mining dataset with acquiring it (for instance from social media) or you join few datasets\n",
    "\n",
    "* Be creative\n",
    "\n",
    "* I strongly recommend learning something new during the project, for instance:\n",
    "    * New API (flickr, YELP, twitter and many others make public their API)\n",
    "    * Interesting python package (interactive plotting! like holoviews or plotly)\n",
    "    * Specific ML algorithm/problem (we only looked at linear regression, so barely scratched the surface)\n",
    "    \n",
    "* There is a ton of machine learning/data science notebooks on the Internet. Draw inspiration from them (but don't copy them obviously!), for instance:\n",
    "    * https://github.com/ipython/ipython/wiki/A-gallery-of-interesting-IPython-Notebooks\n"
   ]
  },
  {
   "cell_type": "markdown",
   "metadata": {},
   "source": [
    "# General ideas\n",
    "\n",
    "### Analysing an opensource dataset\n",
    "\n",
    "See https://opendata.socrata.com/ and https://github.com/sods/ods/blob/master/pods, for instance this is quite interesting https://opendata.socrata.com/Government/Airplane-Crashes-and-Fatalities-Since-1908/q2te-8cvq. As mentioned before make sure your analysis is a larger project, consider joining multiple sources, creating interactive plots, etc.\n",
    "\n",
    "\n",
    "### Mining social data\n",
    "\n",
    "Can you do something cool with Facebook, Twitter or any other social data? Draw inspiration from https://github.com/ptwobrussell/Mining-the-Social-Web-2nd-Edition\n",
    "\n",
    "### Exploring specific ML topic\n",
    "\n",
    "Do a project demonstrating specific ML topic, for instance sentiment classification or recommendation system (for movies?).\n",
    "\n",
    "# Specific ideas\n",
    "\n",
    "### Tic-tac toe AI\n",
    "\n",
    "Implement min-max AI for tic-tac toe. Preferably try it on larger board (5x5)\n",
    "\n",
    "### Analyse current president election in USA\n",
    "\n",
    "Political data is very interesting, see for instance famous 538 model https://github.com/jseabold/538model. Try to use both numerical and textual data (quotes, blog posts etc.)\n",
    "\n",
    "### Smaller projects (preferably 1 person): \n",
    "https://github.com/DELabUW/szkola-letnia-2015/blob/master/zajecia/dzien5_projekty.ipynb"
   ]
  }
 ],
 "metadata": {
  "kernelspec": {
   "display_name": "Python 2",
   "language": "python",
   "name": "python2"
  },
  "language_info": {
   "codemirror_mode": {
    "name": "ipython",
    "version": 2
   },
   "file_extension": ".py",
   "mimetype": "text/x-python",
   "name": "python",
   "nbconvert_exporter": "python",
   "pygments_lexer": "ipython2",
   "version": "2.7.11"
  }
 },
 "nbformat": 4,
 "nbformat_minor": 0
}
