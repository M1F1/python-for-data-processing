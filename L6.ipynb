{
 "cells": [
  {
   "cell_type": "markdown",
   "metadata": {},
   "source": [
    "# L6"
   ]
  },
  {
   "cell_type": "markdown",
   "metadata": {},
   "source": [
    "<img src=\"https://imgs.xkcd.com/comics/regular_expressions.png\">"
   ]
  },
  {
   "cell_type": "markdown",
   "metadata": {},
   "source": [
    "# Regexes"
   ]
  },
  {
   "cell_type": "markdown",
   "metadata": {},
   "source": [
    "Fantastic tool for processing data, especially for finding some patterns and extracting things like phone numbers.\n",
    "\n",
    "Syntax is shear magic, but.. if you are serious about data processing, you have to know your regex-jujitsu"
   ]
  },
  {
   "cell_type": "markdown",
   "metadata": {},
   "source": [
    "<img src=\"img/regex_cheatsheet.png\">"
   ]
  },
  {
   "cell_type": "code",
   "execution_count": 6,
   "metadata": {
    "collapsed": false
   },
   "outputs": [
    {
     "name": "stdout",
     "output_type": "stream",
     "text": [
      "found word:cat\n"
     ]
    }
   ],
   "source": [
    "## Recipe 1\n",
    "str = 'an example word:cat!!'\n",
    "match = re.search(r'word:\\w\\w\\w', str)\n",
    "# If-statement after search() tests if it succeeded\n",
    "if match:                      \n",
    "    print 'found', match.group() ## 'found word:cat'\n",
    "else:\n",
    "    print 'did not find'"
   ]
  },
  {
   "cell_type": "code",
   "execution_count": 5,
   "metadata": {
    "collapsed": false
   },
   "outputs": [
    {
     "name": "stdout",
     "output_type": "stream",
     "text": [
      "07-16: carefully\n",
      "40-47: quickly\n"
     ]
    }
   ],
   "source": [
    "## Recipe 2\n",
    "import re\n",
    "text = \"He was carefully disguised but captured quickly by police.\"\n",
    "for m in re.finditer(r\"\\w+ly\", text):\n",
    "    print '%02d-%02d: %s' % (m.start(), m.end(), m.group(0))"
   ]
  },
  {
   "cell_type": "markdown",
   "metadata": {},
   "source": [
    "# Exercise 1 \n",
    "\n",
    "Using regular expressions, write code that will read from the file, and print out the phone number for each individual."
   ]
  },
  {
   "cell_type": "code",
   "execution_count": 12,
   "metadata": {
    "collapsed": true
   },
   "outputs": [],
   "source": [
    "txt_file = \"\"\"Rose    416-333-4444    rose@someplace.com\n",
    "Martha  905-888-1234    martha@hotmail.com\n",
    "Donna   647-222-9876    donna@rogers.ca\n",
    "Amy 905-777-2222    amy@gmail.com\"\"\""
   ]
  },
  {
   "cell_type": "code",
   "execution_count": 13,
   "metadata": {
    "collapsed": false
   },
   "outputs": [
    {
     "name": "stdout",
     "output_type": "stream",
     "text": [
      "['Rose    416-333-4444    rose@someplace.com', 'Martha  905-888-1234    martha@hotmail.com', 'Donna   647-222-9876    donna@rogers.ca', 'Amy 905-777-2222    amy@gmail.com']\n"
     ]
    }
   ],
   "source": [
    "print txt_file.split(\"\\n\")"
   ]
  },
  {
   "cell_type": "markdown",
   "metadata": {},
   "source": [
    "# Exercise 2\n",
    "\n",
    "Give a pattern to match the following (please test them out beforehand :), for instance using Recipe 1 ):\n",
    "\n",
    "* Words that consist entirely of uppercase letters, and contain 5 to 8 letters.\n",
    "\n",
    "* Words that begin with an uppercase letter, followed by any number (including zero!) of lowercase letters."
   ]
  },
  {
   "cell_type": "markdown",
   "metadata": {},
   "source": [
    "# Exercise 3 (Mexico), 3 points\n",
    "\n",
    "For your great startup idea you need list of states in Mexico along with the flags (as read using urllib2 bytes) and 2-letter codes. Extract list of states and corresponding capitals and flags from https://en.wikipedia.org/wiki/Administrative_divisions_of_Mexico\n",
    "\n",
    "### Hint 1:\n",
    "\n",
    "Try to do this in steps:\n",
    "1. Go to website and look through the source and identify part that contains all the information\n",
    "    * I found that table can be readily found searching for \"Constitutional empire\" and \"Abbrevations for the states of Mexico\"\n",
    "2. Extract names of states\n",
    "    * You can use findall and grouping\n",
    "3. Extract images \n",
    "4. Extract 2-letter codes\n",
    "\n",
    "Steps 2, 3 and 4 can be done subsequentially, because you know that states images and 2-letter codes are aligned\n",
    "\n",
    "### Hint 2:\n",
    "\n",
    "You can use https://regex101.com/ to construct regexes\n",
    "\n",
    "<img src=\"img/example_tester.png\">"
   ]
  },
  {
   "cell_type": "code",
   "execution_count": 43,
   "metadata": {
    "collapsed": true
   },
   "outputs": [],
   "source": [
    "# Starter code \n",
    "import urllib2\n",
    "response = urllib2.urlopen('https://en.wikipedia.org/wiki/Administrative_divisions_of_Mexico')\n",
    "html = response.read()"
   ]
  }
 ],
 "metadata": {
  "kernelspec": {
   "display_name": "Python 2",
   "language": "python",
   "name": "python2"
  },
  "language_info": {
   "codemirror_mode": {
    "name": "ipython",
    "version": 2
   },
   "file_extension": ".py",
   "mimetype": "text/x-python",
   "name": "python",
   "nbconvert_exporter": "python",
   "pygments_lexer": "ipython2",
   "version": "2.7.11"
  }
 },
 "nbformat": 4,
 "nbformat_minor": 0
}
