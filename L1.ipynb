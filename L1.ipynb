{
 "cells": [
  {
   "cell_type": "markdown",
   "metadata": {},
   "source": [
    "# Python for data science\n",
    "\n",
    "Material partially based on [Python programming](http://wojciechczarnecki.com) Wojciech Czarnecki course and MIT [Gentle introduction to programming using Python](http://ocw.mit.edu/courses/electrical-engineering-and-computer-science/6-189-a-gentle-introduction-to-programming-using-python-january-iap-2011/lectures/)"
   ]
  },
  {
   "cell_type": "markdown",
   "metadata": {},
   "source": [
    "<img src=\"img/python-comic-2.png\"></img>"
   ]
  },
  {
   "cell_type": "markdown",
   "metadata": {},
   "source": [
    "Organisational:\n",
    "* Simple exercises graded binary, annouced at the start of lab T, to be handed before the end of lab T+1 \n",
    "* Default grading is 90% - 5.0, 80% - 4.0, etc.\n",
    "* There will be a larger project (instead of exam)\n",
    "* Attendance is compulsory"
   ]
  },
  {
   "cell_type": "markdown",
   "metadata": {},
   "source": [
    "Links:\n",
    "* http://ocw.mit.edu/courses/electrical-engineering-and-computer-science/6-189-a-gentle-introduction-to-programming-using-python-january-iap-2011\n",
    "* https://github.com/gmum/python-lecture (L\\*.ipynb and U*.ipynb files)\n",
    "* Course page: http://kudkudak.github.io/4students"
   ]
  },
  {
   "cell_type": "markdown",
   "metadata": {},
   "source": [
    "# Why python?\n",
    " * Fast to prototype (up to 10 times faster, according to Guido)\n",
    " * Fast to learn\n",
    " * Community, community, community\n",
    " * Batteries included (including Mathematica-like IPython Notebook)\n",
    " "
   ]
  },
  {
   "cell_type": "markdown",
   "metadata": {},
   "source": [
    "# Lab \\#1, 26.02"
   ]
  },
  {
   "cell_type": "markdown",
   "metadata": {},
   "source": [
    "Reading:\n",
    "* http://www.greenteapress.com/thinkpython/thinkCSpy/html/chap01.html\n",
    "* http://www.greenteapress.com/thinkpython/thinkCSpy/html/chap02.html\n",
    "* (Up to 4.7) http://www.greenteapress.com/thinkpython/thinkCSpy/html/chap04.html"
   ]
  },
  {
   "cell_type": "markdown",
   "metadata": {},
   "source": [
    "## REPL demo"
   ]
  },
  {
   "cell_type": "markdown",
   "metadata": {},
   "source": [
    "## Imports and running files"
   ]
  },
  {
   "cell_type": "markdown",
   "metadata": {},
   "source": [
    "    #!/usr/bin/python\n",
    "    # Filename: using_name.py\n",
    "    \n",
    "    if __name__ == '__main__':\n",
    "        print 'This program is being run by itself'\n",
    "    else:\n",
    "        print 'I am being imported from another module'\n",
    "\n",
    "Przykładowe uruchomienia:\n",
    "    \n",
    "    $ python using_name.py\n",
    "    This program is being run by itself\n",
    "    \n",
    "    $ python\n",
    "    >>> import using_name\n",
    "    I am being imported from another module\n",
    "    >>>\n"
   ]
  },
  {
   "cell_type": "markdown",
   "metadata": {},
   "source": [
    "* **import**\n",
    "    * dołącza plik z $PYTHONPATH: .:/usr/local/lib/python\n",
    "    \n",
    "* **import test**\n",
    "    * Do x w test odwołujemy się przez \"test.x\"\n",
    "    \n",
    "* **from test import x**\n",
    "    * Do x w test odwołujemy się przez \"x\"\n",
    "    \n",
    "* ** import test.x.y ** \n",
    "    * Do y odwołujemy się przez \"test.x.y\"    \n",
    "    \n",
    "* **from test import * **\n",
    "    * Wczytuje wszystko z test. Do x w test odwołujemy się przez \"x\" (nie zalecane)\n",
    "    \n",
    "* ** import test as theTest** \n",
    "    * Do x w test odwołujemy się przez \"theTest.x\"\n",
    "\n",
    "    \n",
    "   \n"
   ]
  },
  {
   "cell_type": "markdown",
   "metadata": {},
   "source": [
    "* Kolekcja modułów znajduje się w katalogu\n",
    "* Katalog z modułem musi zawierać plik \\__init\\__.py\n",
    "* Moduł może zawierać podmoduły\n"
   ]
  },
  {
   "cell_type": "markdown",
   "metadata": {},
   "source": [
    "## Pętla WHILE i FOR"
   ]
  },
  {
   "cell_type": "code",
   "execution_count": 10,
   "metadata": {
    "collapsed": false
   },
   "outputs": [
    {
     "name": "stdout",
     "output_type": "stream",
     "text": [
      "Enter an integer : 100\n",
      "No, it is a little lower than that.\n",
      "Enter an integer : 23\n",
      "Congratulations, you guessed it.\n",
      "The while loop is over.\n",
      "Done\n"
     ]
    }
   ],
   "source": [
    "number = 23\n",
    "running = True\n",
    "\n",
    "while running:\n",
    "    guess = int(raw_input('Enter an integer : '))\n",
    "\n",
    "    if guess == number:\n",
    "        print 'Congratulations, you guessed it.'\n",
    "        running = False # this causes the while loop to stop\n",
    "        #break - but we can't use break here -> no else then \n",
    "    elif guess < number:\n",
    "        print 'No, it is a little higher than that.'\n",
    "    else:\n",
    "        print 'No, it is a little lower than that.'\n",
    "else:\n",
    "    print 'The while loop is over.'\n",
    "# Do anything else you want to do here\n",
    "\n",
    "print 'Done'"
   ]
  },
  {
   "cell_type": "code",
   "execution_count": 11,
   "metadata": {
    "collapsed": false
   },
   "outputs": [
    {
     "name": "stdout",
     "output_type": "stream",
     "text": [
      "1\n",
      "2\n",
      "3\n",
      "4\n",
      "The for loop is over\n"
     ]
    }
   ],
   "source": [
    "for i in range(1, 5):    # in 2.x you should always use xrange (generator) for that\n",
    "    print i\n",
    "else:\n",
    "    print 'The for loop is over'"
   ]
  },
  {
   "cell_type": "code",
   "execution_count": 12,
   "metadata": {
    "collapsed": false
   },
   "outputs": [
    {
     "name": "stdout",
     "output_type": "stream",
     "text": [
      "apple\n",
      "orange\n",
      "peach\n"
     ]
    }
   ],
   "source": [
    "for e in ['apple', 'orange', 'peach']:\n",
    "    print e"
   ]
  },
  {
   "cell_type": "markdown",
   "metadata": {},
   "source": [
    "# Function"
   ]
  },
  {
   "cell_type": "code",
   "execution_count": 24,
   "metadata": {
    "collapsed": false
   },
   "outputs": [
    {
     "name": "stdout",
     "output_type": "stream",
     "text": [
      "developers \n"
     ]
    }
   ],
   "source": [
    "def say(message, times=1):\n",
    "    print (message + ' ') * times\n",
    "    \n",
    "say('developers')"
   ]
  },
  {
   "cell_type": "code",
   "execution_count": 25,
   "metadata": {
    "collapsed": false
   },
   "outputs": [
    {
     "name": "stdout",
     "output_type": "stream",
     "text": [
      "developers developers developers \n"
     ]
    }
   ],
   "source": [
    "say('developers', times=3)"
   ]
  },
  {
   "cell_type": "markdown",
   "metadata": {},
   "source": [
    "## Ex 1."
   ]
  },
  {
   "cell_type": "markdown",
   "metadata": {
    "collapsed": true
   },
   "source": [
    "* Install Anaconda, including IPython Notebook. \n",
    "* Create \"Hello World\" in IPython Notebook\n",
    "* Use IDLE to calculate:\n",
    "    1. 6+4*10\n",
    "    2. (6+4)*10 (Compare this to #1, and note that Python uses parentheses just like you would in normal math to\n",
    "    determine order of operations!)\n",
    "    3. 23.0 to the 5th power\n",
    "    4. Positive root of the following equation:\n",
    "    34*x^2 + 68*x - 510\n",
    "    Recall:\n",
    "    a*x^2 + b*x + c\n",
    "    x1 = ( - b + sqrt ( b*b - 4*a*c ) ) / ( 2*a) \n",
    "* Use IPython Notebook to repeat exercises"
   ]
  },
  {
   "cell_type": "markdown",
   "metadata": {},
   "source": [
    "# Ex. 2\n",
    "\n",
    "Create simple python script \"print_tictactoe.py\" that will after running print out:\n",
    "    \n",
    "<img src=\"img/tictactoe.png\">"
   ]
  },
  {
   "cell_type": "markdown",
   "metadata": {},
   "source": [
    "# Ex. 3\n",
    "\n",
    "Add easy to change way to store \"X\" in any cell. \n",
    "\n",
    "Try to write program in as few lines as possible."
   ]
  },
  {
   "cell_type": "markdown",
   "metadata": {},
   "source": [
    "## Ex 4.\n",
    "Find and fix bugs in following functions"
   ]
  },
  {
   "cell_type": "code",
   "execution_count": 27,
   "metadata": {
    "collapsed": false
   },
   "outputs": [
    {
     "name": "stdout",
     "output_type": "stream",
     "text": [
      "True\n",
      "False\n",
      "False\n"
     ]
    }
   ],
   "source": [
    "def how_many_digits(n):\n",
    "    \"\"\" Get number of digits in n \"\"\"\n",
    "    if n==0:\n",
    "        return 1\n",
    "    digits = 0\n",
    "    while n > 0:\n",
    "        n %= 10\n",
    "        digits += 1\n",
    "    return digits\n",
    "\n",
    "print how_many_digits(0) == 1\n",
    "print how_many_digits(10) == 2\n",
    "print how_many_digits(1234567890) == 10"
   ]
  },
  {
   "cell_type": "code",
   "execution_count": 15,
   "metadata": {
    "collapsed": false
   },
   "outputs": [
    {
     "ename": "UnboundLocalError",
     "evalue": "local variable 'result' referenced before assignment",
     "output_type": "error",
     "traceback": [
      "\u001b[0;31m---------------------------------------------------------------------------\u001b[0m",
      "\u001b[0;31mUnboundLocalError\u001b[0m                         Traceback (most recent call last)",
      "\u001b[0;32m<ipython-input-15-78c335c42359>\u001b[0m in \u001b[0;36m<module>\u001b[0;34m()\u001b[0m\n\u001b[1;32m      6\u001b[0m     \u001b[0;32mreturn\u001b[0m \u001b[0mresult\u001b[0m\u001b[0;34m\u001b[0m\u001b[0m\n\u001b[1;32m      7\u001b[0m \u001b[0;34m\u001b[0m\u001b[0m\n\u001b[0;32m----> 8\u001b[0;31m \u001b[0;32mprint\u001b[0m \u001b[0msum_of_cubes\u001b[0m\u001b[0;34m(\u001b[0m\u001b[0;36m1\u001b[0m\u001b[0;34m)\u001b[0m \u001b[0;34m==\u001b[0m \u001b[0;36m1\u001b[0m\u001b[0;34m\u001b[0m\u001b[0m\n\u001b[0m\u001b[1;32m      9\u001b[0m \u001b[0;32mprint\u001b[0m \u001b[0msum_of_cubes\u001b[0m\u001b[0;34m(\u001b[0m\u001b[0;36m3\u001b[0m\u001b[0;34m)\u001b[0m \u001b[0;34m==\u001b[0m \u001b[0;36m36\u001b[0m\u001b[0;34m\u001b[0m\u001b[0m\n",
      "\u001b[0;32m<ipython-input-15-78c335c42359>\u001b[0m in \u001b[0;36msum_of_cubes\u001b[0;34m(n)\u001b[0m\n\u001b[1;32m      3\u001b[0m     \u001b[0mi\u001b[0m \u001b[0;34m=\u001b[0m \u001b[0;36m0\u001b[0m\u001b[0;34m\u001b[0m\u001b[0m\n\u001b[1;32m      4\u001b[0m     \u001b[0;32mfor\u001b[0m \u001b[0mi\u001b[0m \u001b[0;32min\u001b[0m \u001b[0mrange\u001b[0m\u001b[0;34m(\u001b[0m\u001b[0;36m1\u001b[0m\u001b[0;34m,\u001b[0m \u001b[0mn\u001b[0m\u001b[0;34m+\u001b[0m\u001b[0;36m1\u001b[0m\u001b[0;34m)\u001b[0m\u001b[0;34m:\u001b[0m\u001b[0;34m\u001b[0m\u001b[0m\n\u001b[0;32m----> 5\u001b[0;31m         \u001b[0mresult\u001b[0m \u001b[0;34m+=\u001b[0m \u001b[0mi\u001b[0m\u001b[0;34m**\u001b[0m\u001b[0;36m3\u001b[0m\u001b[0;34m\u001b[0m\u001b[0m\n\u001b[0m\u001b[1;32m      6\u001b[0m     \u001b[0;32mreturn\u001b[0m \u001b[0mresult\u001b[0m\u001b[0;34m\u001b[0m\u001b[0m\n\u001b[1;32m      7\u001b[0m \u001b[0;34m\u001b[0m\u001b[0m\n",
      "\u001b[0;31mUnboundLocalError\u001b[0m: local variable 'result' referenced before assignment"
     ]
    }
   ],
   "source": [
    "def sum_of_cubes(n): \n",
    "    \"\"\" Returns sum of cubes from 1 to n+1 \"\"\"\n",
    "    i = 0\n",
    "    for i in range(1, n+1):\n",
    "        result += i**3\n",
    "    return result\n",
    "\n",
    "print sum_of_cubes(1) == 1\n",
    "print sum_of_cubes(3) == 36"
   ]
  },
  {
   "cell_type": "code",
   "execution_count": null,
   "metadata": {
    "collapsed": true
   },
   "outputs": [],
   "source": []
  }
 ],
 "metadata": {
  "kernelspec": {
   "display_name": "Python 2",
   "language": "python",
   "name": "python2"
  },
  "language_info": {
   "codemirror_mode": {
    "name": "ipython",
    "version": 2
   },
   "file_extension": ".py",
   "mimetype": "text/x-python",
   "name": "python",
   "nbconvert_exporter": "python",
   "pygments_lexer": "ipython2",
   "version": "2.7.11"
  }
 },
 "nbformat": 4,
 "nbformat_minor": 0
}
